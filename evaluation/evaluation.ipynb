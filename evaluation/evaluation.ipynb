version https://git-lfs.github.com/spec/v1
oid sha256:8e08446137660858aacfe143483d8a54877f94c80f09d512a52f84ed1e8e6ff2
size 98015
