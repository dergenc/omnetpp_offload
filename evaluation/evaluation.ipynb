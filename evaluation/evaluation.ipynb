version https://git-lfs.github.com/spec/v1
oid sha256:6bb7e162f0f2432737bd80a6d70e10de9a4664c8f05fadb5916714bbc7657f7c
size 60721
