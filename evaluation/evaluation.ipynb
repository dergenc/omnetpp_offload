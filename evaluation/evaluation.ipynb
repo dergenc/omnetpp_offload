{
 "cells": [
  {
   "cell_type": "code",
   "execution_count": 1,
   "id": "353bd8a4",
   "metadata": {},
   "outputs": [],
   "source": [
    "import numpy as np\n",
    "import pandas as pd\n",
    "import matplotlib.pyplot as plt"
   ]
  },
  {
   "cell_type": "code",
   "execution_count": 2,
   "id": "62c76655",
   "metadata": {},
   "outputs": [
    {
     "name": "stdout",
     "output_type": "stream",
     "text": [
      "<class 'pandas.core.frame.DataFrame'>\n",
      "RangeIndex: 2340 entries, 0 to 2339\n",
      "Data columns (total 10 columns):\n",
      " #   Column        Non-Null Count  Dtype                                \n",
      "---  ------        --------------  -----                                \n",
      " 0   scenarioId    2340 non-null   object                               \n",
      " 1   trailId       2340 non-null   int64                                \n",
      " 2   simulationId  2340 non-null   object                               \n",
      " 3   timeStamp     2340 non-null   datetime64[ns, pytz.FixedOffset(120)]\n",
      " 4   providerId    2340 non-null   object                               \n",
      " 5   eventId       2340 non-null   object                               \n",
      " 6   step          2340 non-null   int64                                \n",
      " 7   runConfig     2340 non-null   object                               \n",
      " 8   runNumber     2340 non-null   int64                                \n",
      " 9   error         0 non-null      float64                              \n",
      "dtypes: datetime64[ns, pytz.FixedOffset(120)](1), float64(1), int64(3), object(5)\n",
      "memory usage: 182.9+ KB\n"
     ]
    },
    {
     "data": {
      "text/html": [
       "<div>\n",
       "<style scoped>\n",
       "    .dataframe tbody tr th:only-of-type {\n",
       "        vertical-align: middle;\n",
       "    }\n",
       "\n",
       "    .dataframe tbody tr th {\n",
       "        vertical-align: top;\n",
       "    }\n",
       "\n",
       "    .dataframe thead th {\n",
       "        text-align: right;\n",
       "    }\n",
       "</style>\n",
       "<table border=\"1\" class=\"dataframe\">\n",
       "  <thead>\n",
       "    <tr style=\"text-align: right;\">\n",
       "      <th></th>\n",
       "      <th>scenarioId</th>\n",
       "      <th>trailId</th>\n",
       "      <th>simulationId</th>\n",
       "      <th>timeStamp</th>\n",
       "      <th>providerId</th>\n",
       "      <th>eventId</th>\n",
       "      <th>step</th>\n",
       "      <th>runConfig</th>\n",
       "      <th>runNumber</th>\n",
       "      <th>error</th>\n",
       "    </tr>\n",
       "  </thead>\n",
       "  <tbody>\n",
       "    <tr>\n",
       "      <th>0</th>\n",
       "      <td>s1p</td>\n",
       "      <td>0</td>\n",
       "      <td>tictoc-c4eb6200</td>\n",
       "      <td>2021-09-17 11:52:25.329268+02:00</td>\n",
       "      <td>patricks-mbp-89fa3d43</td>\n",
       "      <td>0xc358f99b</td>\n",
       "      <td>1</td>\n",
       "      <td>TicToc18</td>\n",
       "      <td>0</td>\n",
       "      <td>NaN</td>\n",
       "    </tr>\n",
       "    <tr>\n",
       "      <th>1</th>\n",
       "      <td>s1p</td>\n",
       "      <td>0</td>\n",
       "      <td>tictoc-c4eb6200</td>\n",
       "      <td>2021-09-17 11:52:27.281892+02:00</td>\n",
       "      <td>patricks-mbp-89fa3d43</td>\n",
       "      <td>0xc358f99b</td>\n",
       "      <td>2</td>\n",
       "      <td>TicToc18</td>\n",
       "      <td>0</td>\n",
       "      <td>NaN</td>\n",
       "    </tr>\n",
       "    <tr>\n",
       "      <th>2</th>\n",
       "      <td>s1p</td>\n",
       "      <td>0</td>\n",
       "      <td>tictoc-c4eb6200</td>\n",
       "      <td>2021-09-17 11:52:27.444142+02:00</td>\n",
       "      <td>patricks-mbp-89fa3d43</td>\n",
       "      <td>0x1c8cc473</td>\n",
       "      <td>1</td>\n",
       "      <td>TicToc18</td>\n",
       "      <td>1</td>\n",
       "      <td>NaN</td>\n",
       "    </tr>\n",
       "    <tr>\n",
       "      <th>3</th>\n",
       "      <td>s1p</td>\n",
       "      <td>0</td>\n",
       "      <td>tictoc-c4eb6200</td>\n",
       "      <td>2021-09-17 11:52:29.291028+02:00</td>\n",
       "      <td>patricks-mbp-89fa3d43</td>\n",
       "      <td>0x1c8cc473</td>\n",
       "      <td>2</td>\n",
       "      <td>TicToc18</td>\n",
       "      <td>1</td>\n",
       "      <td>NaN</td>\n",
       "    </tr>\n",
       "    <tr>\n",
       "      <th>4</th>\n",
       "      <td>s1p</td>\n",
       "      <td>0</td>\n",
       "      <td>tictoc-c4eb6200</td>\n",
       "      <td>2021-09-17 11:52:29.456510+02:00</td>\n",
       "      <td>patricks-mbp-89fa3d43</td>\n",
       "      <td>0x5802079c</td>\n",
       "      <td>1</td>\n",
       "      <td>TicToc18</td>\n",
       "      <td>2</td>\n",
       "      <td>NaN</td>\n",
       "    </tr>\n",
       "  </tbody>\n",
       "</table>\n",
       "</div>"
      ],
      "text/plain": [
       "  scenarioId  trailId     simulationId                        timeStamp  \\\n",
       "0        s1p        0  tictoc-c4eb6200 2021-09-17 11:52:25.329268+02:00   \n",
       "1        s1p        0  tictoc-c4eb6200 2021-09-17 11:52:27.281892+02:00   \n",
       "2        s1p        0  tictoc-c4eb6200 2021-09-17 11:52:27.444142+02:00   \n",
       "3        s1p        0  tictoc-c4eb6200 2021-09-17 11:52:29.291028+02:00   \n",
       "4        s1p        0  tictoc-c4eb6200 2021-09-17 11:52:29.456510+02:00   \n",
       "\n",
       "              providerId     eventId  step runConfig  runNumber  error  \n",
       "0  patricks-mbp-89fa3d43  0xc358f99b     1  TicToc18          0    NaN  \n",
       "1  patricks-mbp-89fa3d43  0xc358f99b     2  TicToc18          0    NaN  \n",
       "2  patricks-mbp-89fa3d43  0x1c8cc473     1  TicToc18          1    NaN  \n",
       "3  patricks-mbp-89fa3d43  0x1c8cc473     2  TicToc18          1    NaN  \n",
       "4  patricks-mbp-89fa3d43  0x5802079c     1  TicToc18          2    NaN  "
      ]
     },
     "execution_count": 2,
     "metadata": {},
     "output_type": "execute_result"
    }
   ],
   "source": [
    "dfr = pd.read_csv(\"data/runs.csv\", parse_dates=['timeStamp'])\n",
    "dfr.info()\n",
    "dfr.head()"
   ]
  },
  {
   "cell_type": "code",
   "execution_count": 3,
   "id": "3e672050",
   "metadata": {},
   "outputs": [
    {
     "name": "stdout",
     "output_type": "stream",
     "text": [
      "<class 'pandas.core.frame.DataFrame'>\n",
      "RangeIndex: 2400 entries, 0 to 2399\n",
      "Data columns (total 11 columns):\n",
      " #   Column        Non-Null Count  Dtype                                \n",
      "---  ------        --------------  -----                                \n",
      " 0   scenarioId    2400 non-null   object                               \n",
      " 1   trailId       2400 non-null   int64                                \n",
      " 2   simulationId  2400 non-null   object                               \n",
      " 3   timeStamp     2400 non-null   datetime64[ns, pytz.FixedOffset(120)]\n",
      " 4   providerId    2400 non-null   object                               \n",
      " 5   eventId       2400 non-null   object                               \n",
      " 6   step          2400 non-null   int64                                \n",
      " 7   direction     2400 non-null   object                               \n",
      " 8   file          2400 non-null   object                               \n",
      " 9   transferred   2400 non-null   int64                                \n",
      " 10  error         0 non-null      float64                              \n",
      "dtypes: datetime64[ns, pytz.FixedOffset(120)](1), float64(1), int64(3), object(6)\n",
      "memory usage: 206.4+ KB\n"
     ]
    },
    {
     "data": {
      "text/html": [
       "<div>\n",
       "<style scoped>\n",
       "    .dataframe tbody tr th:only-of-type {\n",
       "        vertical-align: middle;\n",
       "    }\n",
       "\n",
       "    .dataframe tbody tr th {\n",
       "        vertical-align: top;\n",
       "    }\n",
       "\n",
       "    .dataframe thead th {\n",
       "        text-align: right;\n",
       "    }\n",
       "</style>\n",
       "<table border=\"1\" class=\"dataframe\">\n",
       "  <thead>\n",
       "    <tr style=\"text-align: right;\">\n",
       "      <th></th>\n",
       "      <th>scenarioId</th>\n",
       "      <th>trailId</th>\n",
       "      <th>simulationId</th>\n",
       "      <th>timeStamp</th>\n",
       "      <th>providerId</th>\n",
       "      <th>eventId</th>\n",
       "      <th>step</th>\n",
       "      <th>direction</th>\n",
       "      <th>file</th>\n",
       "      <th>transferred</th>\n",
       "      <th>error</th>\n",
       "    </tr>\n",
       "  </thead>\n",
       "  <tbody>\n",
       "    <tr>\n",
       "      <th>0</th>\n",
       "      <td>s1p</td>\n",
       "      <td>0</td>\n",
       "      <td>tictoc-c4eb6200</td>\n",
       "      <td>2021-09-17 11:52:16.286896343+02:00</td>\n",
       "      <td>patricks-mbp-89fa3d43</td>\n",
       "      <td>0x5a92f3c</td>\n",
       "      <td>1</td>\n",
       "      <td>Upload</td>\n",
       "      <td>source.tgz</td>\n",
       "      <td>0</td>\n",
       "      <td>NaN</td>\n",
       "    </tr>\n",
       "    <tr>\n",
       "      <th>1</th>\n",
       "      <td>s1p</td>\n",
       "      <td>0</td>\n",
       "      <td>tictoc-c4eb6200</td>\n",
       "      <td>2021-09-17 11:52:16.770951872+02:00</td>\n",
       "      <td>patricks-mbp-89fa3d43</td>\n",
       "      <td>0x5a92f3c</td>\n",
       "      <td>2</td>\n",
       "      <td>Upload</td>\n",
       "      <td>source.tgz</td>\n",
       "      <td>489117</td>\n",
       "      <td>NaN</td>\n",
       "    </tr>\n",
       "    <tr>\n",
       "      <th>2</th>\n",
       "      <td>s1p</td>\n",
       "      <td>0</td>\n",
       "      <td>tictoc-c4eb6200</td>\n",
       "      <td>2021-09-17 11:52:24.792039528+02:00</td>\n",
       "      <td>patricks-mbp-89fa3d43</td>\n",
       "      <td>0xbac465b7</td>\n",
       "      <td>1</td>\n",
       "      <td>Download</td>\n",
       "      <td>binary/darwin_amd64.tgz</td>\n",
       "      <td>0</td>\n",
       "      <td>NaN</td>\n",
       "    </tr>\n",
       "    <tr>\n",
       "      <th>3</th>\n",
       "      <td>s1p</td>\n",
       "      <td>0</td>\n",
       "      <td>tictoc-c4eb6200</td>\n",
       "      <td>2021-09-17 11:52:25.118406085+02:00</td>\n",
       "      <td>patricks-mbp-89fa3d43</td>\n",
       "      <td>0xbac465b7</td>\n",
       "      <td>2</td>\n",
       "      <td>Download</td>\n",
       "      <td>binary/darwin_amd64.tgz</td>\n",
       "      <td>353603</td>\n",
       "      <td>NaN</td>\n",
       "    </tr>\n",
       "    <tr>\n",
       "      <th>4</th>\n",
       "      <td>s1p</td>\n",
       "      <td>0</td>\n",
       "      <td>tictoc-c4eb6200</td>\n",
       "      <td>2021-09-17 11:52:27.439921806+02:00</td>\n",
       "      <td>patricks-mbp-89fa3d43</td>\n",
       "      <td>0x441b8be3</td>\n",
       "      <td>1</td>\n",
       "      <td>Download</td>\n",
       "      <td>results/TicToc18_0.tgz</td>\n",
       "      <td>0</td>\n",
       "      <td>NaN</td>\n",
       "    </tr>\n",
       "  </tbody>\n",
       "</table>\n",
       "</div>"
      ],
      "text/plain": [
       "  scenarioId  trailId     simulationId                           timeStamp  \\\n",
       "0        s1p        0  tictoc-c4eb6200 2021-09-17 11:52:16.286896343+02:00   \n",
       "1        s1p        0  tictoc-c4eb6200 2021-09-17 11:52:16.770951872+02:00   \n",
       "2        s1p        0  tictoc-c4eb6200 2021-09-17 11:52:24.792039528+02:00   \n",
       "3        s1p        0  tictoc-c4eb6200 2021-09-17 11:52:25.118406085+02:00   \n",
       "4        s1p        0  tictoc-c4eb6200 2021-09-17 11:52:27.439921806+02:00   \n",
       "\n",
       "              providerId     eventId  step direction                     file  \\\n",
       "0  patricks-mbp-89fa3d43   0x5a92f3c     1    Upload               source.tgz   \n",
       "1  patricks-mbp-89fa3d43   0x5a92f3c     2    Upload               source.tgz   \n",
       "2  patricks-mbp-89fa3d43  0xbac465b7     1  Download  binary/darwin_amd64.tgz   \n",
       "3  patricks-mbp-89fa3d43  0xbac465b7     2  Download  binary/darwin_amd64.tgz   \n",
       "4  patricks-mbp-89fa3d43  0x441b8be3     1  Download   results/TicToc18_0.tgz   \n",
       "\n",
       "   transferred  error  \n",
       "0            0    NaN  \n",
       "1       489117    NaN  \n",
       "2            0    NaN  \n",
       "3       353603    NaN  \n",
       "4            0    NaN  "
      ]
     },
     "execution_count": 3,
     "metadata": {},
     "output_type": "execute_result"
    }
   ],
   "source": [
    "dft = pd.read_csv(\"data/transfers.csv\", parse_dates=['timeStamp'])\n",
    "dft.info()\n",
    "dft.head()"
   ]
  },
  {
   "cell_type": "code",
   "execution_count": 4,
   "id": "f9a681fa",
   "metadata": {},
   "outputs": [
    {
     "name": "stdout",
     "output_type": "stream",
     "text": [
      "<class 'pandas.core.frame.DataFrame'>\n",
      "RangeIndex: 4770 entries, 0 to 4769\n",
      "Data columns (total 10 columns):\n",
      " #   Column        Non-Null Count  Dtype                                \n",
      "---  ------        --------------  -----                                \n",
      " 0   scenarioId    4770 non-null   object                               \n",
      " 1   trailId       4770 non-null   int64                                \n",
      " 2   simulationId  4770 non-null   object                               \n",
      " 3   timeStamp     4770 non-null   datetime64[ns, pytz.FixedOffset(120)]\n",
      " 4   deviceId      4770 non-null   object                               \n",
      " 5   action        4770 non-null   object                               \n",
      " 6   meta          4770 non-null   object                               \n",
      " 7   eventId       4770 non-null   object                               \n",
      " 8   step          4770 non-null   int64                                \n",
      " 9   error         0 non-null      float64                              \n",
      "dtypes: datetime64[ns, pytz.FixedOffset(120)](1), float64(1), int64(2), object(6)\n",
      "memory usage: 372.8+ KB\n"
     ]
    },
    {
     "data": {
      "text/html": [
       "<div>\n",
       "<style scoped>\n",
       "    .dataframe tbody tr th:only-of-type {\n",
       "        vertical-align: middle;\n",
       "    }\n",
       "\n",
       "    .dataframe tbody tr th {\n",
       "        vertical-align: top;\n",
       "    }\n",
       "\n",
       "    .dataframe thead th {\n",
       "        text-align: right;\n",
       "    }\n",
       "</style>\n",
       "<table border=\"1\" class=\"dataframe\">\n",
       "  <thead>\n",
       "    <tr style=\"text-align: right;\">\n",
       "      <th></th>\n",
       "      <th>scenarioId</th>\n",
       "      <th>trailId</th>\n",
       "      <th>simulationId</th>\n",
       "      <th>timeStamp</th>\n",
       "      <th>deviceId</th>\n",
       "      <th>action</th>\n",
       "      <th>meta</th>\n",
       "      <th>eventId</th>\n",
       "      <th>step</th>\n",
       "      <th>error</th>\n",
       "    </tr>\n",
       "  </thead>\n",
       "  <tbody>\n",
       "    <tr>\n",
       "      <th>0</th>\n",
       "      <td>s1p</td>\n",
       "      <td>0</td>\n",
       "      <td>tictoc-c4eb6200</td>\n",
       "      <td>2021-09-17 11:52:15.630375748+02:00</td>\n",
       "      <td>consumer</td>\n",
       "      <td>Compress</td>\n",
       "      <td>source</td>\n",
       "      <td>0x7dbdafd0</td>\n",
       "      <td>1</td>\n",
       "      <td>NaN</td>\n",
       "    </tr>\n",
       "    <tr>\n",
       "      <th>1</th>\n",
       "      <td>s1p</td>\n",
       "      <td>0</td>\n",
       "      <td>tictoc-c4eb6200</td>\n",
       "      <td>2021-09-17 11:52:15.710196224+02:00</td>\n",
       "      <td>consumer</td>\n",
       "      <td>Compress</td>\n",
       "      <td>source</td>\n",
       "      <td>0x7dbdafd0</td>\n",
       "      <td>2</td>\n",
       "      <td>NaN</td>\n",
       "    </tr>\n",
       "    <tr>\n",
       "      <th>2</th>\n",
       "      <td>s1p</td>\n",
       "      <td>0</td>\n",
       "      <td>tictoc-c4eb6200</td>\n",
       "      <td>2021-09-17 11:52:17.154177+02:00</td>\n",
       "      <td>patricks-mbp-89fa3d43</td>\n",
       "      <td>Compile</td>\n",
       "      <td>darwin_amd64</td>\n",
       "      <td>0x28872e5</td>\n",
       "      <td>1</td>\n",
       "      <td>NaN</td>\n",
       "    </tr>\n",
       "    <tr>\n",
       "      <th>3</th>\n",
       "      <td>s1p</td>\n",
       "      <td>0</td>\n",
       "      <td>tictoc-c4eb6200</td>\n",
       "      <td>2021-09-17 11:52:24.607059+02:00</td>\n",
       "      <td>patricks-mbp-89fa3d43</td>\n",
       "      <td>Compile</td>\n",
       "      <td>darwin_amd64</td>\n",
       "      <td>0x28872e5</td>\n",
       "      <td>2</td>\n",
       "      <td>NaN</td>\n",
       "    </tr>\n",
       "    <tr>\n",
       "      <th>4</th>\n",
       "      <td>s1p</td>\n",
       "      <td>0</td>\n",
       "      <td>tictoc-c4eb6200</td>\n",
       "      <td>2021-09-17 11:52:24.629565+02:00</td>\n",
       "      <td>patricks-mbp-89fa3d43</td>\n",
       "      <td>Compress</td>\n",
       "      <td>binary/darwin_amd64.tgz</td>\n",
       "      <td>0x9359d925</td>\n",
       "      <td>1</td>\n",
       "      <td>NaN</td>\n",
       "    </tr>\n",
       "  </tbody>\n",
       "</table>\n",
       "</div>"
      ],
      "text/plain": [
       "  scenarioId  trailId     simulationId                           timeStamp  \\\n",
       "0        s1p        0  tictoc-c4eb6200 2021-09-17 11:52:15.630375748+02:00   \n",
       "1        s1p        0  tictoc-c4eb6200 2021-09-17 11:52:15.710196224+02:00   \n",
       "2        s1p        0  tictoc-c4eb6200    2021-09-17 11:52:17.154177+02:00   \n",
       "3        s1p        0  tictoc-c4eb6200    2021-09-17 11:52:24.607059+02:00   \n",
       "4        s1p        0  tictoc-c4eb6200    2021-09-17 11:52:24.629565+02:00   \n",
       "\n",
       "                deviceId    action                     meta     eventId  step  \\\n",
       "0               consumer  Compress                   source  0x7dbdafd0     1   \n",
       "1               consumer  Compress                   source  0x7dbdafd0     2   \n",
       "2  patricks-mbp-89fa3d43   Compile             darwin_amd64   0x28872e5     1   \n",
       "3  patricks-mbp-89fa3d43   Compile             darwin_amd64   0x28872e5     2   \n",
       "4  patricks-mbp-89fa3d43  Compress  binary/darwin_amd64.tgz  0x9359d925     1   \n",
       "\n",
       "   error  \n",
       "0    NaN  \n",
       "1    NaN  \n",
       "2    NaN  \n",
       "3    NaN  \n",
       "4    NaN  "
      ]
     },
     "execution_count": 4,
     "metadata": {},
     "output_type": "execute_result"
    }
   ],
   "source": [
    "dfa = pd.read_csv(\"data/actions.csv\", parse_dates=['timeStamp'])\n",
    "dfa.info()\n",
    "dfa.head()"
   ]
  },
  {
   "cell_type": "code",
   "execution_count": 11,
   "id": "6b474f62",
   "metadata": {},
   "outputs": [
    {
     "data": {
      "text/plain": [
       "([0, 1, 2, 3, 4, 5, 6, 7, 8, 9, 10, 11, 12, 13, 14],\n",
       " [Text(0, 0, ''),\n",
       "  Text(0, 0, ''),\n",
       "  Text(0, 0, ''),\n",
       "  Text(0, 0, ''),\n",
       "  Text(0, 0, ''),\n",
       "  Text(0, 0, ''),\n",
       "  Text(0, 0, ''),\n",
       "  Text(0, 0, ''),\n",
       "  Text(0, 0, ''),\n",
       "  Text(0, 0, ''),\n",
       "  Text(0, 0, ''),\n",
       "  Text(0, 0, ''),\n",
       "  Text(0, 0, ''),\n",
       "  Text(0, 0, ''),\n",
       "  Text(0, 0, '')])"
      ]
     },
     "execution_count": 11,
     "metadata": {},
     "output_type": "execute_result"
    },
    {
     "data": {
      "image/png": "[encoded data removed]",
      "text/plain": [
       "<Figure size 432x288 with 1 Axes>"
      ]
     },
     "metadata": {
      "needs_background": "light"
     },
     "output_type": "display_data"
    }
   ],
   "source": [
    "scenarios = dfr.scenarioId.sort_values().unique()\n",
    "\n",
    "plt.title(\"Execution duration in sec\")\n",
    "\n",
    "for scenario in scenarios:\n",
    "    for trail in dfr.loc[dfr.scenarioId == scenario].trailId.unique():\n",
    "        execution_start = dfr.loc[(dfr.trailId == trail) & (dfr.scenarioId == scenario) & (dfr.step == 1)].sort_values(by=['eventId'])\n",
    "        execution_end   = dfr.loc[(dfr.trailId == trail) & (dfr.scenarioId == scenario) & (dfr.step == 2)].sort_values(by=['eventId'])\n",
    "\n",
    "        durations = pd.to_timedelta(execution_end.timeStamp.values - execution_start.timeStamp.values)\n",
    "        mean = durations.mean()\n",
    "        std = durations.std()\n",
    "\n",
    "        plt.bar(f\"{scenario}-{trail}\", mean.total_seconds())\n",
    "\n",
    "plt.xticks(rotation = 90)\n"
   ]
  },
  {
   "cell_type": "code",
   "execution_count": 12,
   "id": "625822d0",
   "metadata": {},
   "outputs": [
    {
     "data": {
      "text/plain": [
       "<matplotlib.legend.Legend at 0x7fda6a04a9d0>"
      ]
     },
     "execution_count": 12,
     "metadata": {},
     "output_type": "execute_result"
    },
    {
     "data": {
      "image/png": "[encoded data removed]",
      "text/plain": [
       "<Figure size 432x288 with 1 Axes>"
      ]
     },
     "metadata": {
      "needs_background": "light"
     },
     "output_type": "display_data"
    }
   ],
   "source": [
    "scenarios = dfr.scenarioId.sort_values().unique()\n",
    "\n",
    "for scenario in scenarios:\n",
    "    execution_start = dfr.loc[(dfr.trailId == 0) & (dfr.scenarioId == scenario) & (dfr.step == 1)].sort_values(by=['runNumber'])\n",
    "    execution_end   = dfr.loc[(dfr.trailId == 0) & (dfr.scenarioId == scenario) & (dfr.step == 2)].sort_values(by=['runNumber'])\n",
    "\n",
    "    xVals = dfr.loc[(dfr.trailId == 0) & (dfr.scenarioId == scenario)].runNumber.sort_values().unique()\n",
    "    durations = pd.to_timedelta(execution_end.timeStamp.values - execution_start.timeStamp.values)\n",
    "\n",
    "    plt.plot(xVals, durations, label=scenario)\n",
    "\n",
    "plt.legend()\n",
    "    "
   ]
  },
  {
   "cell_type": "code",
   "execution_count": 13,
   "id": "b2d53db5",
   "metadata": {},
   "outputs": [
    {
     "data": {
      "image/png": "[encoded data removed]",
      "text/plain": [
       "<Figure size 432x288 with 1 Axes>"
      ]
     },
     "metadata": {
      "needs_background": "light"
     },
     "output_type": "display_data"
    }
   ],
   "source": [
    "scenarios = dfr.scenarioId.sort_values().unique()\n",
    "\n",
    "plt.title(\"Mean execution duration per run in sec\")\n",
    "\n",
    "for scenario in scenarios:\n",
    "    execution_start = dfr.loc[(dfr.scenarioId == scenario) & (dfr.step == 1)].sort_values(by=['eventId'])\n",
    "    execution_end   = dfr.loc[(dfr.scenarioId == scenario) & (dfr.step == 2)].sort_values(by=['eventId'])\n",
    "\n",
    "    durations = pd.to_timedelta(execution_end.timeStamp.values - execution_start.timeStamp.values)\n",
    "    mean = durations.mean()\n",
    "    std = durations.std()\n",
    "\n",
    "    plt.bar(f\"{scenario}\", mean.total_seconds(), yerr=std.total_seconds(), capsize=10)\n"
   ]
  },
  {
   "cell_type": "code",
   "execution_count": 8,
   "id": "eb4902f6",
   "metadata": {},
   "outputs": [
    {
     "name": "stdout",
     "output_type": "stream",
     "text": [
      "Compile ['s1p', 's2p', 's3p', 's4p', 's5p'] [20.72517  19.945927 19.351018 19.787151 19.330975]\n",
      "Compress ['s1p', 's2p', 's3p', 's4p', 's5p'] [12.098204 12.359485 11.37807  11.772976 16.281225]\n",
      "Extract ['s1p', 's2p', 's3p', 's4p', 's5p'] [5.680632 5.799989 5.734306 5.550867 5.700183]\n"
     ]
    },
    {
     "data": {
      "text/plain": [
       "<matplotlib.legend.Legend at 0x7fda6a04a580>"
      ]
     },
     "execution_count": 8,
     "metadata": {},
     "output_type": "execute_result"
    },
    {
     "data": {
      "image/png": "[encoded data removed]",
      "text/plain": [
       "<Figure size 432x288 with 1 Axes>"
      ]
     },
     "metadata": {
      "needs_background": "light"
     },
     "output_type": "display_data"
    }
   ],
   "source": [
    "scenarios = dfa.scenarioId.sort_values().unique()\n",
    "actions = dfa.action.sort_values().unique()\n",
    "\n",
    "plt.title(\"Action duration in sec\")\n",
    "\n",
    "bottom = np.zeros(len(scenarios))\n",
    "for action in actions:\n",
    "    labels = []\n",
    "    vals = np.zeros(len(scenarios))\n",
    "\n",
    "    for inx, scenario in enumerate(scenarios):\n",
    "        execution_start = dfa.loc[(dfa.scenarioId == scenario) & (dfa.action == action) & (dfa.step == 1)].sort_values(by=['eventId'])\n",
    "        execution_end   = dfa.loc[(dfa.scenarioId == scenario) & (dfa.action == action) & (dfa.step == 2)].sort_values(by=['eventId'])\n",
    "\n",
    "        durations = pd.to_timedelta(execution_end.timeStamp.values - execution_start.timeStamp.values)\n",
    "        val = durations.sum()\n",
    "\n",
    "        labels.append(f\"{scenario}\")\n",
    "        vals[inx] = val.total_seconds()\n",
    "\n",
    "    plt.bar(labels, vals, label=action, bottom=bottom)\n",
    "    print(action, labels, vals)\n",
    "    bottom += vals\n",
    "    \n",
    "plt.legend()\n",
    "\n",
    "    "
   ]
  },
  {
   "cell_type": "code",
   "execution_count": 15,
   "id": "5c138fa4",
   "metadata": {},
   "outputs": [
    {
     "name": "stdout",
     "output_type": "stream",
     "text": [
      "scenario-s1p direction=Upload   tranfered=  1485008 sum=  1 val=12.61\n",
      "scenario-s1p direction=Download tranfered=  7178389 sum= 16 val= 4.54\n",
      "scenario-s2p direction=Upload   tranfered=  1516849 sum=  1 val=13.03\n",
      "scenario-s2p direction=Download tranfered=  7204113 sum= 17 val= 4.23\n",
      "scenario-s3p direction=Upload   tranfered=  1507327 sum=  1 val=10.19\n",
      "scenario-s3p direction=Download tranfered=  7195770 sum= 15 val= 4.73\n",
      "scenario-s4p direction=Upload   tranfered=  1504009 sum=  1 val=12.91\n",
      "scenario-s4p direction=Download tranfered=  7193401 sum= 15 val= 4.72\n",
      "scenario-s5p direction=Upload   tranfered=  1491293 sum=  1 val=10.49\n",
      "scenario-s5p direction=Download tranfered=  7200111 sum= 17 val= 4.35\n"
     ]
    },
    {
     "data": {
      "image/png": "[encoded data removed]",
      "text/plain": [
       "<Figure size 432x288 with 1 Axes>"
      ]
     },
     "metadata": {
      "needs_background": "light"
     },
     "output_type": "display_data"
    }
   ],
   "source": [
    "scenarios = dft.scenarioId.sort_values().unique()\n",
    "\n",
    "directions = dft.direction.unique()\n",
    "#directions = [\"Download\"]\n",
    "\n",
    "plt.title(\"Transfer speed\")\n",
    "\n",
    "for scenario in scenarios:    \n",
    "    for inx, direction in enumerate(directions):\n",
    "        tranfer_start = dft.loc[(dft.scenarioId == scenario) & (dft.direction == direction) & (dft.step == 1)].sort_values(by=['eventId'])\n",
    "        tranfer_end   = dft.loc[(dft.scenarioId == scenario) & (dft.direction == direction) & (dft.step == 2)].sort_values(by=['eventId'])\n",
    "        tranfered     = dft.loc[(dft.scenarioId == scenario) & (dft.direction == direction)].transferred.sum()\n",
    "\n",
    "        durations = pd.to_timedelta(tranfer_end.timeStamp.values - tranfer_start.timeStamp.values)\n",
    "        val = tranfered / durations.sum().total_seconds() / 100000\n",
    "\n",
    "        print(f\"scenario-%-2s direction=%-8s tranfered=%9d sum=%3.f val=%5.2f\" % (scenario, direction, tranfered, durations.sum().total_seconds(), val))\n",
    "\n",
    "        plt.bar(f\"{scenario} {direction[0]}\", val)\n",
    "        "
   ]
  },
  {
   "cell_type": "code",
   "execution_count": 16,
   "id": "02642dd1",
   "metadata": {},
   "outputs": [
    {
     "name": "stdout",
     "output_type": "stream",
     "text": [
      "Execution ['s1p', 's2p', 's3p', 's4p', 's5p'] [444.910662 466.512096 493.204722 729.518369 965.634102]\n",
      "Upload ['s1p', 's2p', 's3p', 's4p', 's5p'] [1.17753  1.164356 1.478972 1.164933 1.422151]\n",
      "Download ['s1p', 's2p', 's3p', 's4p', 's5p'] [15.826334 17.021989 15.214266 15.232071 16.567285]\n",
      "Compile ['s1p', 's2p', 's3p', 's4p', 's5p'] [20.72517  19.945927 19.351018 19.787151 19.330975]\n",
      "Compress ['s1p', 's2p', 's3p', 's4p', 's5p'] [12.098204 12.359485 11.37807  11.772976 16.281225]\n",
      "Extract ['s1p', 's2p', 's3p', 's4p', 's5p'] [5.680632 5.799989 5.734306 5.550867 5.700183]\n"
     ]
    },
    {
     "data": {
      "text/plain": [
       "<matplotlib.legend.Legend at 0x7fda69af4af0>"
      ]
     },
     "execution_count": 16,
     "metadata": {},
     "output_type": "execute_result"
    },
    {
     "data": {
      "image/png": "[encoded data removed]",
      "text/plain": [
       "<Figure size 432x288 with 1 Axes>"
      ]
     },
     "metadata": {
      "needs_background": "light"
     },
     "output_type": "display_data"
    }
   ],
   "source": [
    "scenarios = dfr.scenarioId.sort_values().unique()\n",
    "\n",
    "labels = []\n",
    "sums = np.zeros(len(scenarios))\n",
    "\n",
    "for inx, scenario in enumerate(scenarios):    \n",
    "    exe_start     = dfr.loc[(dfr.scenarioId == scenario) & (dfr.step == 1)].sort_values(by=['eventId'])\n",
    "    exe_end       = dfr.loc[(dfr.scenarioId == scenario) & (dfr.step == 2)].sort_values(by=['eventId'])\n",
    "    exe_durations = pd.to_timedelta(exe_end.timeStamp.values - exe_start.timeStamp.values)\n",
    "    su = exe_durations.sum().total_seconds()\n",
    "    sums[inx] = su\n",
    "    labels.append(f\"{scenario}\")\n",
    "\n",
    "print(\"Execution\", labels, sums)\n",
    "plt.bar(labels, sums, label=\"Execution\")\n",
    "\n",
    "bottom = np.zeros(len(scenarios))\n",
    "bottom += sums\n",
    "\n",
    "#'''\n",
    "for direction in dft.direction.unique():\n",
    "    labels = []\n",
    "    sums = np.zeros(len(scenarios))\n",
    "\n",
    "    for inx, scenario in enumerate(scenarios):    \n",
    "        dtranfer_start     = dft.loc[(dft.scenarioId == scenario) & (dft.direction == direction) & (dft.step == 1)].sort_values(by=['eventId'])\n",
    "        dtranfer_end       = dft.loc[(dft.scenarioId == scenario) & (dft.direction == direction) & (dft.step == 2)].sort_values(by=['eventId'])\n",
    "        dtranfer_durations = pd.to_timedelta(dtranfer_end.timeStamp.values - dtranfer_start.timeStamp.values)\n",
    "        su = dtranfer_durations.sum().total_seconds()\n",
    "        sums[inx] = su\n",
    "        labels.append(f\"{scenario}\")\n",
    "\n",
    "    print(direction, labels, sums)\n",
    "    plt.bar(labels, sums, label=direction, bottom=bottom)\n",
    "    bottom += sums\n",
    "#'''\n",
    "\n",
    "for action in actions:\n",
    "    labels = []\n",
    "    vals = np.zeros(len(scenarios))\n",
    "\n",
    "    for inx, scenario in enumerate(scenarios):\n",
    "        execution_start = dfa.loc[(dfa.scenarioId == scenario) & (dfa.action == action) & (dfa.step == 1)].sort_values(by=['eventId'])\n",
    "        execution_end   = dfa.loc[(dfa.scenarioId == scenario) & (dfa.action == action) & (dfa.step == 2)].sort_values(by=['eventId'])\n",
    "\n",
    "        durations = pd.to_timedelta(execution_end.timeStamp.values - execution_start.timeStamp.values)\n",
    "        val = durations.sum()\n",
    "\n",
    "        labels.append(f\"{scenario}\")\n",
    "        vals[inx] = val.total_seconds()\n",
    "\n",
    "    plt.bar(labels, vals, label=action, bottom=bottom)\n",
    "    print(action, labels, vals)\n",
    "    bottom += vals\n",
    "\n",
    "plt.legend()\n",
    "    "
   ]
  },
  {
   "cell_type": "code",
   "execution_count": null,
   "id": "b6169e5d",
   "metadata": {},
   "outputs": [],
   "source": []
  }
 ],
 "metadata": {
  "kernelspec": {
   "display_name": "Python 3 (ipykernel)",
   "language": "python",
   "name": "python3"
  },
  "language_info": {
   "codemirror_mode": {
    "name": "ipython",
    "version": 3
   },
   "file_extension": ".py",
   "mimetype": "text/x-python",
   "name": "python",
   "nbconvert_exporter": "python",
   "pygments_lexer": "ipython3",
   "version": "3.9.6"
  }
 },
 "nbformat": 4,
 "nbformat_minor": 5
}
