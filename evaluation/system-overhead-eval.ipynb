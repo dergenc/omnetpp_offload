{
 "cells": [
  {
   "cell_type": "code",
   "execution_count": 9,
   "id": "1fc1010f",
   "metadata": {},
   "outputs": [],
   "source": [
    "import numpy as np\n",
    "import pandas as pd\n",
    "import matplotlib.pyplot as plt"
   ]
  },
  {
   "cell_type": "code",
   "execution_count": 30,
   "id": "5b629bd2",
   "metadata": {},
   "outputs": [
    {
     "name": "stdout",
     "output_type": "stream",
     "text": [
      "<class 'pandas.core.frame.DataFrame'>\n",
      "RangeIndex: 2400 entries, 0 to 2399\n",
      "Data columns (total 11 columns):\n",
      " #   Column         Non-Null Count  Dtype                                \n",
      "---  ------         --------------  -----                                \n",
      " 0   scenario_id    2400 non-null   int64                                \n",
      " 1   simulation_id  2400 non-null   object                               \n",
      " 2   trail_id       2400 non-null   int64                                \n",
      " 3   time_stamp     2400 non-null   datetime64[ns, pytz.FixedOffset(120)]\n",
      " 4   provider_id    2400 non-null   object                               \n",
      " 5   command        2400 non-null   object                               \n",
      " 6   step           2400 non-null   int64                                \n",
      " 7   match_id       2400 non-null   object                               \n",
      " 8   run_config     2340 non-null   object                               \n",
      " 9   run_number     2340 non-null   float64                              \n",
      " 10  error          0 non-null      float64                              \n",
      "dtypes: datetime64[ns, pytz.FixedOffset(120)](1), float64(2), int64(3), object(5)\n",
      "memory usage: 206.4+ KB\n"
     ]
    },
    {
     "data": {
      "text/html": [
       "<div>\n",
       "<style scoped>\n",
       "    .dataframe tbody tr th:only-of-type {\n",
       "        vertical-align: middle;\n",
       "    }\n",
       "\n",
       "    .dataframe tbody tr th {\n",
       "        vertical-align: top;\n",
       "    }\n",
       "\n",
       "    .dataframe thead th {\n",
       "        text-align: right;\n",
       "    }\n",
       "</style>\n",
       "<table border=\"1\" class=\"dataframe\">\n",
       "  <thead>\n",
       "    <tr style=\"text-align: right;\">\n",
       "      <th></th>\n",
       "      <th>scenario_id</th>\n",
       "      <th>simulation_id</th>\n",
       "      <th>trail_id</th>\n",
       "      <th>time_stamp</th>\n",
       "      <th>provider_id</th>\n",
       "      <th>command</th>\n",
       "      <th>step</th>\n",
       "      <th>match_id</th>\n",
       "      <th>run_config</th>\n",
       "      <th>run_number</th>\n",
       "      <th>error</th>\n",
       "    </tr>\n",
       "  </thead>\n",
       "  <tbody>\n",
       "    <tr>\n",
       "      <th>0</th>\n",
       "      <td>1</td>\n",
       "      <td>tictoc-4002762f</td>\n",
       "      <td>0</td>\n",
       "      <td>2021-09-08 14:01:20.150211+02:00</td>\n",
       "      <td>patricks-mbp-1cc60c26</td>\n",
       "      <td>Checkout</td>\n",
       "      <td>1</td>\n",
       "      <td>0xc8d77b45</td>\n",
       "      <td>NaN</td>\n",
       "      <td>NaN</td>\n",
       "      <td>NaN</td>\n",
       "    </tr>\n",
       "    <tr>\n",
       "      <th>1</th>\n",
       "      <td>1</td>\n",
       "      <td>tictoc-4002762f</td>\n",
       "      <td>0</td>\n",
       "      <td>2021-09-08 14:01:20.320344+02:00</td>\n",
       "      <td>patricks-mbp-1cc60c26</td>\n",
       "      <td>Checkout</td>\n",
       "      <td>2</td>\n",
       "      <td>0xc8d77b45</td>\n",
       "      <td>NaN</td>\n",
       "      <td>NaN</td>\n",
       "      <td>NaN</td>\n",
       "    </tr>\n",
       "    <tr>\n",
       "      <th>2</th>\n",
       "      <td>1</td>\n",
       "      <td>tictoc-4002762f</td>\n",
       "      <td>0</td>\n",
       "      <td>2021-09-08 14:01:20.320825+02:00</td>\n",
       "      <td>patricks-mbp-1cc60c26</td>\n",
       "      <td>Compile</td>\n",
       "      <td>1</td>\n",
       "      <td>0x78dfe88b</td>\n",
       "      <td>NaN</td>\n",
       "      <td>NaN</td>\n",
       "      <td>NaN</td>\n",
       "    </tr>\n",
       "    <tr>\n",
       "      <th>3</th>\n",
       "      <td>1</td>\n",
       "      <td>tictoc-4002762f</td>\n",
       "      <td>0</td>\n",
       "      <td>2021-09-08 14:01:28.090523+02:00</td>\n",
       "      <td>patricks-mbp-1cc60c26</td>\n",
       "      <td>Compile</td>\n",
       "      <td>2</td>\n",
       "      <td>0x78dfe88b</td>\n",
       "      <td>NaN</td>\n",
       "      <td>NaN</td>\n",
       "      <td>NaN</td>\n",
       "    </tr>\n",
       "    <tr>\n",
       "      <th>4</th>\n",
       "      <td>1</td>\n",
       "      <td>tictoc-4002762f</td>\n",
       "      <td>0</td>\n",
       "      <td>2021-09-08 14:01:28.174318+02:00</td>\n",
       "      <td>patricks-mbp-1cc60c26</td>\n",
       "      <td>Execution</td>\n",
       "      <td>1</td>\n",
       "      <td>0xd6cb7513</td>\n",
       "      <td>TicToc18</td>\n",
       "      <td>0.0</td>\n",
       "      <td>NaN</td>\n",
       "    </tr>\n",
       "  </tbody>\n",
       "</table>\n",
       "</div>"
      ],
      "text/plain": [
       "   scenario_id    simulation_id  trail_id                       time_stamp  \\\n",
       "0            1  tictoc-4002762f         0 2021-09-08 14:01:20.150211+02:00   \n",
       "1            1  tictoc-4002762f         0 2021-09-08 14:01:20.320344+02:00   \n",
       "2            1  tictoc-4002762f         0 2021-09-08 14:01:20.320825+02:00   \n",
       "3            1  tictoc-4002762f         0 2021-09-08 14:01:28.090523+02:00   \n",
       "4            1  tictoc-4002762f         0 2021-09-08 14:01:28.174318+02:00   \n",
       "\n",
       "             provider_id    command  step    match_id run_config  run_number  \\\n",
       "0  patricks-mbp-1cc60c26   Checkout     1  0xc8d77b45        NaN         NaN   \n",
       "1  patricks-mbp-1cc60c26   Checkout     2  0xc8d77b45        NaN         NaN   \n",
       "2  patricks-mbp-1cc60c26    Compile     1  0x78dfe88b        NaN         NaN   \n",
       "3  patricks-mbp-1cc60c26    Compile     2  0x78dfe88b        NaN         NaN   \n",
       "4  patricks-mbp-1cc60c26  Execution     1  0xd6cb7513   TicToc18         0.0   \n",
       "\n",
       "   error  \n",
       "0    NaN  \n",
       "1    NaN  \n",
       "2    NaN  \n",
       "3    NaN  \n",
       "4    NaN  "
      ]
     },
     "execution_count": 30,
     "metadata": {},
     "output_type": "execute_result"
    }
   ],
   "source": [
    "dfr = pd.read_csv(\"opp-edge-eval-runs.csv\", parse_dates=['time_stamp'])\n",
    "dfr.info()\n",
    "dfr.head()"
   ]
  },
  {
   "cell_type": "code",
   "execution_count": 34,
   "id": "ffd79a35",
   "metadata": {},
   "outputs": [
    {
     "name": "stdout",
     "output_type": "stream",
     "text": [
      "<class 'pandas.core.frame.DataFrame'>\n",
      "RangeIndex: 2400 entries, 0 to 2399\n",
      "Data columns (total 10 columns):\n",
      " #   Column             Non-Null Count  Dtype                                \n",
      "---  ------             --------------  -----                                \n",
      " 0   scenario_id        2400 non-null   int64                                \n",
      " 1   simulation_id      2400 non-null   object                               \n",
      " 2   trail_id           2400 non-null   int64                                \n",
      " 3   time_stamp         2400 non-null   datetime64[ns, pytz.FixedOffset(120)]\n",
      " 4   provider_id        2400 non-null   object                               \n",
      " 5   step               2400 non-null   int64                                \n",
      " 6   match_id           2400 non-null   object                               \n",
      " 7   direction          2400 non-null   object                               \n",
      " 8   bytes_transferred  2400 non-null   int64                                \n",
      " 9   error              0 non-null      float64                              \n",
      "dtypes: datetime64[ns, pytz.FixedOffset(120)](1), float64(1), int64(4), object(4)\n",
      "memory usage: 187.6+ KB\n"
     ]
    },
    {
     "data": {
      "text/html": [
       "<div>\n",
       "<style scoped>\n",
       "    .dataframe tbody tr th:only-of-type {\n",
       "        vertical-align: middle;\n",
       "    }\n",
       "\n",
       "    .dataframe tbody tr th {\n",
       "        vertical-align: top;\n",
       "    }\n",
       "\n",
       "    .dataframe thead th {\n",
       "        text-align: right;\n",
       "    }\n",
       "</style>\n",
       "<table border=\"1\" class=\"dataframe\">\n",
       "  <thead>\n",
       "    <tr style=\"text-align: right;\">\n",
       "      <th></th>\n",
       "      <th>scenario_id</th>\n",
       "      <th>simulation_id</th>\n",
       "      <th>trail_id</th>\n",
       "      <th>time_stamp</th>\n",
       "      <th>provider_id</th>\n",
       "      <th>step</th>\n",
       "      <th>match_id</th>\n",
       "      <th>direction</th>\n",
       "      <th>bytes_transferred</th>\n",
       "      <th>error</th>\n",
       "    </tr>\n",
       "  </thead>\n",
       "  <tbody>\n",
       "    <tr>\n",
       "      <th>0</th>\n",
       "      <td>1</td>\n",
       "      <td>tictoc-4002762f</td>\n",
       "      <td>0</td>\n",
       "      <td>2021-09-08 14:01:20.138608+02:00</td>\n",
       "      <td>patricks-mbp-1cc60c26</td>\n",
       "      <td>1</td>\n",
       "      <td>0x4da53ae6</td>\n",
       "      <td>Upload</td>\n",
       "      <td>0</td>\n",
       "      <td>NaN</td>\n",
       "    </tr>\n",
       "    <tr>\n",
       "      <th>1</th>\n",
       "      <td>1</td>\n",
       "      <td>tictoc-4002762f</td>\n",
       "      <td>0</td>\n",
       "      <td>2021-09-08 14:01:20.150153+02:00</td>\n",
       "      <td>patricks-mbp-1cc60c26</td>\n",
       "      <td>2</td>\n",
       "      <td>0x4da53ae6</td>\n",
       "      <td>Upload</td>\n",
       "      <td>2688430</td>\n",
       "      <td>NaN</td>\n",
       "    </tr>\n",
       "    <tr>\n",
       "      <th>2</th>\n",
       "      <td>1</td>\n",
       "      <td>tictoc-4002762f</td>\n",
       "      <td>0</td>\n",
       "      <td>2021-09-08 14:01:28.090543+02:00</td>\n",
       "      <td>patricks-mbp-1cc60c26</td>\n",
       "      <td>1</td>\n",
       "      <td>0x14965f44</td>\n",
       "      <td>Download</td>\n",
       "      <td>0</td>\n",
       "      <td>NaN</td>\n",
       "    </tr>\n",
       "    <tr>\n",
       "      <th>3</th>\n",
       "      <td>1</td>\n",
       "      <td>tictoc-4002762f</td>\n",
       "      <td>0</td>\n",
       "      <td>2021-09-08 14:01:28.098172+02:00</td>\n",
       "      <td>patricks-mbp-1cc60c26</td>\n",
       "      <td>2</td>\n",
       "      <td>0x14965f44</td>\n",
       "      <td>Download</td>\n",
       "      <td>2097152</td>\n",
       "      <td>NaN</td>\n",
       "    </tr>\n",
       "    <tr>\n",
       "      <th>4</th>\n",
       "      <td>1</td>\n",
       "      <td>tictoc-4002762f</td>\n",
       "      <td>0</td>\n",
       "      <td>2021-09-08 14:01:34.228962+02:00</td>\n",
       "      <td>patricks-mbp-1cc60c26</td>\n",
       "      <td>1</td>\n",
       "      <td>0xa443ee51</td>\n",
       "      <td>Download</td>\n",
       "      <td>0</td>\n",
       "      <td>NaN</td>\n",
       "    </tr>\n",
       "  </tbody>\n",
       "</table>\n",
       "</div>"
      ],
      "text/plain": [
       "   scenario_id    simulation_id  trail_id                       time_stamp  \\\n",
       "0            1  tictoc-4002762f         0 2021-09-08 14:01:20.138608+02:00   \n",
       "1            1  tictoc-4002762f         0 2021-09-08 14:01:20.150153+02:00   \n",
       "2            1  tictoc-4002762f         0 2021-09-08 14:01:28.090543+02:00   \n",
       "3            1  tictoc-4002762f         0 2021-09-08 14:01:28.098172+02:00   \n",
       "4            1  tictoc-4002762f         0 2021-09-08 14:01:34.228962+02:00   \n",
       "\n",
       "             provider_id  step    match_id direction  bytes_transferred  error  \n",
       "0  patricks-mbp-1cc60c26     1  0x4da53ae6    Upload                  0    NaN  \n",
       "1  patricks-mbp-1cc60c26     2  0x4da53ae6    Upload            2688430    NaN  \n",
       "2  patricks-mbp-1cc60c26     1  0x14965f44  Download                  0    NaN  \n",
       "3  patricks-mbp-1cc60c26     2  0x14965f44  Download            2097152    NaN  \n",
       "4  patricks-mbp-1cc60c26     1  0xa443ee51  Download                  0    NaN  "
      ]
     },
     "execution_count": 34,
     "metadata": {},
     "output_type": "execute_result"
    }
   ],
   "source": [
    "dft = pd.read_csv(\"opp-edge-eval-transfers.csv\", parse_dates=['time_stamp'])\n",
    "dft.info()\n",
    "dft.head()"
   ]
  },
  {
   "cell_type": "code",
   "execution_count": 39,
   "id": "005ebd79",
   "metadata": {},
   "outputs": [
    {
     "data": {
      "image/png": "[encoded data removed]",
      "text/plain": [
       "<Figure size 432x288 with 1 Axes>"
      ]
     },
     "metadata": {
      "needs_background": "light"
     },
     "output_type": "display_data"
    }
   ],
   "source": [
    "scenarios = dfr.scenario_id.unique()\n",
    "\n",
    "plt.title(\"Execution speed\")\n",
    "\n",
    "for scenario in scenarios:\n",
    "    execution_start = dfr.loc[(dfr.scenario_id == scenario) & (dfr.command == \"Execution\") & (dfr.step == 1)].sort_values(by=['match_id'])\n",
    "    execution_end   = dfr.loc[(dfr.scenario_id == scenario) & (dfr.command == \"Execution\") & (dfr.step == 2)].sort_values(by=['match_id'])\n",
    "\n",
    "    durations = pd.to_timedelta(execution_end.time_stamp.values - execution_start.time_stamp.values)\n",
    "    mean = durations.mean()\n",
    "    std = durations.std()\n",
    "\n",
    "    plt.bar(f\"scenario {scenario}\", mean.total_seconds(), yerr=std.total_seconds(), capsize=10)\n",
    "        "
   ]
  },
  {
   "cell_type": "code",
   "execution_count": 38,
   "id": "5dd991d8",
   "metadata": {},
   "outputs": [
    {
     "data": {
      "image/png": "[encoded data removed]",
      "text/plain": [
       "<Figure size 432x288 with 1 Axes>"
      ]
     },
     "metadata": {
      "needs_background": "light"
     },
     "output_type": "display_data"
    }
   ],
   "source": [
    "scenarios = dfr.scenario_id.unique()\n",
    "\n",
    "plt.title(\"Checkout speed\")\n",
    "\n",
    "for scenario in scenarios:\n",
    "    execution_start = dfr.loc[(dfr.scenario_id == scenario) & (dfr.command == \"Checkout\") & (dfr.step == 1)].sort_values(by=['match_id'])\n",
    "    execution_end   = dfr.loc[(dfr.scenario_id == scenario) & (dfr.command == \"Checkout\") & (dfr.step == 2)].sort_values(by=['match_id'])\n",
    "\n",
    "    durations = pd.to_timedelta(execution_end.time_stamp.values - execution_start.time_stamp.values)\n",
    "    mean = durations.mean()\n",
    "    std = durations.std()\n",
    "\n",
    "    plt.bar(f\"scenario {scenario}\", mean.total_seconds(), yerr=std.total_seconds(), capsize=10)\n",
    "    \n"
   ]
  },
  {
   "cell_type": "code",
   "execution_count": 40,
   "id": "c5279ee7",
   "metadata": {},
   "outputs": [
    {
     "name": "stdout",
     "output_type": "stream",
     "text": [
      "scenario-1 tranfered=497025024 sum=2.322583 mean=213996668.36448905\n",
      "scenario-2 tranfered=497025024 sum=21592.719116 mean=23018.176697890223\n",
      "scenario-3 tranfered=497025024 sum=22755.439892 mean=21842.031020228103\n",
      "scenario-4 tranfered=497025024 sum=20125.397792 mean=24696.407451760842\n",
      "scenario-5 tranfered=497025024 sum=18664.598753 mean=26629.2905932474\n"
     ]
    },
    {
     "data": {
      "image/png": "[encoded data removed]",
      "text/plain": [
       "<Figure size 432x288 with 1 Axes>"
      ]
     },
     "metadata": {
      "needs_background": "light"
     },
     "output_type": "display_data"
    }
   ],
   "source": [
    "scenarios = dft.scenario_id.unique()\n",
    "\n",
    "plt.title(\"Download speed\")\n",
    "\n",
    "for scenario in scenarios:\n",
    "    tranfer_start = dft.loc[(dft.scenario_id == scenario) & (dft.direction == \"Download\") & (dft.step == 1)].sort_values(by=['match_id'])\n",
    "    tranfer_end   = dft.loc[(dft.scenario_id == scenario) & (dft.direction == \"Download\") & (dft.step == 2)].sort_values(by=['match_id'])\n",
    "    tranfered     = dft.loc[(dft.scenario_id == scenario) & (dft.direction == \"Download\")].bytes_transferred.sum()\n",
    "    \n",
    "    durations = pd.to_timedelta(tranfer_end.time_stamp.values - tranfer_start.time_stamp.values)\n",
    "    mean = tranfered / durations.sum().total_seconds()\n",
    "\n",
    "    print(f\"scenario-{scenario} tranfered={tranfered} sum={durations.sum().total_seconds()} mean={mean}\")\n",
    "\n",
    "    plt.bar(f\"scenario {scenario}\", mean)\n",
    "        "
   ]
  },
  {
   "cell_type": "code",
   "execution_count": 41,
   "id": "4059fe66",
   "metadata": {},
   "outputs": [
    {
     "name": "stdout",
     "output_type": "stream",
     "text": [
      "scenario-1 tranfered=8085472 sum=0.038138 mean=212005663.64256123\n",
      "scenario-2 tranfered=1341437 sum=2.962613 mean=452788.46747786494\n",
      "scenario-3 tranfered=1413578 sum=4.561015 mean=309926.18967488594\n",
      "scenario-4 tranfered=1462264 sum=4.087846 mean=357710.1485721331\n",
      "scenario-5 tranfered=1517891 sum=4.152794 mean=365510.7862321126\n"
     ]
    },
    {
     "data": {
      "image/png": "[encoded data removed]",
      "text/plain": [
       "<Figure size 432x288 with 1 Axes>"
      ]
     },
     "metadata": {
      "needs_background": "light"
     },
     "output_type": "display_data"
    }
   ],
   "source": [
    "scenarios = dft.scenario_id.unique()\n",
    "\n",
    "plt.title(\"Upload speed\")\n",
    "\n",
    "for scenario in scenarios:\n",
    "    tranfer_start = dft.loc[(dft.scenario_id == scenario) & (dft.direction == \"Upload\") & (dft.step == 1)].sort_values(by=['match_id'])\n",
    "    tranfer_end   = dft.loc[(dft.scenario_id == scenario) & (dft.direction == \"Upload\") & (dft.step == 2)].sort_values(by=['match_id'])\n",
    "    tranfered     = dft.loc[(dft.scenario_id == scenario) & (dft.direction == \"Upload\")].bytes_transferred.sum()\n",
    "    \n",
    "    durations = pd.to_timedelta(tranfer_end.time_stamp.values - tranfer_start.time_stamp.values)\n",
    "    mean = (tranfered / durations.sum().total_seconds())\n",
    "    \n",
    "    print(f\"scenario-{scenario} tranfered={tranfered} sum={durations.sum().total_seconds()} mean={mean}\")\n",
    "\n",
    "    plt.bar(f\"scenario {scenario}\", mean)\n",
    "        "
   ]
  },
  {
   "cell_type": "code",
   "execution_count": null,
   "id": "de1a90fa",
   "metadata": {},
   "outputs": [],
   "source": []
  }
 ],
 "metadata": {
  "kernelspec": {
   "display_name": "Python 3 (ipykernel)",
   "language": "python",
   "name": "python3"
  },
  "language_info": {
   "codemirror_mode": {
    "name": "ipython",
    "version": 3
   },
   "file_extension": ".py",
   "mimetype": "text/x-python",
   "name": "python",
   "nbconvert_exporter": "python",
   "pygments_lexer": "ipython3",
   "version": "3.9.6"
  }
 },
 "nbformat": 4,
 "nbformat_minor": 5
}
