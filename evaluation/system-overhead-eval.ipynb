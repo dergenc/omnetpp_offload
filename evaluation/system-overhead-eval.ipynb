{
 "cells": [
  {
   "cell_type": "code",
   "execution_count": 1,
   "id": "353bd8a4",
   "metadata": {},
   "outputs": [],
   "source": [
    "import numpy as np\n",
    "import pandas as pd\n",
    "import matplotlib.pyplot as plt"
   ]
  },
  {
   "cell_type": "code",
   "execution_count": 2,
   "id": "62c76655",
   "metadata": {},
   "outputs": [
    {
     "name": "stdout",
     "output_type": "stream",
     "text": [
      "<class 'pandas.core.frame.DataFrame'>\n",
      "RangeIndex: 2340 entries, 0 to 2339\n",
      "Data columns (total 10 columns):\n",
      " #   Column        Non-Null Count  Dtype                                \n",
      "---  ------        --------------  -----                                \n",
      " 0   scenarioId    2340 non-null   int64                                \n",
      " 1   trailId       2340 non-null   int64                                \n",
      " 2   simulationId  2340 non-null   object                               \n",
      " 3   timeStamp     2340 non-null   datetime64[ns, pytz.FixedOffset(120)]\n",
      " 4   providerId    2340 non-null   object                               \n",
      " 5   eventId       2340 non-null   object                               \n",
      " 6   step          2340 non-null   int64                                \n",
      " 7   runConfig     2340 non-null   object                               \n",
      " 8   runNumber     2340 non-null   int64                                \n",
      " 9   error         0 non-null      float64                              \n",
      "dtypes: datetime64[ns, pytz.FixedOffset(120)](1), float64(1), int64(4), object(4)\n",
      "memory usage: 182.9+ KB\n"
     ]
    },
    {
     "data": {
      "text/html": [
       "<div>\n",
       "<style scoped>\n",
       "    .dataframe tbody tr th:only-of-type {\n",
       "        vertical-align: middle;\n",
       "    }\n",
       "\n",
       "    .dataframe tbody tr th {\n",
       "        vertical-align: top;\n",
       "    }\n",
       "\n",
       "    .dataframe thead th {\n",
       "        text-align: right;\n",
       "    }\n",
       "</style>\n",
       "<table border=\"1\" class=\"dataframe\">\n",
       "  <thead>\n",
       "    <tr style=\"text-align: right;\">\n",
       "      <th></th>\n",
       "      <th>scenarioId</th>\n",
       "      <th>trailId</th>\n",
       "      <th>simulationId</th>\n",
       "      <th>timeStamp</th>\n",
       "      <th>providerId</th>\n",
       "      <th>eventId</th>\n",
       "      <th>step</th>\n",
       "      <th>runConfig</th>\n",
       "      <th>runNumber</th>\n",
       "      <th>error</th>\n",
       "    </tr>\n",
       "  </thead>\n",
       "  <tbody>\n",
       "    <tr>\n",
       "      <th>0</th>\n",
       "      <td>1</td>\n",
       "      <td>0</td>\n",
       "      <td>tictoc-6e6f813d</td>\n",
       "      <td>2021-09-14 17:24:37.364972+02:00</td>\n",
       "      <td>patricks-mbp-24b08392</td>\n",
       "      <td>0x7b9a2389</td>\n",
       "      <td>1</td>\n",
       "      <td>TicToc18</td>\n",
       "      <td>0</td>\n",
       "      <td>NaN</td>\n",
       "    </tr>\n",
       "    <tr>\n",
       "      <th>1</th>\n",
       "      <td>1</td>\n",
       "      <td>0</td>\n",
       "      <td>tictoc-6e6f813d</td>\n",
       "      <td>2021-09-14 17:24:37.366507+02:00</td>\n",
       "      <td>patricks-mbp-24b08392</td>\n",
       "      <td>0x79f52474</td>\n",
       "      <td>1</td>\n",
       "      <td>TicToc18</td>\n",
       "      <td>5</td>\n",
       "      <td>NaN</td>\n",
       "    </tr>\n",
       "    <tr>\n",
       "      <th>2</th>\n",
       "      <td>1</td>\n",
       "      <td>0</td>\n",
       "      <td>tictoc-6e6f813d</td>\n",
       "      <td>2021-09-14 17:24:37.366897+02:00</td>\n",
       "      <td>patricks-mbp-24b08392</td>\n",
       "      <td>0xada7194</td>\n",
       "      <td>1</td>\n",
       "      <td>TicToc18</td>\n",
       "      <td>4</td>\n",
       "      <td>NaN</td>\n",
       "    </tr>\n",
       "    <tr>\n",
       "      <th>3</th>\n",
       "      <td>1</td>\n",
       "      <td>0</td>\n",
       "      <td>tictoc-6e6f813d</td>\n",
       "      <td>2021-09-14 17:24:37.368942+02:00</td>\n",
       "      <td>patricks-mbp-24b08392</td>\n",
       "      <td>0xb29760b3</td>\n",
       "      <td>1</td>\n",
       "      <td>TicToc18</td>\n",
       "      <td>7</td>\n",
       "      <td>NaN</td>\n",
       "    </tr>\n",
       "    <tr>\n",
       "      <th>4</th>\n",
       "      <td>1</td>\n",
       "      <td>0</td>\n",
       "      <td>tictoc-6e6f813d</td>\n",
       "      <td>2021-09-14 17:24:37.367868+02:00</td>\n",
       "      <td>patricks-mbp-24b08392</td>\n",
       "      <td>0x167ceb58</td>\n",
       "      <td>1</td>\n",
       "      <td>TicToc18</td>\n",
       "      <td>6</td>\n",
       "      <td>NaN</td>\n",
       "    </tr>\n",
       "  </tbody>\n",
       "</table>\n",
       "</div>"
      ],
      "text/plain": [
       "   scenarioId  trailId     simulationId                        timeStamp  \\\n",
       "0           1        0  tictoc-6e6f813d 2021-09-14 17:24:37.364972+02:00   \n",
       "1           1        0  tictoc-6e6f813d 2021-09-14 17:24:37.366507+02:00   \n",
       "2           1        0  tictoc-6e6f813d 2021-09-14 17:24:37.366897+02:00   \n",
       "3           1        0  tictoc-6e6f813d 2021-09-14 17:24:37.368942+02:00   \n",
       "4           1        0  tictoc-6e6f813d 2021-09-14 17:24:37.367868+02:00   \n",
       "\n",
       "              providerId     eventId  step runConfig  runNumber  error  \n",
       "0  patricks-mbp-24b08392  0x7b9a2389     1  TicToc18          0    NaN  \n",
       "1  patricks-mbp-24b08392  0x79f52474     1  TicToc18          5    NaN  \n",
       "2  patricks-mbp-24b08392   0xada7194     1  TicToc18          4    NaN  \n",
       "3  patricks-mbp-24b08392  0xb29760b3     1  TicToc18          7    NaN  \n",
       "4  patricks-mbp-24b08392  0x167ceb58     1  TicToc18          6    NaN  "
      ]
     },
     "execution_count": 2,
     "metadata": {},
     "output_type": "execute_result"
    }
   ],
   "source": [
    "dfr = pd.read_csv(\"eval-data/opp-edge-eval-runs.csv\", parse_dates=['timeStamp'])\n",
    "dfr.info()\n",
    "dfr.head()"
   ]
  },
  {
   "cell_type": "code",
   "execution_count": 3,
   "id": "3e672050",
   "metadata": {},
   "outputs": [
    {
     "name": "stdout",
     "output_type": "stream",
     "text": [
      "<class 'pandas.core.frame.DataFrame'>\n",
      "RangeIndex: 2400 entries, 0 to 2399\n",
      "Data columns (total 11 columns):\n",
      " #   Column        Non-Null Count  Dtype                                \n",
      "---  ------        --------------  -----                                \n",
      " 0   scenarioId    2400 non-null   int64                                \n",
      " 1   trailId       2400 non-null   int64                                \n",
      " 2   simulationId  2400 non-null   object                               \n",
      " 3   timeStamp     2400 non-null   datetime64[ns, pytz.FixedOffset(120)]\n",
      " 4   providerId    2400 non-null   object                               \n",
      " 5   eventId       2400 non-null   object                               \n",
      " 6   step          2400 non-null   int64                                \n",
      " 7   direction     2400 non-null   object                               \n",
      " 8   file          2400 non-null   object                               \n",
      " 9   transferred   2400 non-null   int64                                \n",
      " 10  error         0 non-null      float64                              \n",
      "dtypes: datetime64[ns, pytz.FixedOffset(120)](1), float64(1), int64(4), object(5)\n",
      "memory usage: 206.4+ KB\n"
     ]
    },
    {
     "data": {
      "text/html": [
       "<div>\n",
       "<style scoped>\n",
       "    .dataframe tbody tr th:only-of-type {\n",
       "        vertical-align: middle;\n",
       "    }\n",
       "\n",
       "    .dataframe tbody tr th {\n",
       "        vertical-align: top;\n",
       "    }\n",
       "\n",
       "    .dataframe thead th {\n",
       "        text-align: right;\n",
       "    }\n",
       "</style>\n",
       "<table border=\"1\" class=\"dataframe\">\n",
       "  <thead>\n",
       "    <tr style=\"text-align: right;\">\n",
       "      <th></th>\n",
       "      <th>scenarioId</th>\n",
       "      <th>trailId</th>\n",
       "      <th>simulationId</th>\n",
       "      <th>timeStamp</th>\n",
       "      <th>providerId</th>\n",
       "      <th>eventId</th>\n",
       "      <th>step</th>\n",
       "      <th>direction</th>\n",
       "      <th>file</th>\n",
       "      <th>transferred</th>\n",
       "      <th>error</th>\n",
       "    </tr>\n",
       "  </thead>\n",
       "  <tbody>\n",
       "    <tr>\n",
       "      <th>0</th>\n",
       "      <td>1</td>\n",
       "      <td>0</td>\n",
       "      <td>tictoc-6e6f813d</td>\n",
       "      <td>2021-09-14 17:24:29.835530+02:00</td>\n",
       "      <td>patricks-mbp-24b08392</td>\n",
       "      <td>0x18ef3fd4</td>\n",
       "      <td>1</td>\n",
       "      <td>Upload</td>\n",
       "      <td>source.tgz</td>\n",
       "      <td>0</td>\n",
       "      <td>NaN</td>\n",
       "    </tr>\n",
       "    <tr>\n",
       "      <th>1</th>\n",
       "      <td>1</td>\n",
       "      <td>0</td>\n",
       "      <td>tictoc-6e6f813d</td>\n",
       "      <td>2021-09-14 17:24:29.875517+02:00</td>\n",
       "      <td>patricks-mbp-24b08392</td>\n",
       "      <td>0x18ef3fd4</td>\n",
       "      <td>2</td>\n",
       "      <td>Upload</td>\n",
       "      <td>source.tgz</td>\n",
       "      <td>435770</td>\n",
       "      <td>NaN</td>\n",
       "    </tr>\n",
       "    <tr>\n",
       "      <th>2</th>\n",
       "      <td>1</td>\n",
       "      <td>0</td>\n",
       "      <td>tictoc-6e6f813d</td>\n",
       "      <td>2021-09-14 17:24:37.162931+02:00</td>\n",
       "      <td>patricks-mbp-24b08392</td>\n",
       "      <td>0xd6ff5dd6</td>\n",
       "      <td>1</td>\n",
       "      <td>Download</td>\n",
       "      <td>binary/binary/darwin_amd64.tgz.tgz</td>\n",
       "      <td>0</td>\n",
       "      <td>NaN</td>\n",
       "    </tr>\n",
       "    <tr>\n",
       "      <th>3</th>\n",
       "      <td>1</td>\n",
       "      <td>0</td>\n",
       "      <td>tictoc-6e6f813d</td>\n",
       "      <td>2021-09-14 17:24:37.202047+02:00</td>\n",
       "      <td>patricks-mbp-24b08392</td>\n",
       "      <td>0xd6ff5dd6</td>\n",
       "      <td>2</td>\n",
       "      <td>Download</td>\n",
       "      <td>binary/binary/darwin_amd64.tgz.tgz</td>\n",
       "      <td>2097152</td>\n",
       "      <td>NaN</td>\n",
       "    </tr>\n",
       "    <tr>\n",
       "      <th>4</th>\n",
       "      <td>1</td>\n",
       "      <td>0</td>\n",
       "      <td>tictoc-6e6f813d</td>\n",
       "      <td>2021-09-14 17:24:42.226261+02:00</td>\n",
       "      <td>patricks-mbp-24b08392</td>\n",
       "      <td>0xaf93843e</td>\n",
       "      <td>1</td>\n",
       "      <td>Download</td>\n",
       "      <td>results/TicToc18_6.tgz</td>\n",
       "      <td>0</td>\n",
       "      <td>NaN</td>\n",
       "    </tr>\n",
       "  </tbody>\n",
       "</table>\n",
       "</div>"
      ],
      "text/plain": [
       "   scenarioId  trailId     simulationId                        timeStamp  \\\n",
       "0           1        0  tictoc-6e6f813d 2021-09-14 17:24:29.835530+02:00   \n",
       "1           1        0  tictoc-6e6f813d 2021-09-14 17:24:29.875517+02:00   \n",
       "2           1        0  tictoc-6e6f813d 2021-09-14 17:24:37.162931+02:00   \n",
       "3           1        0  tictoc-6e6f813d 2021-09-14 17:24:37.202047+02:00   \n",
       "4           1        0  tictoc-6e6f813d 2021-09-14 17:24:42.226261+02:00   \n",
       "\n",
       "              providerId     eventId  step direction  \\\n",
       "0  patricks-mbp-24b08392  0x18ef3fd4     1    Upload   \n",
       "1  patricks-mbp-24b08392  0x18ef3fd4     2    Upload   \n",
       "2  patricks-mbp-24b08392  0xd6ff5dd6     1  Download   \n",
       "3  patricks-mbp-24b08392  0xd6ff5dd6     2  Download   \n",
       "4  patricks-mbp-24b08392  0xaf93843e     1  Download   \n",
       "\n",
       "                                 file  transferred  error  \n",
       "0                          source.tgz            0    NaN  \n",
       "1                          source.tgz       435770    NaN  \n",
       "2  binary/binary/darwin_amd64.tgz.tgz            0    NaN  \n",
       "3  binary/binary/darwin_amd64.tgz.tgz      2097152    NaN  \n",
       "4              results/TicToc18_6.tgz            0    NaN  "
      ]
     },
     "execution_count": 3,
     "metadata": {},
     "output_type": "execute_result"
    }
   ],
   "source": [
    "dft = pd.read_csv(\"eval-data/opp-edge-eval-transfers.csv\", parse_dates=['timeStamp'])\n",
    "dft.info()\n",
    "dft.head()"
   ]
  },
  {
   "cell_type": "code",
   "execution_count": 4,
   "id": "f9a681fa",
   "metadata": {},
   "outputs": [
    {
     "name": "stdout",
     "output_type": "stream",
     "text": [
      "<class 'pandas.core.frame.DataFrame'>\n",
      "RangeIndex: 4770 entries, 0 to 4769\n",
      "Data columns (total 10 columns):\n",
      " #   Column        Non-Null Count  Dtype                                \n",
      "---  ------        --------------  -----                                \n",
      " 0   scenarioId    4770 non-null   int64                                \n",
      " 1   trailId       4770 non-null   int64                                \n",
      " 2   simulationId  4770 non-null   object                               \n",
      " 3   timeStamp     4770 non-null   datetime64[ns, pytz.FixedOffset(120)]\n",
      " 4   deviceId      4770 non-null   object                               \n",
      " 5   action        4770 non-null   object                               \n",
      " 6   meta          4770 non-null   object                               \n",
      " 7   eventId       4770 non-null   object                               \n",
      " 8   step          4770 non-null   int64                                \n",
      " 9   error         0 non-null      float64                              \n",
      "dtypes: datetime64[ns, pytz.FixedOffset(120)](1), float64(1), int64(3), object(5)\n",
      "memory usage: 372.8+ KB\n"
     ]
    },
    {
     "data": {
      "text/html": [
       "<div>\n",
       "<style scoped>\n",
       "    .dataframe tbody tr th:only-of-type {\n",
       "        vertical-align: middle;\n",
       "    }\n",
       "\n",
       "    .dataframe tbody tr th {\n",
       "        vertical-align: top;\n",
       "    }\n",
       "\n",
       "    .dataframe thead th {\n",
       "        text-align: right;\n",
       "    }\n",
       "</style>\n",
       "<table border=\"1\" class=\"dataframe\">\n",
       "  <thead>\n",
       "    <tr style=\"text-align: right;\">\n",
       "      <th></th>\n",
       "      <th>scenarioId</th>\n",
       "      <th>trailId</th>\n",
       "      <th>simulationId</th>\n",
       "      <th>timeStamp</th>\n",
       "      <th>deviceId</th>\n",
       "      <th>action</th>\n",
       "      <th>meta</th>\n",
       "      <th>eventId</th>\n",
       "      <th>step</th>\n",
       "      <th>error</th>\n",
       "    </tr>\n",
       "  </thead>\n",
       "  <tbody>\n",
       "    <tr>\n",
       "      <th>0</th>\n",
       "      <td>1</td>\n",
       "      <td>0</td>\n",
       "      <td>tictoc-6e6f813d</td>\n",
       "      <td>2021-09-14 17:24:29.601539+02:00</td>\n",
       "      <td>consumer</td>\n",
       "      <td>Compress</td>\n",
       "      <td>source</td>\n",
       "      <td>0xff2c7f5e</td>\n",
       "      <td>1</td>\n",
       "      <td>NaN</td>\n",
       "    </tr>\n",
       "    <tr>\n",
       "      <th>1</th>\n",
       "      <td>1</td>\n",
       "      <td>0</td>\n",
       "      <td>tictoc-6e6f813d</td>\n",
       "      <td>2021-09-14 17:24:29.748293+02:00</td>\n",
       "      <td>consumer</td>\n",
       "      <td>Compress</td>\n",
       "      <td>source</td>\n",
       "      <td>0xff2c7f5e</td>\n",
       "      <td>2</td>\n",
       "      <td>NaN</td>\n",
       "    </tr>\n",
       "    <tr>\n",
       "      <th>2</th>\n",
       "      <td>1</td>\n",
       "      <td>0</td>\n",
       "      <td>tictoc-6e6f813d</td>\n",
       "      <td>2021-09-14 17:24:30.116613+02:00</td>\n",
       "      <td>patricks-mbp-24b08392</td>\n",
       "      <td>Compile</td>\n",
       "      <td>darwin_amd64</td>\n",
       "      <td>0xbf10e8ef</td>\n",
       "      <td>1</td>\n",
       "      <td>NaN</td>\n",
       "    </tr>\n",
       "    <tr>\n",
       "      <th>3</th>\n",
       "      <td>1</td>\n",
       "      <td>0</td>\n",
       "      <td>tictoc-6e6f813d</td>\n",
       "      <td>2021-09-14 17:24:37.024462+02:00</td>\n",
       "      <td>patricks-mbp-24b08392</td>\n",
       "      <td>Compile</td>\n",
       "      <td>darwin_amd64</td>\n",
       "      <td>0xbf10e8ef</td>\n",
       "      <td>2</td>\n",
       "      <td>NaN</td>\n",
       "    </tr>\n",
       "    <tr>\n",
       "      <th>4</th>\n",
       "      <td>1</td>\n",
       "      <td>0</td>\n",
       "      <td>tictoc-6e6f813d</td>\n",
       "      <td>2021-09-14 17:24:37.049810+02:00</td>\n",
       "      <td>patricks-mbp-24b08392</td>\n",
       "      <td>Compress</td>\n",
       "      <td>binary/darwin_amd64.tgz</td>\n",
       "      <td>0x6f2cedeb</td>\n",
       "      <td>1</td>\n",
       "      <td>NaN</td>\n",
       "    </tr>\n",
       "  </tbody>\n",
       "</table>\n",
       "</div>"
      ],
      "text/plain": [
       "   scenarioId  trailId     simulationId                        timeStamp  \\\n",
       "0           1        0  tictoc-6e6f813d 2021-09-14 17:24:29.601539+02:00   \n",
       "1           1        0  tictoc-6e6f813d 2021-09-14 17:24:29.748293+02:00   \n",
       "2           1        0  tictoc-6e6f813d 2021-09-14 17:24:30.116613+02:00   \n",
       "3           1        0  tictoc-6e6f813d 2021-09-14 17:24:37.024462+02:00   \n",
       "4           1        0  tictoc-6e6f813d 2021-09-14 17:24:37.049810+02:00   \n",
       "\n",
       "                deviceId    action                     meta     eventId  step  \\\n",
       "0               consumer  Compress                   source  0xff2c7f5e     1   \n",
       "1               consumer  Compress                   source  0xff2c7f5e     2   \n",
       "2  patricks-mbp-24b08392   Compile             darwin_amd64  0xbf10e8ef     1   \n",
       "3  patricks-mbp-24b08392   Compile             darwin_amd64  0xbf10e8ef     2   \n",
       "4  patricks-mbp-24b08392  Compress  binary/darwin_amd64.tgz  0x6f2cedeb     1   \n",
       "\n",
       "   error  \n",
       "0    NaN  \n",
       "1    NaN  \n",
       "2    NaN  \n",
       "3    NaN  \n",
       "4    NaN  "
      ]
     },
     "execution_count": 4,
     "metadata": {},
     "output_type": "execute_result"
    }
   ],
   "source": [
    "dfa = pd.read_csv(\"eval-data/opp-edge-eval-actions.csv\", parse_dates=['timeStamp'])\n",
    "dfa.info()\n",
    "dfa.head()"
   ]
  },
  {
   "cell_type": "code",
   "execution_count": 5,
   "id": "6b474f62",
   "metadata": {},
   "outputs": [
    {
     "data": {
      "image/png": "[encoded data removed]",
      "text/plain": [
       "<Figure size 432x288 with 1 Axes>"
      ]
     },
     "metadata": {
      "needs_background": "light"
     },
     "output_type": "display_data"
    }
   ],
   "source": [
    "scenarios = dfr.scenarioId.unique()\n",
    "\n",
    "plt.title(\"Execution duration in sec\")\n",
    "\n",
    "for scenario in scenarios:\n",
    "    for trail in dfr.trailId.unique():\n",
    "        execution_start = dfr.loc[(dfr.trailId == trail) & (dfr.scenarioId == scenario) & (dfr.step == 1)].sort_values(by=['eventId'])\n",
    "        execution_end   = dfr.loc[(dfr.trailId == trail) & (dfr.scenarioId == scenario) & (dfr.step == 2)].sort_values(by=['eventId'])\n",
    "\n",
    "        durations = pd.to_timedelta(execution_end.timeStamp.values - execution_start.timeStamp.values)\n",
    "        mean = durations.mean()\n",
    "        std = durations.std()\n",
    "\n",
    "        #plt.bar(f\"scenario {scenario} {trail}\", mean.total_seconds(), yerr=std.total_seconds(), capsize=10)\n",
    "        plt.bar(f\"{scenario}-{trail}\", mean.total_seconds())\n"
   ]
  },
  {
   "cell_type": "code",
   "execution_count": 6,
   "id": "b2d53db5",
   "metadata": {},
   "outputs": [
    {
     "data": {
      "image/png": "[encoded data removed]",
      "text/plain": [
       "<Figure size 432x288 with 1 Axes>"
      ]
     },
     "metadata": {
      "needs_background": "light"
     },
     "output_type": "display_data"
    }
   ],
   "source": [
    "scenarios = dfr.scenarioId.unique()\n",
    "\n",
    "plt.title(\"Mean execution duration in sec\")\n",
    "\n",
    "for scenario in scenarios:\n",
    "    execution_start = dfr.loc[(dfr.scenarioId == scenario) & (dfr.step == 1)].sort_values(by=['eventId'])\n",
    "    execution_end   = dfr.loc[(dfr.scenarioId == scenario) & (dfr.step == 2)].sort_values(by=['eventId'])\n",
    "\n",
    "    durations = pd.to_timedelta(execution_end.timeStamp.values - execution_start.timeStamp.values)\n",
    "    mean = durations.mean()\n",
    "    std = durations.std()\n",
    "\n",
    "    plt.bar(f\"scenario {scenario}\", mean.total_seconds(), yerr=std.total_seconds(), capsize=10)\n"
   ]
  },
  {
   "cell_type": "code",
   "execution_count": 30,
   "id": "eb4902f6",
   "metadata": {},
   "outputs": [
    {
     "ename": "AttributeError",
     "evalue": "'Rectangle' object has no property 'stacked'",
     "output_type": "error",
     "traceback": [
      "\u001b[0;31m---------------------------------------------------------------------------\u001b[0m",
      "\u001b[0;31mAttributeError\u001b[0m                            Traceback (most recent call last)",
      "\u001b[0;32m/tmp/ipykernel_68/988771613.py\u001b[0m in \u001b[0;36m<module>\u001b[0;34m\u001b[0m\n\u001b[1;32m     19\u001b[0m         \u001b[0mvals\u001b[0m\u001b[0;34m[\u001b[0m\u001b[0minx\u001b[0m\u001b[0;34m]\u001b[0m \u001b[0;34m=\u001b[0m \u001b[0mval\u001b[0m\u001b[0;34m.\u001b[0m\u001b[0mtotal_seconds\u001b[0m\u001b[0;34m(\u001b[0m\u001b[0;34m)\u001b[0m \u001b[0;34m+\u001b[0m \u001b[0mlast\u001b[0m\u001b[0;34m[\u001b[0m\u001b[0minx\u001b[0m\u001b[0;34m]\u001b[0m\u001b[0;34m\u001b[0m\u001b[0;34m\u001b[0m\u001b[0m\n\u001b[1;32m     20\u001b[0m \u001b[0;34m\u001b[0m\u001b[0m\n\u001b[0;32m---> 21\u001b[0;31m     \u001b[0mplt\u001b[0m\u001b[0;34m.\u001b[0m\u001b[0mbar\u001b[0m\u001b[0;34m(\u001b[0m\u001b[0mlabels\u001b[0m\u001b[0;34m,\u001b[0m \u001b[0mvals\u001b[0m\u001b[0;34m,\u001b[0m \u001b[0mstacked\u001b[0m\u001b[0;34m=\u001b[0m\u001b[0;32mTrue\u001b[0m\u001b[0;34m,\u001b[0m \u001b[0mlabel\u001b[0m\u001b[0;34m=\u001b[0m\u001b[0maction\u001b[0m\u001b[0;34m)\u001b[0m\u001b[0;34m\u001b[0m\u001b[0;34m\u001b[0m\u001b[0m\n\u001b[0m\u001b[1;32m     22\u001b[0m     \u001b[0mprint\u001b[0m\u001b[0;34m(\u001b[0m\u001b[0maction\u001b[0m\u001b[0;34m,\u001b[0m \u001b[0mlabels\u001b[0m\u001b[0;34m,\u001b[0m \u001b[0mvals\u001b[0m\u001b[0;34m)\u001b[0m\u001b[0;34m\u001b[0m\u001b[0;34m\u001b[0m\u001b[0m\n\u001b[1;32m     23\u001b[0m     \u001b[0mlast\u001b[0m \u001b[0;34m+=\u001b[0m \u001b[0mvals\u001b[0m\u001b[0;34m\u001b[0m\u001b[0;34m\u001b[0m\u001b[0m\n",
      "\u001b[0;32m/opt/conda/lib/python3.9/site-packages/matplotlib/pyplot.py\u001b[0m in \u001b[0;36mbar\u001b[0;34m(x, height, width, bottom, align, data, **kwargs)\u001b[0m\n\u001b[1;32m   2649\u001b[0m         \u001b[0mx\u001b[0m\u001b[0;34m,\u001b[0m \u001b[0mheight\u001b[0m\u001b[0;34m,\u001b[0m \u001b[0mwidth\u001b[0m\u001b[0;34m=\u001b[0m\u001b[0;36m0.8\u001b[0m\u001b[0;34m,\u001b[0m \u001b[0mbottom\u001b[0m\u001b[0;34m=\u001b[0m\u001b[0;32mNone\u001b[0m\u001b[0;34m,\u001b[0m \u001b[0;34m*\u001b[0m\u001b[0;34m,\u001b[0m \u001b[0malign\u001b[0m\u001b[0;34m=\u001b[0m\u001b[0;34m'center'\u001b[0m\u001b[0;34m,\u001b[0m\u001b[0;34m\u001b[0m\u001b[0;34m\u001b[0m\u001b[0m\n\u001b[1;32m   2650\u001b[0m         data=None, **kwargs):\n\u001b[0;32m-> 2651\u001b[0;31m     return gca().bar(\n\u001b[0m\u001b[1;32m   2652\u001b[0m         \u001b[0mx\u001b[0m\u001b[0;34m,\u001b[0m \u001b[0mheight\u001b[0m\u001b[0;34m,\u001b[0m \u001b[0mwidth\u001b[0m\u001b[0;34m=\u001b[0m\u001b[0mwidth\u001b[0m\u001b[0;34m,\u001b[0m \u001b[0mbottom\u001b[0m\u001b[0;34m=\u001b[0m\u001b[0mbottom\u001b[0m\u001b[0;34m,\u001b[0m \u001b[0malign\u001b[0m\u001b[0;34m=\u001b[0m\u001b[0malign\u001b[0m\u001b[0;34m,\u001b[0m\u001b[0;34m\u001b[0m\u001b[0;34m\u001b[0m\u001b[0m\n\u001b[1;32m   2653\u001b[0m         **({\"data\": data} if data is not None else {}), **kwargs)\n",
      "\u001b[0;32m/opt/conda/lib/python3.9/site-packages/matplotlib/__init__.py\u001b[0m in \u001b[0;36minner\u001b[0;34m(ax, data, *args, **kwargs)\u001b[0m\n\u001b[1;32m   1359\u001b[0m     \u001b[0;32mdef\u001b[0m \u001b[0minner\u001b[0m\u001b[0;34m(\u001b[0m\u001b[0max\u001b[0m\u001b[0;34m,\u001b[0m \u001b[0;34m*\u001b[0m\u001b[0margs\u001b[0m\u001b[0;34m,\u001b[0m \u001b[0mdata\u001b[0m\u001b[0;34m=\u001b[0m\u001b[0;32mNone\u001b[0m\u001b[0;34m,\u001b[0m \u001b[0;34m**\u001b[0m\u001b[0mkwargs\u001b[0m\u001b[0;34m)\u001b[0m\u001b[0;34m:\u001b[0m\u001b[0;34m\u001b[0m\u001b[0;34m\u001b[0m\u001b[0m\n\u001b[1;32m   1360\u001b[0m         \u001b[0;32mif\u001b[0m \u001b[0mdata\u001b[0m \u001b[0;32mis\u001b[0m \u001b[0;32mNone\u001b[0m\u001b[0;34m:\u001b[0m\u001b[0;34m\u001b[0m\u001b[0;34m\u001b[0m\u001b[0m\n\u001b[0;32m-> 1361\u001b[0;31m             \u001b[0;32mreturn\u001b[0m \u001b[0mfunc\u001b[0m\u001b[0;34m(\u001b[0m\u001b[0max\u001b[0m\u001b[0;34m,\u001b[0m \u001b[0;34m*\u001b[0m\u001b[0mmap\u001b[0m\u001b[0;34m(\u001b[0m\u001b[0msanitize_sequence\u001b[0m\u001b[0;34m,\u001b[0m \u001b[0margs\u001b[0m\u001b[0;34m)\u001b[0m\u001b[0;34m,\u001b[0m \u001b[0;34m**\u001b[0m\u001b[0mkwargs\u001b[0m\u001b[0;34m)\u001b[0m\u001b[0;34m\u001b[0m\u001b[0;34m\u001b[0m\u001b[0m\n\u001b[0m\u001b[1;32m   1362\u001b[0m \u001b[0;34m\u001b[0m\u001b[0m\n\u001b[1;32m   1363\u001b[0m         \u001b[0mbound\u001b[0m \u001b[0;34m=\u001b[0m \u001b[0mnew_sig\u001b[0m\u001b[0;34m.\u001b[0m\u001b[0mbind\u001b[0m\u001b[0;34m(\u001b[0m\u001b[0max\u001b[0m\u001b[0;34m,\u001b[0m \u001b[0;34m*\u001b[0m\u001b[0margs\u001b[0m\u001b[0;34m,\u001b[0m \u001b[0;34m**\u001b[0m\u001b[0mkwargs\u001b[0m\u001b[0;34m)\u001b[0m\u001b[0;34m\u001b[0m\u001b[0;34m\u001b[0m\u001b[0m\n",
      "\u001b[0;32m/opt/conda/lib/python3.9/site-packages/matplotlib/axes/_axes.py\u001b[0m in \u001b[0;36mbar\u001b[0;34m(self, x, height, width, bottom, align, **kwargs)\u001b[0m\n\u001b[1;32m   2363\u001b[0m                 \u001b[0mhatch\u001b[0m\u001b[0;34m=\u001b[0m\u001b[0mhtch\u001b[0m\u001b[0;34m,\u001b[0m\u001b[0;34m\u001b[0m\u001b[0;34m\u001b[0m\u001b[0m\n\u001b[1;32m   2364\u001b[0m                 )\n\u001b[0;32m-> 2365\u001b[0;31m             \u001b[0mr\u001b[0m\u001b[0;34m.\u001b[0m\u001b[0mupdate\u001b[0m\u001b[0;34m(\u001b[0m\u001b[0mkwargs\u001b[0m\u001b[0;34m)\u001b[0m\u001b[0;34m\u001b[0m\u001b[0;34m\u001b[0m\u001b[0m\n\u001b[0m\u001b[1;32m   2366\u001b[0m             \u001b[0mr\u001b[0m\u001b[0;34m.\u001b[0m\u001b[0mget_path\u001b[0m\u001b[0;34m(\u001b[0m\u001b[0;34m)\u001b[0m\u001b[0;34m.\u001b[0m\u001b[0m_interpolation_steps\u001b[0m \u001b[0;34m=\u001b[0m \u001b[0;36m100\u001b[0m\u001b[0;34m\u001b[0m\u001b[0;34m\u001b[0m\u001b[0m\n\u001b[1;32m   2367\u001b[0m             \u001b[0;32mif\u001b[0m \u001b[0morientation\u001b[0m \u001b[0;34m==\u001b[0m \u001b[0;34m'vertical'\u001b[0m\u001b[0;34m:\u001b[0m\u001b[0;34m\u001b[0m\u001b[0;34m\u001b[0m\u001b[0m\n",
      "\u001b[0;32m/opt/conda/lib/python3.9/site-packages/matplotlib/artist.py\u001b[0m in \u001b[0;36mupdate\u001b[0;34m(self, props)\u001b[0m\n\u001b[1;32m   1060\u001b[0m                     \u001b[0mfunc\u001b[0m \u001b[0;34m=\u001b[0m \u001b[0mgetattr\u001b[0m\u001b[0;34m(\u001b[0m\u001b[0mself\u001b[0m\u001b[0;34m,\u001b[0m \u001b[0;34mf\"set_{k}\"\u001b[0m\u001b[0;34m,\u001b[0m \u001b[0;32mNone\u001b[0m\u001b[0;34m)\u001b[0m\u001b[0;34m\u001b[0m\u001b[0;34m\u001b[0m\u001b[0m\n\u001b[1;32m   1061\u001b[0m                     \u001b[0;32mif\u001b[0m \u001b[0;32mnot\u001b[0m \u001b[0mcallable\u001b[0m\u001b[0;34m(\u001b[0m\u001b[0mfunc\u001b[0m\u001b[0;34m)\u001b[0m\u001b[0;34m:\u001b[0m\u001b[0;34m\u001b[0m\u001b[0;34m\u001b[0m\u001b[0m\n\u001b[0;32m-> 1062\u001b[0;31m                         raise AttributeError(f\"{type(self).__name__!r} object \"\n\u001b[0m\u001b[1;32m   1063\u001b[0m                                              f\"has no property {k!r}\")\n\u001b[1;32m   1064\u001b[0m                     \u001b[0mret\u001b[0m\u001b[0;34m.\u001b[0m\u001b[0mappend\u001b[0m\u001b[0;34m(\u001b[0m\u001b[0mfunc\u001b[0m\u001b[0;34m(\u001b[0m\u001b[0mv\u001b[0m\u001b[0;34m)\u001b[0m\u001b[0;34m)\u001b[0m\u001b[0;34m\u001b[0m\u001b[0;34m\u001b[0m\u001b[0m\n",
      "\u001b[0;31mAttributeError\u001b[0m: 'Rectangle' object has no property 'stacked'"
     ]
    },
    {
     "data": {
      "image/png": "[encoded data removed]",
      "text/plain": [
       "<Figure size 432x288 with 1 Axes>"
      ]
     },
     "metadata": {
      "needs_background": "light"
     },
     "output_type": "display_data"
    }
   ],
   "source": [
    "scenarios = dfa.scenarioId.unique()\n",
    "actions = dfa.action.unique()\n",
    "\n",
    "plt.title(\"Mean checkout duration in sec\")\n",
    "\n",
    "last = np.zeros(len(actions))\n",
    "for action in actions:\n",
    "    labels = []\n",
    "    vals = np.zeros(len(scenarios))\n",
    "\n",
    "    for inx, scenario in enumerate(scenarios):\n",
    "        execution_start = dfa.loc[(dfa.scenarioId == scenario) & (dfa.action == action) & (dfa.step == 1)].sort_values(by=['eventId'])\n",
    "        execution_end   = dfa.loc[(dfa.scenarioId == scenario) & (dfa.action == action) & (dfa.step == 2)].sort_values(by=['eventId'])\n",
    "\n",
    "        durations = pd.to_timedelta(execution_end.timeStamp.values - execution_start.timeStamp.values)\n",
    "        val = durations.sum()\n",
    "\n",
    "        labels.append(f\"scenario {scenario}\")\n",
    "        vals[inx] = val.total_seconds() + last[inx]\n",
    "    \n",
    "    plt.bar(labels, vals, stacked=True, label=action)\n",
    "    print(action, labels, vals)\n",
    "    last += vals\n",
    "    \n",
    "plt.legend()\n",
    "\n",
    "    "
   ]
  },
  {
   "cell_type": "code",
   "execution_count": 12,
   "id": "5c138fa4",
   "metadata": {},
   "outputs": [
    {
     "name": "stdout",
     "output_type": "stream",
     "text": [
      "[2, 4]\n",
      "scenario-2 tranfered=828375040 sum=34955.43869 mean=23698.03015051218\n",
      "scenario-4 tranfered=828375040 sum=30905.272234 mean=26803.680411806075\n"
     ]
    },
    {
     "data": {
      "image/png": "[encoded data removed]",
      "text/plain": [
       "<Figure size 432x288 with 1 Axes>"
      ]
     },
     "metadata": {
      "needs_background": "light"
     },
     "output_type": "display_data"
    }
   ],
   "source": [
    "#scenarios = dft.scenarioId.unique()\n",
    "scenarios = [2, 4]\n",
    "print(scenarios)\n",
    "\n",
    "plt.title(\"Download speed\")\n",
    "\n",
    "for scenario in scenarios:\n",
    "    tranfer_start = dft.loc[(dft.scenarioId == scenario) & (dft.direction == \"Download\") & (dft.step == 1)].sort_values(by=['eventId'])\n",
    "    tranfer_end   = dft.loc[(dft.scenarioId == scenario) & (dft.direction == \"Download\") & (dft.step == 2)].sort_values(by=['eventId'])\n",
    "    tranfered     = dft.loc[(dft.scenarioId == scenario) & (dft.direction == \"Download\")].transferred.sum()\n",
    "    \n",
    "    durations = pd.to_timedelta(tranfer_end.timeStamp.values - tranfer_start.timeStamp.values)\n",
    "    mean = tranfered / durations.sum().total_seconds()\n",
    "\n",
    "    print(f\"scenario-{scenario} tranfered={tranfered} sum={durations.sum().total_seconds()} mean={mean}\")\n",
    "\n",
    "    plt.bar(f\"scenario {scenario}\", mean)\n",
    "        "
   ]
  },
  {
   "cell_type": "code",
   "execution_count": 13,
   "id": "764ce768",
   "metadata": {},
   "outputs": [
    {
     "name": "stdout",
     "output_type": "stream",
     "text": [
      "[2, 4]\n",
      "scenario-2 tranfered=2216499 sum=6.235672 mean=355454.7128200457\n",
      "scenario-4 tranfered=2187689 sum=6.721781 mean=325462.70103117015\n"
     ]
    },
    {
     "data": {
      "image/png": "[encoded data removed]",
      "text/plain": [
       "<Figure size 432x288 with 1 Axes>"
      ]
     },
     "metadata": {
      "needs_background": "light"
     },
     "output_type": "display_data"
    }
   ],
   "source": [
    "#scenarios = dft.scenarioId.unique()\n",
    "scenarios = [2, 4]\n",
    "print(scenarios)\n",
    "\n",
    "plt.title(\"Upload speed\")\n",
    "\n",
    "for scenario in scenarios:\n",
    "    tranfer_start = dft.loc[(dft.scenarioId == scenario) & (dft.direction == \"Upload\") & (dft.step == 1)].sort_values(by=['eventId'])\n",
    "    tranfer_end   = dft.loc[(dft.scenarioId == scenario) & (dft.direction == \"Upload\") & (dft.step == 2)].sort_values(by=['eventId'])\n",
    "    tranfered     = dft.loc[(dft.scenarioId == scenario) & (dft.direction == \"Upload\")].transferred.sum()\n",
    "    \n",
    "    durations = pd.to_timedelta(tranfer_end.timeStamp.values - tranfer_start.timeStamp.values)\n",
    "    mean = tranfered / durations.sum().total_seconds()\n",
    "    \n",
    "    print(f\"scenario-{scenario} tranfered={tranfered} sum={durations.sum().total_seconds()} mean={mean}\")\n",
    "\n",
    "    plt.bar(f\"scenario {scenario}\", mean)\n",
    "        "
   ]
  },
  {
   "cell_type": "code",
   "execution_count": 10,
   "id": "02642dd1",
   "metadata": {},
   "outputs": [
    {
     "name": "stdout",
     "output_type": "stream",
     "text": [
      "scenario 1 Execution 1874.363608\n",
      "scenario 2 Execution 1504.19369\n",
      "scenario 4 Execution 1496.726306\n",
      "scenario 1 Upload 0.21668\n",
      "scenario 2 Upload 6.235672\n",
      "scenario 4 Upload 6.721781\n",
      "scenario 1 Download 18.039826\n",
      "scenario 2 Download 34955.43869\n",
      "scenario 4 Download 30905.272234\n"
     ]
    },
    {
     "data": {
      "text/plain": [
       "<matplotlib.legend.Legend at 0x7fbae6190610>"
      ]
     },
     "execution_count": 10,
     "metadata": {},
     "output_type": "execute_result"
    },
    {
     "data": {
      "image/png": "[encoded data removed]",
      "text/plain": [
       "<Figure size 432x288 with 1 Axes>"
      ]
     },
     "metadata": {
      "needs_background": "light"
     },
     "output_type": "display_data"
    }
   ],
   "source": [
    "scenarios = dfr.scenarioId.unique()\n",
    "#scenarios = [2, 3, 4, 5]\n",
    "\n",
    "labels = []\n",
    "sums = []\n",
    "\n",
    "for scenario in scenarios:    \n",
    "    exe_start     = dfr.loc[(dfr.scenarioId == scenario) & (dfr.step == 1)].sort_values(by=['eventId'])\n",
    "    exe_end       = dfr.loc[(dfr.scenarioId == scenario) & (dfr.step == 2)].sort_values(by=['eventId'])\n",
    "    exe_durations = pd.to_timedelta(exe_end.timeStamp.values - exe_start.timeStamp.values)\n",
    "    su = exe_durations.sum().total_seconds()\n",
    "    sums.append(su)\n",
    "    labels.append(f\"scenario {scenario}\")\n",
    "    print(f\"scenario {scenario}\", \"Execution\", su)\n",
    "\n",
    "plt.bar(labels, sums, label=\"Execution\")\n",
    "\n",
    "for direction in dft.direction.unique():\n",
    "    labels = []\n",
    "    sums = []\n",
    "\n",
    "    for scenario in scenarios:    \n",
    "        dtranfer_start     = dft.loc[(dft.scenarioId == scenario) & (dft.direction == direction) & (dft.step == 1)].sort_values(by=['eventId'])\n",
    "        dtranfer_end       = dft.loc[(dft.scenarioId == scenario) & (dft.direction == direction) & (dft.step == 2)].sort_values(by=['eventId'])\n",
    "        dtranfer_durations = pd.to_timedelta(dtranfer_end.timeStamp.values - dtranfer_start.timeStamp.values)\n",
    "        su = dtranfer_durations.sum().total_seconds()\n",
    "        sums.append(su)\n",
    "        labels.append(f\"scenario {scenario}\")\n",
    "        print(f\"scenario {scenario}\", direction, su)\n",
    "\n",
    "    plt.bar(labels, sums, label=direction)\n",
    "\n",
    "plt.legend()\n",
    "    "
   ]
  },
  {
   "cell_type": "code",
   "execution_count": null,
   "id": "b6169e5d",
   "metadata": {},
   "outputs": [],
   "source": []
  }
 ],
 "metadata": {
  "kernelspec": {
   "display_name": "Python 3 (ipykernel)",
   "language": "python",
   "name": "python3"
  },
  "language_info": {
   "codemirror_mode": {
    "name": "ipython",
    "version": 3
   },
   "file_extension": ".py",
   "mimetype": "text/x-python",
   "name": "python",
   "nbconvert_exporter": "python",
   "pygments_lexer": "ipython3",
   "version": "3.9.6"
  }
 },
 "nbformat": 4,
 "nbformat_minor": 5
}
