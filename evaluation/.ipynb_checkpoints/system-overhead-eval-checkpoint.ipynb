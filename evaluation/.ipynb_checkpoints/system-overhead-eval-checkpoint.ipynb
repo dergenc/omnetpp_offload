{
 "cells": [
  {
   "cell_type": "code",
   "execution_count": 1,
   "id": "353bd8a4",
   "metadata": {},
   "outputs": [],
   "source": [
    "import numpy as np\n",
    "import pandas as pd\n",
    "import matplotlib.pyplot as plt"
   ]
  },
  {
   "cell_type": "code",
   "execution_count": 2,
   "id": "62c76655",
   "metadata": {},
   "outputs": [
    {
     "name": "stdout",
     "output_type": "stream",
     "text": [
      "<class 'pandas.core.frame.DataFrame'>\n",
      "RangeIndex: 2400 entries, 0 to 2399\n",
      "Data columns (total 11 columns):\n",
      " #   Column         Non-Null Count  Dtype                                \n",
      "---  ------         --------------  -----                                \n",
      " 0   scenario_id    2400 non-null   int64                                \n",
      " 1   simulation_id  2400 non-null   object                               \n",
      " 2   trail_id       2400 non-null   int64                                \n",
      " 3   time_stamp     2400 non-null   datetime64[ns, pytz.FixedOffset(120)]\n",
      " 4   provider_id    2400 non-null   object                               \n",
      " 5   command        2400 non-null   object                               \n",
      " 6   step           2400 non-null   int64                                \n",
      " 7   match_id       2400 non-null   object                               \n",
      " 8   run_config     2340 non-null   object                               \n",
      " 9   run_number     2340 non-null   float64                              \n",
      " 10  error          0 non-null      float64                              \n",
      "dtypes: datetime64[ns, pytz.FixedOffset(120)](1), float64(2), int64(3), object(5)\n",
      "memory usage: 206.4+ KB\n"
     ]
    },
    {
     "data": {
      "text/html": [
       "<div>\n",
       "<style scoped>\n",
       "    .dataframe tbody tr th:only-of-type {\n",
       "        vertical-align: middle;\n",
       "    }\n",
       "\n",
       "    .dataframe tbody tr th {\n",
       "        vertical-align: top;\n",
       "    }\n",
       "\n",
       "    .dataframe thead th {\n",
       "        text-align: right;\n",
       "    }\n",
       "</style>\n",
       "<table border=\"1\" class=\"dataframe\">\n",
       "  <thead>\n",
       "    <tr style=\"text-align: right;\">\n",
       "      <th></th>\n",
       "      <th>scenario_id</th>\n",
       "      <th>simulation_id</th>\n",
       "      <th>trail_id</th>\n",
       "      <th>time_stamp</th>\n",
       "      <th>provider_id</th>\n",
       "      <th>command</th>\n",
       "      <th>step</th>\n",
       "      <th>match_id</th>\n",
       "      <th>run_config</th>\n",
       "      <th>run_number</th>\n",
       "      <th>error</th>\n",
       "    </tr>\n",
       "  </thead>\n",
       "  <tbody>\n",
       "    <tr>\n",
       "      <th>0</th>\n",
       "      <td>1</td>\n",
       "      <td>tictoc-aed361a1</td>\n",
       "      <td>0</td>\n",
       "      <td>2021-09-08 14:11:04.819572+02:00</td>\n",
       "      <td>patricks-mbp-e5117188</td>\n",
       "      <td>Checkout</td>\n",
       "      <td>1</td>\n",
       "      <td>0xe984d772</td>\n",
       "      <td>NaN</td>\n",
       "      <td>NaN</td>\n",
       "      <td>NaN</td>\n",
       "    </tr>\n",
       "    <tr>\n",
       "      <th>1</th>\n",
       "      <td>1</td>\n",
       "      <td>tictoc-aed361a1</td>\n",
       "      <td>0</td>\n",
       "      <td>2021-09-08 14:11:04.978990+02:00</td>\n",
       "      <td>patricks-mbp-e5117188</td>\n",
       "      <td>Checkout</td>\n",
       "      <td>2</td>\n",
       "      <td>0xe984d772</td>\n",
       "      <td>NaN</td>\n",
       "      <td>NaN</td>\n",
       "      <td>NaN</td>\n",
       "    </tr>\n",
       "    <tr>\n",
       "      <th>2</th>\n",
       "      <td>1</td>\n",
       "      <td>tictoc-aed361a1</td>\n",
       "      <td>0</td>\n",
       "      <td>2021-09-08 14:11:04.979524+02:00</td>\n",
       "      <td>patricks-mbp-e5117188</td>\n",
       "      <td>Compile</td>\n",
       "      <td>1</td>\n",
       "      <td>0x8424f803</td>\n",
       "      <td>NaN</td>\n",
       "      <td>NaN</td>\n",
       "      <td>NaN</td>\n",
       "    </tr>\n",
       "    <tr>\n",
       "      <th>3</th>\n",
       "      <td>1</td>\n",
       "      <td>tictoc-aed361a1</td>\n",
       "      <td>0</td>\n",
       "      <td>2021-09-08 14:11:13.028952+02:00</td>\n",
       "      <td>patricks-mbp-e5117188</td>\n",
       "      <td>Compile</td>\n",
       "      <td>2</td>\n",
       "      <td>0x8424f803</td>\n",
       "      <td>NaN</td>\n",
       "      <td>NaN</td>\n",
       "      <td>NaN</td>\n",
       "    </tr>\n",
       "    <tr>\n",
       "      <th>4</th>\n",
       "      <td>1</td>\n",
       "      <td>tictoc-aed361a1</td>\n",
       "      <td>0</td>\n",
       "      <td>2021-09-08 14:11:13.110963+02:00</td>\n",
       "      <td>patricks-mbp-e5117188</td>\n",
       "      <td>Execution</td>\n",
       "      <td>1</td>\n",
       "      <td>0x36ecc2ee</td>\n",
       "      <td>TicToc18</td>\n",
       "      <td>0.0</td>\n",
       "      <td>NaN</td>\n",
       "    </tr>\n",
       "  </tbody>\n",
       "</table>\n",
       "</div>"
      ],
      "text/plain": [
       "   scenario_id    simulation_id  trail_id                       time_stamp  \\\n",
       "0            1  tictoc-aed361a1         0 2021-09-08 14:11:04.819572+02:00   \n",
       "1            1  tictoc-aed361a1         0 2021-09-08 14:11:04.978990+02:00   \n",
       "2            1  tictoc-aed361a1         0 2021-09-08 14:11:04.979524+02:00   \n",
       "3            1  tictoc-aed361a1         0 2021-09-08 14:11:13.028952+02:00   \n",
       "4            1  tictoc-aed361a1         0 2021-09-08 14:11:13.110963+02:00   \n",
       "\n",
       "             provider_id    command  step    match_id run_config  run_number  \\\n",
       "0  patricks-mbp-e5117188   Checkout     1  0xe984d772        NaN         NaN   \n",
       "1  patricks-mbp-e5117188   Checkout     2  0xe984d772        NaN         NaN   \n",
       "2  patricks-mbp-e5117188    Compile     1  0x8424f803        NaN         NaN   \n",
       "3  patricks-mbp-e5117188    Compile     2  0x8424f803        NaN         NaN   \n",
       "4  patricks-mbp-e5117188  Execution     1  0x36ecc2ee   TicToc18         0.0   \n",
       "\n",
       "   error  \n",
       "0    NaN  \n",
       "1    NaN  \n",
       "2    NaN  \n",
       "3    NaN  \n",
       "4    NaN  "
      ]
     },
     "execution_count": 2,
     "metadata": {},
     "output_type": "execute_result"
    }
   ],
   "source": [
    "dfr = pd.read_csv(\"opp-edge-eval-runs.csv\", parse_dates=['time_stamp'])\n",
    "dfr.info()\n",
    "dfr.head()"
   ]
  },
  {
   "cell_type": "code",
   "execution_count": 3,
   "id": "3e672050",
   "metadata": {},
   "outputs": [
    {
     "name": "stdout",
     "output_type": "stream",
     "text": [
      "<class 'pandas.core.frame.DataFrame'>\n",
      "RangeIndex: 2400 entries, 0 to 2399\n",
      "Data columns (total 10 columns):\n",
      " #   Column             Non-Null Count  Dtype                                \n",
      "---  ------             --------------  -----                                \n",
      " 0   scenario_id        2400 non-null   int64                                \n",
      " 1   simulation_id      2400 non-null   object                               \n",
      " 2   trail_id           2400 non-null   int64                                \n",
      " 3   time_stamp         2400 non-null   datetime64[ns, pytz.FixedOffset(120)]\n",
      " 4   provider_id        2400 non-null   object                               \n",
      " 5   step               2400 non-null   int64                                \n",
      " 6   match_id           2400 non-null   object                               \n",
      " 7   direction          2400 non-null   object                               \n",
      " 8   bytes_transferred  2400 non-null   int64                                \n",
      " 9   error              0 non-null      float64                              \n",
      "dtypes: datetime64[ns, pytz.FixedOffset(120)](1), float64(1), int64(4), object(4)\n",
      "memory usage: 187.6+ KB\n"
     ]
    },
    {
     "data": {
      "text/html": [
       "<div>\n",
       "<style scoped>\n",
       "    .dataframe tbody tr th:only-of-type {\n",
       "        vertical-align: middle;\n",
       "    }\n",
       "\n",
       "    .dataframe tbody tr th {\n",
       "        vertical-align: top;\n",
       "    }\n",
       "\n",
       "    .dataframe thead th {\n",
       "        text-align: right;\n",
       "    }\n",
       "</style>\n",
       "<table border=\"1\" class=\"dataframe\">\n",
       "  <thead>\n",
       "    <tr style=\"text-align: right;\">\n",
       "      <th></th>\n",
       "      <th>scenario_id</th>\n",
       "      <th>simulation_id</th>\n",
       "      <th>trail_id</th>\n",
       "      <th>time_stamp</th>\n",
       "      <th>provider_id</th>\n",
       "      <th>step</th>\n",
       "      <th>match_id</th>\n",
       "      <th>direction</th>\n",
       "      <th>bytes_transferred</th>\n",
       "      <th>error</th>\n",
       "    </tr>\n",
       "  </thead>\n",
       "  <tbody>\n",
       "    <tr>\n",
       "      <th>0</th>\n",
       "      <td>1</td>\n",
       "      <td>tictoc-aed361a1</td>\n",
       "      <td>0</td>\n",
       "      <td>2021-09-08 14:11:04.806005+02:00</td>\n",
       "      <td>patricks-mbp-e5117188</td>\n",
       "      <td>1</td>\n",
       "      <td>0x602bffba</td>\n",
       "      <td>Upload</td>\n",
       "      <td>0</td>\n",
       "      <td>NaN</td>\n",
       "    </tr>\n",
       "    <tr>\n",
       "      <th>1</th>\n",
       "      <td>1</td>\n",
       "      <td>tictoc-aed361a1</td>\n",
       "      <td>0</td>\n",
       "      <td>2021-09-08 14:11:04.819474+02:00</td>\n",
       "      <td>patricks-mbp-e5117188</td>\n",
       "      <td>2</td>\n",
       "      <td>0x602bffba</td>\n",
       "      <td>Upload</td>\n",
       "      <td>2716854</td>\n",
       "      <td>NaN</td>\n",
       "    </tr>\n",
       "    <tr>\n",
       "      <th>2</th>\n",
       "      <td>1</td>\n",
       "      <td>tictoc-aed361a1</td>\n",
       "      <td>0</td>\n",
       "      <td>2021-09-08 14:11:13.028993+02:00</td>\n",
       "      <td>patricks-mbp-e5117188</td>\n",
       "      <td>1</td>\n",
       "      <td>0x43ab2aa9</td>\n",
       "      <td>Download</td>\n",
       "      <td>0</td>\n",
       "      <td>NaN</td>\n",
       "    </tr>\n",
       "    <tr>\n",
       "      <th>3</th>\n",
       "      <td>1</td>\n",
       "      <td>tictoc-aed361a1</td>\n",
       "      <td>0</td>\n",
       "      <td>2021-09-08 14:11:13.040475+02:00</td>\n",
       "      <td>patricks-mbp-e5117188</td>\n",
       "      <td>2</td>\n",
       "      <td>0x43ab2aa9</td>\n",
       "      <td>Download</td>\n",
       "      <td>2097152</td>\n",
       "      <td>NaN</td>\n",
       "    </tr>\n",
       "    <tr>\n",
       "      <th>4</th>\n",
       "      <td>1</td>\n",
       "      <td>tictoc-aed361a1</td>\n",
       "      <td>0</td>\n",
       "      <td>2021-09-08 14:11:18.422710+02:00</td>\n",
       "      <td>patricks-mbp-e5117188</td>\n",
       "      <td>1</td>\n",
       "      <td>0x96b42ae1</td>\n",
       "      <td>Download</td>\n",
       "      <td>0</td>\n",
       "      <td>NaN</td>\n",
       "    </tr>\n",
       "  </tbody>\n",
       "</table>\n",
       "</div>"
      ],
      "text/plain": [
       "   scenario_id    simulation_id  trail_id                       time_stamp  \\\n",
       "0            1  tictoc-aed361a1         0 2021-09-08 14:11:04.806005+02:00   \n",
       "1            1  tictoc-aed361a1         0 2021-09-08 14:11:04.819474+02:00   \n",
       "2            1  tictoc-aed361a1         0 2021-09-08 14:11:13.028993+02:00   \n",
       "3            1  tictoc-aed361a1         0 2021-09-08 14:11:13.040475+02:00   \n",
       "4            1  tictoc-aed361a1         0 2021-09-08 14:11:18.422710+02:00   \n",
       "\n",
       "             provider_id  step    match_id direction  bytes_transferred  error  \n",
       "0  patricks-mbp-e5117188     1  0x602bffba    Upload                  0    NaN  \n",
       "1  patricks-mbp-e5117188     2  0x602bffba    Upload            2716854    NaN  \n",
       "2  patricks-mbp-e5117188     1  0x43ab2aa9  Download                  0    NaN  \n",
       "3  patricks-mbp-e5117188     2  0x43ab2aa9  Download            2097152    NaN  \n",
       "4  patricks-mbp-e5117188     1  0x96b42ae1  Download                  0    NaN  "
      ]
     },
     "execution_count": 3,
     "metadata": {},
     "output_type": "execute_result"
    }
   ],
   "source": [
    "dft = pd.read_csv(\"opp-edge-eval-transfers.csv\", parse_dates=['time_stamp'])\n",
    "dft.info()\n",
    "dft.head()"
   ]
  },
  {
   "cell_type": "code",
   "execution_count": 46,
   "id": "6b474f62",
   "metadata": {},
   "outputs": [
    {
     "data": {
      "image/png": "[encoded data removed]",
      "text/plain": [
       "<Figure size 432x288 with 1 Axes>"
      ]
     },
     "metadata": {
      "needs_background": "light"
     },
     "output_type": "display_data"
    }
   ],
   "source": [
    "scenarios = dfr.scenario_id.unique()\n",
    "\n",
    "plt.title(\"Mean execution duration in sec\")\n",
    "\n",
    "for scenario in scenarios:\n",
    "    for trail in dfr.trail_id.unique():\n",
    "        execution_start = dfr.loc[(dfr.trail_id == trail) & (dfr.scenario_id == scenario) & (dfr.command == \"Execution\") & (dfr.step == 1)].sort_values(by=['match_id'])\n",
    "        execution_end   = dfr.loc[(dfr.trail_id == trail) & (dfr.scenario_id == scenario) & (dfr.command == \"Execution\") & (dfr.step == 2)].sort_values(by=['match_id'])\n",
    "\n",
    "        durations = pd.to_timedelta(execution_end.time_stamp.values - execution_start.time_stamp.values)\n",
    "        mean = durations.mean()\n",
    "        std = durations.std()\n",
    "\n",
    "        #plt.bar(f\"scenario {scenario} {trail}\", mean.total_seconds(), yerr=std.total_seconds(), capsize=10)\n",
    "        plt.bar(f\"scenario {scenario} {trail}\", mean.total_seconds())\n"
   ]
  },
  {
   "cell_type": "code",
   "execution_count": 5,
   "id": "eb4902f6",
   "metadata": {},
   "outputs": [
    {
     "data": {
      "image/png": "[encoded data removed]",
      "text/plain": [
       "<Figure size 432x288 with 1 Axes>"
      ]
     },
     "metadata": {
      "needs_background": "light"
     },
     "output_type": "display_data"
    }
   ],
   "source": [
    "scenarios = dfr.scenario_id.unique()\n",
    "\n",
    "plt.title(\"Mean checkout duration in sec\")\n",
    "\n",
    "for scenario in scenarios:\n",
    "    execution_start = dfr.loc[(dfr.scenario_id == scenario) & (dfr.command == \"Checkout\") & (dfr.step == 1)].sort_values(by=['match_id'])\n",
    "    execution_end   = dfr.loc[(dfr.scenario_id == scenario) & (dfr.command == \"Checkout\") & (dfr.step == 2)].sort_values(by=['match_id'])\n",
    "\n",
    "    durations = pd.to_timedelta(execution_end.time_stamp.values - execution_start.time_stamp.values)\n",
    "    mean = durations.mean()\n",
    "    std = durations.std()\n",
    "\n",
    "    plt.bar(f\"scenario {scenario}\", mean.total_seconds(), yerr=std.total_seconds(), capsize=10)\n",
    "    \n"
   ]
  },
  {
   "cell_type": "code",
   "execution_count": 9,
   "id": "5c138fa4",
   "metadata": {},
   "outputs": [
    {
     "name": "stdout",
     "output_type": "stream",
     "text": [
      "[2, 3, 4, 5]\n",
      "scenario-2 tranfered=497025024 sum=18956.398224 mean=26219.38081943936\n",
      "scenario-3 tranfered=497025024 sum=17797.114275 mean=27927.28171095592\n",
      "scenario-4 tranfered=497025024 sum=18524.406059 mean=26830.82104856596\n",
      "scenario-5 tranfered=497025024 sum=17730.131511 mean=28032.788346304107\n"
     ]
    },
    {
     "data": {
      "image/png": "[encoded data removed]",
      "text/plain": [
       "<Figure size 432x288 with 1 Axes>"
      ]
     },
     "metadata": {
      "needs_background": "light"
     },
     "output_type": "display_data"
    }
   ],
   "source": [
    "#scenarios = dft.scenario_id.unique()\n",
    "scenarios = [2, 3, 4, 5]\n",
    "print(scenarios)\n",
    "\n",
    "plt.title(\"Download speed\")\n",
    "\n",
    "for scenario in scenarios:\n",
    "    tranfer_start = dft.loc[(dft.scenario_id == scenario) & (dft.direction == \"Download\") & (dft.step == 1)].sort_values(by=['match_id'])\n",
    "    tranfer_end   = dft.loc[(dft.scenario_id == scenario) & (dft.direction == \"Download\") & (dft.step == 2)].sort_values(by=['match_id'])\n",
    "    tranfered     = dft.loc[(dft.scenario_id == scenario) & (dft.direction == \"Download\")].bytes_transferred.sum()\n",
    "    \n",
    "    durations = pd.to_timedelta(tranfer_end.time_stamp.values - tranfer_start.time_stamp.values)\n",
    "    mean = tranfered / durations.sum().total_seconds()\n",
    "\n",
    "    print(f\"scenario-{scenario} tranfered={tranfered} sum={durations.sum().total_seconds()} mean={mean}\")\n",
    "\n",
    "    plt.bar(f\"scenario {scenario}\", mean)\n",
    "        "
   ]
  },
  {
   "cell_type": "code",
   "execution_count": 33,
   "id": "764ce768",
   "metadata": {},
   "outputs": [
    {
     "name": "stdout",
     "output_type": "stream",
     "text": [
      "[2, 3, 4, 5]\n",
      "scenario-2 tranfered=1359000 sum=5.863515 mean=231772.23900680736\n",
      "scenario-3 tranfered=1405408 sum=2.068868 mean=679312.5515982653\n",
      "scenario-4 tranfered=1477001 sum=2.178606 mean=677956.91373291\n",
      "scenario-5 tranfered=1534252 sum=2.1903 mean=700475.7339177281\n"
     ]
    },
    {
     "data": {
      "image/png": "[encoded data removed]",
      "text/plain": [
       "<Figure size 432x288 with 1 Axes>"
      ]
     },
     "metadata": {
      "needs_background": "light"
     },
     "output_type": "display_data"
    }
   ],
   "source": [
    "#scenarios = dft.scenario_id.unique()\n",
    "scenarios = [2, 3, 4, 5]\n",
    "print(scenarios)\n",
    "\n",
    "plt.title(\"Upload speed\")\n",
    "\n",
    "for scenario in scenarios:\n",
    "    tranfer_start = dft.loc[(dft.scenario_id == scenario) & (dft.direction == \"Upload\") & (dft.step == 1)].sort_values(by=['match_id'])\n",
    "    tranfer_end   = dft.loc[(dft.scenario_id == scenario) & (dft.direction == \"Upload\") & (dft.step == 2)].sort_values(by=['match_id'])\n",
    "    tranfered     = dft.loc[(dft.scenario_id == scenario) & (dft.direction == \"Upload\")].bytes_transferred.sum()\n",
    "    \n",
    "    durations = pd.to_timedelta(tranfer_end.time_stamp.values - tranfer_start.time_stamp.values)\n",
    "    mean = tranfered / durations.sum().total_seconds()\n",
    "    \n",
    "    print(f\"scenario-{scenario} tranfered={tranfered} sum={durations.sum().total_seconds()} mean={mean}\")\n",
    "\n",
    "    plt.bar(f\"scenario {scenario}\", mean)\n",
    "        "
   ]
  },
  {
   "cell_type": "code",
   "execution_count": 45,
   "id": "02642dd1",
   "metadata": {},
   "outputs": [
    {
     "name": "stdout",
     "output_type": "stream",
     "text": [
      "scenario 1 Checkout 0.483973\n",
      "scenario 2 Checkout 0.187302\n",
      "scenario 3 Checkout 0.160591\n",
      "scenario 4 Checkout 0.388285\n",
      "scenario 5 Checkout 0.233808\n",
      "scenario 1 Compile 24.246625\n",
      "scenario 2 Compile 21.638265\n",
      "scenario 3 Compile 15.958089\n",
      "scenario 4 Compile 20.592868\n",
      "scenario 5 Compile 19.575914\n",
      "scenario 1 Execution 1345.790432\n",
      "scenario 2 Execution 1129.785412\n",
      "scenario 3 Execution 1339.631053\n",
      "scenario 4 Execution 1135.025955\n",
      "scenario 5 Execution 1325.290217\n",
      "scenario 1 Upload 0.043932\n",
      "scenario 2 Upload 5.863515\n",
      "scenario 3 Upload 2.068868\n",
      "scenario 4 Upload 2.178606\n",
      "scenario 5 Upload 2.1903\n",
      "scenario 1 Download 2.496876\n",
      "scenario 2 Download 18956.398224\n",
      "scenario 3 Download 17797.114275\n",
      "scenario 4 Download 18524.406059\n",
      "scenario 5 Download 17730.131511\n"
     ]
    },
    {
     "data": {
      "text/plain": [
       "<matplotlib.legend.Legend at 0x7f40ced10b20>"
      ]
     },
     "execution_count": 45,
     "metadata": {},
     "output_type": "execute_result"
    },
    {
     "data": {
      "image/png": "[encoded data removed]",
      "text/plain": [
       "<Figure size 432x288 with 1 Axes>"
      ]
     },
     "metadata": {
      "needs_background": "light"
     },
     "output_type": "display_data"
    }
   ],
   "source": [
    "scenarios = dfr.scenario_id.unique()\n",
    "#scenarios = [2, 3, 4, 5]\n",
    "\n",
    "for command in dfr.command.unique():\n",
    "    labels = []\n",
    "    sums = []\n",
    "\n",
    "    for scenario in scenarios:    \n",
    "        exe_start     = dfr.loc[(dfr.scenario_id == scenario) & (dfr.command == command) & (dfr.step == 1)].sort_values(by=['match_id'])\n",
    "        exe_end       = dfr.loc[(dfr.scenario_id == scenario) & (dfr.command == command) & (dfr.step == 2)].sort_values(by=['match_id'])\n",
    "        exe_durations = pd.to_timedelta(exe_end.time_stamp.values - exe_start.time_stamp.values)\n",
    "        su = exe_durations.sum().total_seconds()\n",
    "        sums.append(su)\n",
    "        labels.append(f\"scenario {scenario}\")\n",
    "        print(f\"scenario {scenario}\", command, su)\n",
    "    \n",
    "    plt.bar(labels, sums, label=command)\n",
    "\n",
    "for direction in dft.direction.unique():\n",
    "    labels = []\n",
    "    sums = []\n",
    "\n",
    "    for scenario in scenarios:    \n",
    "        dtranfer_start     = dft.loc[(dft.scenario_id == scenario) & (dft.direction == direction) & (dft.step == 1)].sort_values(by=['match_id'])\n",
    "        dtranfer_end       = dft.loc[(dft.scenario_id == scenario) & (dft.direction == direction) & (dft.step == 2)].sort_values(by=['match_id'])\n",
    "        dtranfer_durations = pd.to_timedelta(dtranfer_end.time_stamp.values - dtranfer_start.time_stamp.values)\n",
    "        su = dtranfer_durations.sum().total_seconds()\n",
    "        sums.append(su)\n",
    "        labels.append(f\"scenario {scenario}\")\n",
    "        print(f\"scenario {scenario}\", direction, su)\n",
    "\n",
    "    plt.bar(labels, sums, label=direction)\n",
    "\n",
    "plt.legend()\n",
    "    "
   ]
  },
  {
   "cell_type": "code",
   "execution_count": null,
   "id": "87db5c1b",
   "metadata": {},
   "outputs": [],
   "source": []
  }
 ],
 "metadata": {
  "kernelspec": {
   "display_name": "Python 3 (ipykernel)",
   "language": "python",
   "name": "python3"
  },
  "language_info": {
   "codemirror_mode": {
    "name": "ipython",
    "version": 3
   },
   "file_extension": ".py",
   "mimetype": "text/x-python",
   "name": "python",
   "nbconvert_exporter": "python",
   "pygments_lexer": "ipython3",
   "version": "3.9.6"
  }
 },
 "nbformat": 4,
 "nbformat_minor": 5
}
