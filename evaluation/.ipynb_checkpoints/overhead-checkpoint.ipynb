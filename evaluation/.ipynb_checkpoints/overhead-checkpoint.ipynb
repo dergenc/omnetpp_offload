{
 "cells": [
  {
   "cell_type": "code",
   "execution_count": 1,
   "id": "de0b53b9",
   "metadata": {},
   "outputs": [
    {
     "name": "stdout",
     "output_type": "stream",
     "text": [
      "<class 'pandas.core.frame.DataFrame'>\n",
      "RangeIndex: 94 entries, 0 to 93\n",
      "Data columns (total 3 columns):\n",
      " #   Column      Non-Null Count  Dtype          \n",
      "---  ------      --------------  -----          \n",
      " 0   scenarioId  94 non-null     object         \n",
      " 1   trailId     94 non-null     int64          \n",
      " 2   duration    94 non-null     timedelta64[ns]\n",
      "dtypes: int64(1), object(1), timedelta64[ns](1)\n",
      "memory usage: 2.3+ KB\n"
     ]
    },
    {
     "data": {
      "text/html": [
       "<div>\n",
       "<style scoped>\n",
       "    .dataframe tbody tr th:only-of-type {\n",
       "        vertical-align: middle;\n",
       "    }\n",
       "\n",
       "    .dataframe tbody tr th {\n",
       "        vertical-align: top;\n",
       "    }\n",
       "\n",
       "    .dataframe thead th {\n",
       "        text-align: right;\n",
       "    }\n",
       "</style>\n",
       "<table border=\"1\" class=\"dataframe\">\n",
       "  <thead>\n",
       "    <tr style=\"text-align: right;\">\n",
       "      <th></th>\n",
       "      <th>scenarioId</th>\n",
       "      <th>trailId</th>\n",
       "      <th>duration</th>\n",
       "    </tr>\n",
       "  </thead>\n",
       "  <tbody>\n",
       "    <tr>\n",
       "      <th>0</th>\n",
       "      <td>pj1</td>\n",
       "      <td>0</td>\n",
       "      <td>0 days 00:01:35.538113235</td>\n",
       "    </tr>\n",
       "    <tr>\n",
       "      <th>1</th>\n",
       "      <td>pj1</td>\n",
       "      <td>1</td>\n",
       "      <td>0 days 00:01:36.070839110</td>\n",
       "    </tr>\n",
       "    <tr>\n",
       "      <th>2</th>\n",
       "      <td>pj1</td>\n",
       "      <td>2</td>\n",
       "      <td>0 days 00:01:35.673261203</td>\n",
       "    </tr>\n",
       "    <tr>\n",
       "      <th>3</th>\n",
       "      <td>pj1</td>\n",
       "      <td>3</td>\n",
       "      <td>0 days 00:01:34.337118860</td>\n",
       "    </tr>\n",
       "    <tr>\n",
       "      <th>4</th>\n",
       "      <td>pj1</td>\n",
       "      <td>4</td>\n",
       "      <td>0 days 00:01:34.413179469</td>\n",
       "    </tr>\n",
       "  </tbody>\n",
       "</table>\n",
       "</div>"
      ],
      "text/plain": [
       "  scenarioId  trailId                  duration\n",
       "0        pj1        0 0 days 00:01:35.538113235\n",
       "1        pj1        1 0 days 00:01:36.070839110\n",
       "2        pj1        2 0 days 00:01:35.673261203\n",
       "3        pj1        3 0 days 00:01:34.337118860\n",
       "4        pj1        4 0 days 00:01:34.413179469"
      ]
     },
     "execution_count": 1,
     "metadata": {},
     "output_type": "execute_result"
    }
   ],
   "source": [
    "import pandas as pd\n",
    "import numpy as np\n",
    "\n",
    "df = pd.read_csv(\"data/overhead.csv\")\n",
    "df[\"duration\"] = pd.to_timedelta(df[\"duration\"])\n",
    "\n",
    "df.info()\n",
    "df.head()"
   ]
  },
  {
   "cell_type": "code",
   "execution_count": 2,
   "id": "bf203578",
   "metadata": {},
   "outputs": [
    {
     "name": "stdout",
     "output_type": "stream",
     "text": [
      "pj1 95.206502 0.784234\n",
      "pj1d 170.213654 2.127524\n",
      "pj2 94.549088 0.523087\n",
      "pj2d 104.987703 0.757791\n",
      "pj4 58.368295 4.685338\n",
      "pj4d 60.945444 2.23372\n",
      "pj6 56.231612 1.259031\n",
      "pj6d 56.774441 0.318477\n",
      "pj8 54.991976 0.543741\n",
      "pj8d 55.473425 0.53397\n",
      "rj1 184.101496 4.332629\n",
      "rj1d 180.209352 9.334935\n",
      "rj2 94.991868 1.302356\n",
      "rj2d 91.361367 2.206944\n",
      "rj4 95.020684 0.849001\n",
      "rj4d 54.653805 2.33627\n",
      "rj6 99.369307 2.824903\n",
      "rj6d 53.855429 4.528243\n",
      "rj8 99.072069 1.640919\n",
      "rj8d 50.528234 0.747355\n"
     ]
    },
    {
     "data": {
      "image/png": "[encoded data removed]",
      "text/plain": [
       "<Figure size 432x288 with 1 Axes>"
      ]
     },
     "metadata": {
      "needs_background": "light"
     },
     "output_type": "display_data"
    }
   ],
   "source": [
    "import matplotlib.pyplot as plt\n",
    "\n",
    "scenarios = df[\"scenarioId\"].sort_values().unique()\n",
    "\n",
    "for scenario in scenarios:\n",
    "    durations = df.loc[df.scenarioId == scenario].duration\n",
    "    mean = durations.mean()\n",
    "    std = durations.std()\n",
    "    \n",
    "    print(scenario, mean.total_seconds(), std.total_seconds())\n",
    "    plt.bar(f\"{scenario}\", mean.total_seconds(), yerr=std.total_seconds(), capsize=10)\n",
    "    \n",
    "plt.xticks(rotation = 90)\n"
   ]
  },
  {
   "cell_type": "code",
   "execution_count": null,
   "id": "3c25f517",
   "metadata": {},
   "outputs": [],
   "source": []
  }
 ],
 "metadata": {
  "kernelspec": {
   "display_name": "Python 3 (ipykernel)",
   "language": "python",
   "name": "python3"
  },
  "language_info": {
   "codemirror_mode": {
    "name": "ipython",
    "version": 3
   },
   "file_extension": ".py",
   "mimetype": "text/x-python",
   "name": "python",
   "nbconvert_exporter": "python",
   "pygments_lexer": "ipython3",
   "version": "3.9.6"
  }
 },
 "nbformat": 4,
 "nbformat_minor": 5
}
