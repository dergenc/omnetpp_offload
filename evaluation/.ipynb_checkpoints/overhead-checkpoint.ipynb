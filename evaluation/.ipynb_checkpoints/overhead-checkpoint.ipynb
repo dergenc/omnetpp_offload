{
 "cells": [
  {
   "cell_type": "code",
   "execution_count": 3,
   "id": "de0b53b9",
   "metadata": {},
   "outputs": [
    {
     "name": "stdout",
     "output_type": "stream",
     "text": [
      "<class 'pandas.core.frame.DataFrame'>\n",
      "RangeIndex: 35 entries, 0 to 34\n",
      "Data columns (total 3 columns):\n",
      " #   Column    Non-Null Count  Dtype          \n",
      "---  ------    --------------  -----          \n",
      " 0   scenario  35 non-null     object         \n",
      " 1   run       35 non-null     int64          \n",
      " 2   duration  35 non-null     timedelta64[ns]\n",
      "dtypes: int64(1), object(1), timedelta64[ns](1)\n",
      "memory usage: 968.0+ bytes\n"
     ]
    },
    {
     "data": {
      "text/html": [
       "<div>\n",
       "<style scoped>\n",
       "    .dataframe tbody tr th:only-of-type {\n",
       "        vertical-align: middle;\n",
       "    }\n",
       "\n",
       "    .dataframe tbody tr th {\n",
       "        vertical-align: top;\n",
       "    }\n",
       "\n",
       "    .dataframe thead th {\n",
       "        text-align: right;\n",
       "    }\n",
       "</style>\n",
       "<table border=\"1\" class=\"dataframe\">\n",
       "  <thead>\n",
       "    <tr style=\"text-align: right;\">\n",
       "      <th></th>\n",
       "      <th>scenario</th>\n",
       "      <th>run</th>\n",
       "      <th>duration</th>\n",
       "    </tr>\n",
       "  </thead>\n",
       "  <tbody>\n",
       "    <tr>\n",
       "      <th>0</th>\n",
       "      <td>1</td>\n",
       "      <td>0</td>\n",
       "      <td>0 days 00:01:02.086492410</td>\n",
       "    </tr>\n",
       "    <tr>\n",
       "      <th>1</th>\n",
       "      <td>1</td>\n",
       "      <td>1</td>\n",
       "      <td>0 days 00:01:02.662867235</td>\n",
       "    </tr>\n",
       "    <tr>\n",
       "      <th>2</th>\n",
       "      <td>1</td>\n",
       "      <td>2</td>\n",
       "      <td>0 days 00:01:02.400930239</td>\n",
       "    </tr>\n",
       "    <tr>\n",
       "      <th>3</th>\n",
       "      <td>1</td>\n",
       "      <td>3</td>\n",
       "      <td>0 days 00:01:04.024475106</td>\n",
       "    </tr>\n",
       "    <tr>\n",
       "      <th>4</th>\n",
       "      <td>1</td>\n",
       "      <td>4</td>\n",
       "      <td>0 days 00:01:03.392743368</td>\n",
       "    </tr>\n",
       "  </tbody>\n",
       "</table>\n",
       "</div>"
      ],
      "text/plain": [
       "  scenario  run                  duration\n",
       "0        1    0 0 days 00:01:02.086492410\n",
       "1        1    1 0 days 00:01:02.662867235\n",
       "2        1    2 0 days 00:01:02.400930239\n",
       "3        1    3 0 days 00:01:04.024475106\n",
       "4        1    4 0 days 00:01:03.392743368"
      ]
     },
     "execution_count": 3,
     "metadata": {},
     "output_type": "execute_result"
    }
   ],
   "source": [
    "import pandas as pd\n",
    "import numpy as np\n",
    "\n",
    "df = pd.read_csv(\"data/overhead.csv\")\n",
    "df[\"duration\"] = pd.to_timedelta(df[\"duration\"])\n",
    "\n",
    "df.info()\n",
    "df.head()"
   ]
  },
  {
   "cell_type": "code",
   "execution_count": 4,
   "id": "bf203578",
   "metadata": {},
   "outputs": [
    {
     "name": "stdout",
     "output_type": "stream",
     "text": [
      "0 53.480318 2.071429\n",
      "1 62.913501 0.786356\n",
      "2 161.750881 16.900953\n",
      "3 166.241584 24.316062\n",
      "4 144.643697 1.436115\n",
      "5 142.409268 2.193389\n",
      "s1 200.393346 7.626994\n"
     ]
    },
    {
     "data": {
      "image/png": "[encoded data removed]",
      "text/plain": [
       "<Figure size 432x288 with 1 Axes>"
      ]
     },
     "metadata": {
      "needs_background": "light"
     },
     "output_type": "display_data"
    }
   ],
   "source": [
    "import matplotlib.pyplot as plt\n",
    "\n",
    "scenarios = df[\"scenario\"].sort_values().unique()\n",
    "\n",
    "for scenario in scenarios:\n",
    "    durations = df.loc[df.scenario == scenario].duration\n",
    "    mean = durations.mean()\n",
    "    std = durations.std()\n",
    "    \n",
    "    print(scenario, mean.total_seconds(), std.total_seconds())\n",
    "    plt.bar(f\"{scenario}\", mean.total_seconds(), yerr=std.total_seconds(), capsize=10)"
   ]
  },
  {
   "cell_type": "code",
   "execution_count": null,
   "id": "3c25f517",
   "metadata": {},
   "outputs": [],
   "source": []
  }
 ],
 "metadata": {
  "kernelspec": {
   "display_name": "Python 3 (ipykernel)",
   "language": "python",
   "name": "python3"
  },
  "language_info": {
   "codemirror_mode": {
    "name": "ipython",
    "version": 3
   },
   "file_extension": ".py",
   "mimetype": "text/x-python",
   "name": "python",
   "nbconvert_exporter": "python",
   "pygments_lexer": "ipython3",
   "version": "3.9.6"
  }
 },
 "nbformat": 4,
 "nbformat_minor": 5
}
