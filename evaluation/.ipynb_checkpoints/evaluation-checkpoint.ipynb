{
 "cells": [
  {
   "cell_type": "code",
   "execution_count": 2,
   "id": "353bd8a4",
   "metadata": {},
   "outputs": [],
   "source": [
    "import numpy as np\n",
    "import pandas as pd\n",
    "import matplotlib.pyplot as plt"
   ]
  },
  {
   "cell_type": "code",
   "execution_count": 3,
   "id": "62c76655",
   "metadata": {},
   "outputs": [
    {
     "name": "stdout",
     "output_type": "stream",
     "text": [
      "<class 'pandas.core.frame.DataFrame'>\n",
      "RangeIndex: 2340 entries, 0 to 2339\n",
      "Data columns (total 10 columns):\n",
      " #   Column        Non-Null Count  Dtype                                \n",
      "---  ------        --------------  -----                                \n",
      " 0   scenarioId    2340 non-null   int64                                \n",
      " 1   trailId       2340 non-null   int64                                \n",
      " 2   simulationId  2340 non-null   object                               \n",
      " 3   timeStamp     2340 non-null   datetime64[ns, pytz.FixedOffset(120)]\n",
      " 4   providerId    2340 non-null   object                               \n",
      " 5   eventId       2340 non-null   object                               \n",
      " 6   step          2340 non-null   int64                                \n",
      " 7   runConfig     2340 non-null   object                               \n",
      " 8   runNumber     2340 non-null   int64                                \n",
      " 9   error         0 non-null      float64                              \n",
      "dtypes: datetime64[ns, pytz.FixedOffset(120)](1), float64(1), int64(4), object(4)\n",
      "memory usage: 182.9+ KB\n"
     ]
    },
    {
     "data": {
      "text/html": [
       "<div>\n",
       "<style scoped>\n",
       "    .dataframe tbody tr th:only-of-type {\n",
       "        vertical-align: middle;\n",
       "    }\n",
       "\n",
       "    .dataframe tbody tr th {\n",
       "        vertical-align: top;\n",
       "    }\n",
       "\n",
       "    .dataframe thead th {\n",
       "        text-align: right;\n",
       "    }\n",
       "</style>\n",
       "<table border=\"1\" class=\"dataframe\">\n",
       "  <thead>\n",
       "    <tr style=\"text-align: right;\">\n",
       "      <th></th>\n",
       "      <th>scenarioId</th>\n",
       "      <th>trailId</th>\n",
       "      <th>simulationId</th>\n",
       "      <th>timeStamp</th>\n",
       "      <th>providerId</th>\n",
       "      <th>eventId</th>\n",
       "      <th>step</th>\n",
       "      <th>runConfig</th>\n",
       "      <th>runNumber</th>\n",
       "      <th>error</th>\n",
       "    </tr>\n",
       "  </thead>\n",
       "  <tbody>\n",
       "    <tr>\n",
       "      <th>0</th>\n",
       "      <td>1</td>\n",
       "      <td>0</td>\n",
       "      <td>tictoc-0c42248c</td>\n",
       "      <td>2021-09-15 11:16:27.032441+02:00</td>\n",
       "      <td>patricks-mbp-02434787</td>\n",
       "      <td>0xd0a25462</td>\n",
       "      <td>1</td>\n",
       "      <td>TicToc18</td>\n",
       "      <td>5</td>\n",
       "      <td>NaN</td>\n",
       "    </tr>\n",
       "    <tr>\n",
       "      <th>1</th>\n",
       "      <td>1</td>\n",
       "      <td>0</td>\n",
       "      <td>tictoc-0c42248c</td>\n",
       "      <td>2021-09-15 11:16:27.034596+02:00</td>\n",
       "      <td>patricks-mbp-02434787</td>\n",
       "      <td>0xec342a97</td>\n",
       "      <td>1</td>\n",
       "      <td>TicToc18</td>\n",
       "      <td>3</td>\n",
       "      <td>NaN</td>\n",
       "    </tr>\n",
       "    <tr>\n",
       "      <th>2</th>\n",
       "      <td>1</td>\n",
       "      <td>0</td>\n",
       "      <td>tictoc-0c42248c</td>\n",
       "      <td>2021-09-15 11:16:27.035204+02:00</td>\n",
       "      <td>patricks-mbp-02434787</td>\n",
       "      <td>0xa2f8fb25</td>\n",
       "      <td>1</td>\n",
       "      <td>TicToc18</td>\n",
       "      <td>6</td>\n",
       "      <td>NaN</td>\n",
       "    </tr>\n",
       "    <tr>\n",
       "      <th>3</th>\n",
       "      <td>1</td>\n",
       "      <td>0</td>\n",
       "      <td>tictoc-0c42248c</td>\n",
       "      <td>2021-09-15 11:16:27.035369+02:00</td>\n",
       "      <td>patricks-mbp-02434787</td>\n",
       "      <td>0xb5e038f3</td>\n",
       "      <td>1</td>\n",
       "      <td>TicToc18</td>\n",
       "      <td>2</td>\n",
       "      <td>NaN</td>\n",
       "    </tr>\n",
       "    <tr>\n",
       "      <th>4</th>\n",
       "      <td>1</td>\n",
       "      <td>0</td>\n",
       "      <td>tictoc-0c42248c</td>\n",
       "      <td>2021-09-15 11:16:27.036464+02:00</td>\n",
       "      <td>patricks-mbp-02434787</td>\n",
       "      <td>0x85477213</td>\n",
       "      <td>1</td>\n",
       "      <td>TicToc18</td>\n",
       "      <td>4</td>\n",
       "      <td>NaN</td>\n",
       "    </tr>\n",
       "  </tbody>\n",
       "</table>\n",
       "</div>"
      ],
      "text/plain": [
       "   scenarioId  trailId     simulationId                        timeStamp  \\\n",
       "0           1        0  tictoc-0c42248c 2021-09-15 11:16:27.032441+02:00   \n",
       "1           1        0  tictoc-0c42248c 2021-09-15 11:16:27.034596+02:00   \n",
       "2           1        0  tictoc-0c42248c 2021-09-15 11:16:27.035204+02:00   \n",
       "3           1        0  tictoc-0c42248c 2021-09-15 11:16:27.035369+02:00   \n",
       "4           1        0  tictoc-0c42248c 2021-09-15 11:16:27.036464+02:00   \n",
       "\n",
       "              providerId     eventId  step runConfig  runNumber  error  \n",
       "0  patricks-mbp-02434787  0xd0a25462     1  TicToc18          5    NaN  \n",
       "1  patricks-mbp-02434787  0xec342a97     1  TicToc18          3    NaN  \n",
       "2  patricks-mbp-02434787  0xa2f8fb25     1  TicToc18          6    NaN  \n",
       "3  patricks-mbp-02434787  0xb5e038f3     1  TicToc18          2    NaN  \n",
       "4  patricks-mbp-02434787  0x85477213     1  TicToc18          4    NaN  "
      ]
     },
     "execution_count": 3,
     "metadata": {},
     "output_type": "execute_result"
    }
   ],
   "source": [
    "dfr = pd.read_csv(\"data/runs.csv\", parse_dates=['timeStamp'])\n",
    "dfr.info()\n",
    "dfr.head()"
   ]
  },
  {
   "cell_type": "code",
   "execution_count": 4,
   "id": "3e672050",
   "metadata": {},
   "outputs": [
    {
     "name": "stdout",
     "output_type": "stream",
     "text": [
      "<class 'pandas.core.frame.DataFrame'>\n",
      "RangeIndex: 2400 entries, 0 to 2399\n",
      "Data columns (total 11 columns):\n",
      " #   Column        Non-Null Count  Dtype                                \n",
      "---  ------        --------------  -----                                \n",
      " 0   scenarioId    2400 non-null   int64                                \n",
      " 1   trailId       2400 non-null   int64                                \n",
      " 2   simulationId  2400 non-null   object                               \n",
      " 3   timeStamp     2400 non-null   datetime64[ns, pytz.FixedOffset(120)]\n",
      " 4   providerId    2400 non-null   object                               \n",
      " 5   eventId       2400 non-null   object                               \n",
      " 6   step          2400 non-null   int64                                \n",
      " 7   direction     2400 non-null   object                               \n",
      " 8   file          2400 non-null   object                               \n",
      " 9   transferred   2400 non-null   int64                                \n",
      " 10  error         0 non-null      float64                              \n",
      "dtypes: datetime64[ns, pytz.FixedOffset(120)](1), float64(1), int64(4), object(5)\n",
      "memory usage: 206.4+ KB\n"
     ]
    },
    {
     "data": {
      "text/html": [
       "<div>\n",
       "<style scoped>\n",
       "    .dataframe tbody tr th:only-of-type {\n",
       "        vertical-align: middle;\n",
       "    }\n",
       "\n",
       "    .dataframe tbody tr th {\n",
       "        vertical-align: top;\n",
       "    }\n",
       "\n",
       "    .dataframe thead th {\n",
       "        text-align: right;\n",
       "    }\n",
       "</style>\n",
       "<table border=\"1\" class=\"dataframe\">\n",
       "  <thead>\n",
       "    <tr style=\"text-align: right;\">\n",
       "      <th></th>\n",
       "      <th>scenarioId</th>\n",
       "      <th>trailId</th>\n",
       "      <th>simulationId</th>\n",
       "      <th>timeStamp</th>\n",
       "      <th>providerId</th>\n",
       "      <th>eventId</th>\n",
       "      <th>step</th>\n",
       "      <th>direction</th>\n",
       "      <th>file</th>\n",
       "      <th>transferred</th>\n",
       "      <th>error</th>\n",
       "    </tr>\n",
       "  </thead>\n",
       "  <tbody>\n",
       "    <tr>\n",
       "      <th>0</th>\n",
       "      <td>1</td>\n",
       "      <td>0</td>\n",
       "      <td>tictoc-0c42248c</td>\n",
       "      <td>2021-09-15 11:16:19.320719+02:00</td>\n",
       "      <td>patricks-mbp-02434787</td>\n",
       "      <td>0xa7d45d71</td>\n",
       "      <td>1</td>\n",
       "      <td>Upload</td>\n",
       "      <td>source.tgz</td>\n",
       "      <td>0</td>\n",
       "      <td>NaN</td>\n",
       "    </tr>\n",
       "    <tr>\n",
       "      <th>1</th>\n",
       "      <td>1</td>\n",
       "      <td>0</td>\n",
       "      <td>tictoc-0c42248c</td>\n",
       "      <td>2021-09-15 11:16:19.368700+02:00</td>\n",
       "      <td>patricks-mbp-02434787</td>\n",
       "      <td>0xa7d45d71</td>\n",
       "      <td>2</td>\n",
       "      <td>Upload</td>\n",
       "      <td>source.tgz</td>\n",
       "      <td>433624</td>\n",
       "      <td>NaN</td>\n",
       "    </tr>\n",
       "    <tr>\n",
       "      <th>2</th>\n",
       "      <td>1</td>\n",
       "      <td>0</td>\n",
       "      <td>tictoc-0c42248c</td>\n",
       "      <td>2021-09-15 11:16:26.798320+02:00</td>\n",
       "      <td>patricks-mbp-02434787</td>\n",
       "      <td>0x7d8e760</td>\n",
       "      <td>1</td>\n",
       "      <td>Download</td>\n",
       "      <td>binary/binary/darwin_amd64.tgz.tgz</td>\n",
       "      <td>0</td>\n",
       "      <td>NaN</td>\n",
       "    </tr>\n",
       "    <tr>\n",
       "      <th>3</th>\n",
       "      <td>1</td>\n",
       "      <td>0</td>\n",
       "      <td>tictoc-0c42248c</td>\n",
       "      <td>2021-09-15 11:16:26.838090+02:00</td>\n",
       "      <td>patricks-mbp-02434787</td>\n",
       "      <td>0x7d8e760</td>\n",
       "      <td>2</td>\n",
       "      <td>Download</td>\n",
       "      <td>binary/binary/darwin_amd64.tgz.tgz</td>\n",
       "      <td>2097152</td>\n",
       "      <td>NaN</td>\n",
       "    </tr>\n",
       "    <tr>\n",
       "      <th>4</th>\n",
       "      <td>1</td>\n",
       "      <td>0</td>\n",
       "      <td>tictoc-0c42248c</td>\n",
       "      <td>2021-09-15 11:16:32.229106+02:00</td>\n",
       "      <td>patricks-mbp-02434787</td>\n",
       "      <td>0xfd7e21e9</td>\n",
       "      <td>1</td>\n",
       "      <td>Download</td>\n",
       "      <td>results/TicToc18_6.tgz</td>\n",
       "      <td>0</td>\n",
       "      <td>NaN</td>\n",
       "    </tr>\n",
       "  </tbody>\n",
       "</table>\n",
       "</div>"
      ],
      "text/plain": [
       "   scenarioId  trailId     simulationId                        timeStamp  \\\n",
       "0           1        0  tictoc-0c42248c 2021-09-15 11:16:19.320719+02:00   \n",
       "1           1        0  tictoc-0c42248c 2021-09-15 11:16:19.368700+02:00   \n",
       "2           1        0  tictoc-0c42248c 2021-09-15 11:16:26.798320+02:00   \n",
       "3           1        0  tictoc-0c42248c 2021-09-15 11:16:26.838090+02:00   \n",
       "4           1        0  tictoc-0c42248c 2021-09-15 11:16:32.229106+02:00   \n",
       "\n",
       "              providerId     eventId  step direction  \\\n",
       "0  patricks-mbp-02434787  0xa7d45d71     1    Upload   \n",
       "1  patricks-mbp-02434787  0xa7d45d71     2    Upload   \n",
       "2  patricks-mbp-02434787   0x7d8e760     1  Download   \n",
       "3  patricks-mbp-02434787   0x7d8e760     2  Download   \n",
       "4  patricks-mbp-02434787  0xfd7e21e9     1  Download   \n",
       "\n",
       "                                 file  transferred  error  \n",
       "0                          source.tgz            0    NaN  \n",
       "1                          source.tgz       433624    NaN  \n",
       "2  binary/binary/darwin_amd64.tgz.tgz            0    NaN  \n",
       "3  binary/binary/darwin_amd64.tgz.tgz      2097152    NaN  \n",
       "4              results/TicToc18_6.tgz            0    NaN  "
      ]
     },
     "execution_count": 4,
     "metadata": {},
     "output_type": "execute_result"
    }
   ],
   "source": [
    "dft = pd.read_csv(\"data/transfers.csv\", parse_dates=['timeStamp'])\n",
    "dft.info()\n",
    "dft.head()"
   ]
  },
  {
   "cell_type": "code",
   "execution_count": 5,
   "id": "f9a681fa",
   "metadata": {},
   "outputs": [
    {
     "name": "stdout",
     "output_type": "stream",
     "text": [
      "<class 'pandas.core.frame.DataFrame'>\n",
      "RangeIndex: 4770 entries, 0 to 4769\n",
      "Data columns (total 10 columns):\n",
      " #   Column        Non-Null Count  Dtype                                \n",
      "---  ------        --------------  -----                                \n",
      " 0   scenarioId    4770 non-null   int64                                \n",
      " 1   trailId       4770 non-null   int64                                \n",
      " 2   simulationId  4770 non-null   object                               \n",
      " 3   timeStamp     4770 non-null   datetime64[ns, pytz.FixedOffset(120)]\n",
      " 4   deviceId      4770 non-null   object                               \n",
      " 5   action        4770 non-null   object                               \n",
      " 6   meta          4770 non-null   object                               \n",
      " 7   eventId       4770 non-null   object                               \n",
      " 8   step          4770 non-null   int64                                \n",
      " 9   error         0 non-null      float64                              \n",
      "dtypes: datetime64[ns, pytz.FixedOffset(120)](1), float64(1), int64(3), object(5)\n",
      "memory usage: 372.8+ KB\n"
     ]
    },
    {
     "data": {
      "text/html": [
       "<div>\n",
       "<style scoped>\n",
       "    .dataframe tbody tr th:only-of-type {\n",
       "        vertical-align: middle;\n",
       "    }\n",
       "\n",
       "    .dataframe tbody tr th {\n",
       "        vertical-align: top;\n",
       "    }\n",
       "\n",
       "    .dataframe thead th {\n",
       "        text-align: right;\n",
       "    }\n",
       "</style>\n",
       "<table border=\"1\" class=\"dataframe\">\n",
       "  <thead>\n",
       "    <tr style=\"text-align: right;\">\n",
       "      <th></th>\n",
       "      <th>scenarioId</th>\n",
       "      <th>trailId</th>\n",
       "      <th>simulationId</th>\n",
       "      <th>timeStamp</th>\n",
       "      <th>deviceId</th>\n",
       "      <th>action</th>\n",
       "      <th>meta</th>\n",
       "      <th>eventId</th>\n",
       "      <th>step</th>\n",
       "      <th>error</th>\n",
       "    </tr>\n",
       "  </thead>\n",
       "  <tbody>\n",
       "    <tr>\n",
       "      <th>0</th>\n",
       "      <td>1</td>\n",
       "      <td>0</td>\n",
       "      <td>tictoc-0c42248c</td>\n",
       "      <td>2021-09-15 11:16:19.082171+02:00</td>\n",
       "      <td>consumer</td>\n",
       "      <td>Compress</td>\n",
       "      <td>source</td>\n",
       "      <td>0x18cc5d2b</td>\n",
       "      <td>1</td>\n",
       "      <td>NaN</td>\n",
       "    </tr>\n",
       "    <tr>\n",
       "      <th>1</th>\n",
       "      <td>1</td>\n",
       "      <td>0</td>\n",
       "      <td>tictoc-0c42248c</td>\n",
       "      <td>2021-09-15 11:16:19.231778+02:00</td>\n",
       "      <td>consumer</td>\n",
       "      <td>Compress</td>\n",
       "      <td>source</td>\n",
       "      <td>0x18cc5d2b</td>\n",
       "      <td>2</td>\n",
       "      <td>NaN</td>\n",
       "    </tr>\n",
       "    <tr>\n",
       "      <th>2</th>\n",
       "      <td>1</td>\n",
       "      <td>0</td>\n",
       "      <td>tictoc-0c42248c</td>\n",
       "      <td>2021-09-15 11:16:19.643755+02:00</td>\n",
       "      <td>patricks-mbp-02434787</td>\n",
       "      <td>Compile</td>\n",
       "      <td>darwin_amd64</td>\n",
       "      <td>0x9d1df196</td>\n",
       "      <td>1</td>\n",
       "      <td>NaN</td>\n",
       "    </tr>\n",
       "    <tr>\n",
       "      <th>3</th>\n",
       "      <td>1</td>\n",
       "      <td>0</td>\n",
       "      <td>tictoc-0c42248c</td>\n",
       "      <td>2021-09-15 11:16:26.608658+02:00</td>\n",
       "      <td>patricks-mbp-02434787</td>\n",
       "      <td>Compile</td>\n",
       "      <td>darwin_amd64</td>\n",
       "      <td>0x9d1df196</td>\n",
       "      <td>2</td>\n",
       "      <td>NaN</td>\n",
       "    </tr>\n",
       "    <tr>\n",
       "      <th>4</th>\n",
       "      <td>1</td>\n",
       "      <td>0</td>\n",
       "      <td>tictoc-0c42248c</td>\n",
       "      <td>2021-09-15 11:16:26.633905+02:00</td>\n",
       "      <td>patricks-mbp-02434787</td>\n",
       "      <td>Compress</td>\n",
       "      <td>binary/darwin_amd64.tgz</td>\n",
       "      <td>0x27df66db</td>\n",
       "      <td>1</td>\n",
       "      <td>NaN</td>\n",
       "    </tr>\n",
       "  </tbody>\n",
       "</table>\n",
       "</div>"
      ],
      "text/plain": [
       "   scenarioId  trailId     simulationId                        timeStamp  \\\n",
       "0           1        0  tictoc-0c42248c 2021-09-15 11:16:19.082171+02:00   \n",
       "1           1        0  tictoc-0c42248c 2021-09-15 11:16:19.231778+02:00   \n",
       "2           1        0  tictoc-0c42248c 2021-09-15 11:16:19.643755+02:00   \n",
       "3           1        0  tictoc-0c42248c 2021-09-15 11:16:26.608658+02:00   \n",
       "4           1        0  tictoc-0c42248c 2021-09-15 11:16:26.633905+02:00   \n",
       "\n",
       "                deviceId    action                     meta     eventId  step  \\\n",
       "0               consumer  Compress                   source  0x18cc5d2b     1   \n",
       "1               consumer  Compress                   source  0x18cc5d2b     2   \n",
       "2  patricks-mbp-02434787   Compile             darwin_amd64  0x9d1df196     1   \n",
       "3  patricks-mbp-02434787   Compile             darwin_amd64  0x9d1df196     2   \n",
       "4  patricks-mbp-02434787  Compress  binary/darwin_amd64.tgz  0x27df66db     1   \n",
       "\n",
       "   error  \n",
       "0    NaN  \n",
       "1    NaN  \n",
       "2    NaN  \n",
       "3    NaN  \n",
       "4    NaN  "
      ]
     },
     "execution_count": 5,
     "metadata": {},
     "output_type": "execute_result"
    }
   ],
   "source": [
    "dfa = pd.read_csv(\"data/actions.csv\", parse_dates=['timeStamp'])\n",
    "dfa.info()\n",
    "dfa.head()"
   ]
  },
  {
   "cell_type": "code",
   "execution_count": 6,
   "id": "6b474f62",
   "metadata": {},
   "outputs": [
    {
     "data": {
      "image/png": "[encoded data removed]",
      "text/plain": [
       "<Figure size 432x288 with 1 Axes>"
      ]
     },
     "metadata": {
      "needs_background": "light"
     },
     "output_type": "display_data"
    }
   ],
   "source": [
    "scenarios = dfr.scenarioId.unique()\n",
    "\n",
    "plt.title(\"Execution duration in sec\")\n",
    "\n",
    "for scenario in scenarios:\n",
    "    for trail in dfr.trailId.unique():\n",
    "        execution_start = dfr.loc[(dfr.trailId == trail) & (dfr.scenarioId == scenario) & (dfr.step == 1)].sort_values(by=['eventId'])\n",
    "        execution_end   = dfr.loc[(dfr.trailId == trail) & (dfr.scenarioId == scenario) & (dfr.step == 2)].sort_values(by=['eventId'])\n",
    "\n",
    "        durations = pd.to_timedelta(execution_end.timeStamp.values - execution_start.timeStamp.values)\n",
    "        mean = durations.mean()\n",
    "        std = durations.std()\n",
    "\n",
    "        #plt.bar(f\"scenario {scenario} {trail}\", mean.total_seconds(), yerr=std.total_seconds(), capsize=10)\n",
    "        plt.bar(f\"{scenario}-{trail}\", mean.total_seconds())\n"
   ]
  },
  {
   "cell_type": "code",
   "execution_count": 7,
   "id": "b2d53db5",
   "metadata": {},
   "outputs": [
    {
     "data": {
      "image/png": "[encoded data removed]",
      "text/plain": [
       "<Figure size 432x288 with 1 Axes>"
      ]
     },
     "metadata": {
      "needs_background": "light"
     },
     "output_type": "display_data"
    }
   ],
   "source": [
    "scenarios = dfr.scenarioId.unique()\n",
    "\n",
    "plt.title(\"Mean execution duration in sec\")\n",
    "\n",
    "for scenario in scenarios:\n",
    "    execution_start = dfr.loc[(dfr.scenarioId == scenario) & (dfr.step == 1)].sort_values(by=['eventId'])\n",
    "    execution_end   = dfr.loc[(dfr.scenarioId == scenario) & (dfr.step == 2)].sort_values(by=['eventId'])\n",
    "\n",
    "    durations = pd.to_timedelta(execution_end.timeStamp.values - execution_start.timeStamp.values)\n",
    "    mean = durations.mean()\n",
    "    std = durations.std()\n",
    "\n",
    "    plt.bar(f\"scenario {scenario}\", mean.total_seconds(), yerr=std.total_seconds(), capsize=10)\n"
   ]
  },
  {
   "cell_type": "code",
   "execution_count": 18,
   "id": "eb4902f6",
   "metadata": {},
   "outputs": [
    {
     "name": "stdout",
     "output_type": "stream",
     "text": [
      "Compress ['scenario 1', 'scenario 2', 'scenario 4'] [25.052835 26.069676 28.971847]\n",
      "Compile ['scenario 1', 'scenario 2', 'scenario 4'] [36.295477 33.819754 35.709244]\n",
      "Extract ['scenario 1', 'scenario 2', 'scenario 4'] [14.029474  9.326949  9.336931]\n"
     ]
    },
    {
     "data": {
      "text/plain": [
       "<matplotlib.legend.Legend at 0x7f4dfd32b7c0>"
      ]
     },
     "execution_count": 18,
     "metadata": {},
     "output_type": "execute_result"
    },
    {
     "data": {
      "image/png": "[encoded data removed]",
      "text/plain": [
       "<Figure size 432x288 with 1 Axes>"
      ]
     },
     "metadata": {
      "needs_background": "light"
     },
     "output_type": "display_data"
    }
   ],
   "source": [
    "scenarios = dfa.scenarioId.unique()\n",
    "actions = dfa.action.unique()\n",
    "\n",
    "plt.title(\"Mean checkout duration in sec\")\n",
    "\n",
    "last = np.zeros(len(actions))\n",
    "for action in actions:\n",
    "    labels = []\n",
    "    vals = np.zeros(len(scenarios))\n",
    "\n",
    "    for inx, scenario in enumerate(scenarios):\n",
    "        execution_start = dfa.loc[(dfa.scenarioId == scenario) & (dfa.action == action) & (dfa.step == 1)].sort_values(by=['eventId'])\n",
    "        execution_end   = dfa.loc[(dfa.scenarioId == scenario) & (dfa.action == action) & (dfa.step == 2)].sort_values(by=['eventId'])\n",
    "\n",
    "        durations = pd.to_timedelta(execution_end.timeStamp.values - execution_start.timeStamp.values)\n",
    "        val = durations.sum()\n",
    "\n",
    "        labels.append(f\"scenario {scenario}\")\n",
    "        vals[inx] = val.total_seconds()\n",
    "\n",
    "    plt.bar(labels, vals, label=action, bottom=last)\n",
    "    print(action, labels, vals)\n",
    "    last += vals\n",
    "    \n",
    "plt.legend()\n",
    "\n",
    "    "
   ]
  },
  {
   "cell_type": "code",
   "execution_count": 21,
   "id": "5c138fa4",
   "metadata": {},
   "outputs": [
    {
     "name": "stdout",
     "output_type": "stream",
     "text": [
      "[2, 4]\n",
      "scenario-2 tranfered=828375040 sum=38031.406199 mean=0.2178134133840629\n",
      "scenario-4 tranfered=828375040 sum=30882.054692 mean=0.26823831777442925\n"
     ]
    },
    {
     "data": {
      "image/png": "[encoded data removed]",
      "text/plain": [
       "<Figure size 432x288 with 1 Axes>"
      ]
     },
     "metadata": {
      "needs_background": "light"
     },
     "output_type": "display_data"
    }
   ],
   "source": [
    "#scenarios = dft.scenarioId.unique()\n",
    "scenarios = [2, 4]\n",
    "print(scenarios)\n",
    "\n",
    "plt.title(\"Download speed\")\n",
    "\n",
    "for scenario in scenarios:\n",
    "    tranfer_start = dft.loc[(dft.scenarioId == scenario) & (dft.direction == \"Download\") & (dft.step == 1)].sort_values(by=['eventId'])\n",
    "    tranfer_end   = dft.loc[(dft.scenarioId == scenario) & (dft.direction == \"Download\") & (dft.step == 2)].sort_values(by=['eventId'])\n",
    "    tranfered     = dft.loc[(dft.scenarioId == scenario) & (dft.direction == \"Download\")].transferred.sum()\n",
    "    \n",
    "    durations = pd.to_timedelta(tranfer_end.timeStamp.values - tranfer_start.timeStamp.values)\n",
    "    mean = tranfered / durations.sum().total_seconds() / 100000\n",
    "\n",
    "    print(f\"scenario-{scenario} tranfered={tranfered} sum={durations.sum().total_seconds()} mean={mean}\")\n",
    "\n",
    "    plt.bar(f\"scenario {scenario}\", mean)\n",
    "        "
   ]
  },
  {
   "cell_type": "code",
   "execution_count": 20,
   "id": "764ce768",
   "metadata": {},
   "outputs": [
    {
     "name": "stdout",
     "output_type": "stream",
     "text": [
      "[2, 4]\n",
      "scenario-2 tranfered=2191458 sum=6.658519 mean=3.2912093515089467\n",
      "scenario-4 tranfered=2213820 sum=5.744628 mean=3.853722120910179\n"
     ]
    },
    {
     "data": {
      "image/png": "[encoded data removed]",
      "text/plain": [
       "<Figure size 432x288 with 1 Axes>"
      ]
     },
     "metadata": {
      "needs_background": "light"
     },
     "output_type": "display_data"
    }
   ],
   "source": [
    "#scenarios = dft.scenarioId.unique()\n",
    "scenarios = [2, 4]\n",
    "print(scenarios)\n",
    "\n",
    "plt.title(\"Upload speed\")\n",
    "\n",
    "for scenario in scenarios:\n",
    "    tranfer_start = dft.loc[(dft.scenarioId == scenario) & (dft.direction == \"Upload\") & (dft.step == 1)].sort_values(by=['eventId'])\n",
    "    tranfer_end   = dft.loc[(dft.scenarioId == scenario) & (dft.direction == \"Upload\") & (dft.step == 2)].sort_values(by=['eventId'])\n",
    "    tranfered     = dft.loc[(dft.scenarioId == scenario) & (dft.direction == \"Upload\")].transferred.sum()\n",
    "    \n",
    "    durations = pd.to_timedelta(tranfer_end.timeStamp.values - tranfer_start.timeStamp.values)\n",
    "    mean = tranfered / durations.sum().total_seconds() / 100000\n",
    "    \n",
    "    print(f\"scenario-{scenario} tranfered={tranfered} sum={durations.sum().total_seconds()} mean={mean}\")\n",
    "\n",
    "    plt.bar(f\"scenario {scenario}\", mean)\n",
    "        "
   ]
  },
  {
   "cell_type": "code",
   "execution_count": 19,
   "id": "02642dd1",
   "metadata": {},
   "outputs": [
    {
     "name": "stdout",
     "output_type": "stream",
     "text": [
      "Execution ['scenario 1', 'scenario 2', 'scenario 4'] [2063.561917 1587.668408 1703.823995]\n",
      "Upload ['scenario 1', 'scenario 2', 'scenario 4'] [0.221235 6.658519 5.744628]\n",
      "Download ['scenario 1', 'scenario 2', 'scenario 4'] [1.99705600e+01 3.80314062e+04 3.08820547e+04]\n"
     ]
    },
    {
     "data": {
      "text/plain": [
       "<matplotlib.legend.Legend at 0x7f4dfd3ffc40>"
      ]
     },
     "execution_count": 19,
     "metadata": {},
     "output_type": "execute_result"
    },
    {
     "data": {
      "image/png": "[encoded data removed]",
      "text/plain": [
       "<Figure size 432x288 with 1 Axes>"
      ]
     },
     "metadata": {
      "needs_background": "light"
     },
     "output_type": "display_data"
    }
   ],
   "source": [
    "scenarios = dfr.scenarioId.unique()\n",
    "#scenarios = [2, 3, 4, 5]\n",
    "\n",
    "labels = []\n",
    "sums = np.zeros(len(scenarios))\n",
    "\n",
    "for inx, scenario in enumerate(scenarios):    \n",
    "    exe_start     = dfr.loc[(dfr.scenarioId == scenario) & (dfr.step == 1)].sort_values(by=['eventId'])\n",
    "    exe_end       = dfr.loc[(dfr.scenarioId == scenario) & (dfr.step == 2)].sort_values(by=['eventId'])\n",
    "    exe_durations = pd.to_timedelta(exe_end.timeStamp.values - exe_start.timeStamp.values)\n",
    "    su = exe_durations.sum().total_seconds()\n",
    "    sums[inx] = su\n",
    "    labels.append(f\"scenario {scenario}\")\n",
    "\n",
    "print(\"Execution\", labels, sums)\n",
    "plt.bar(labels, sums, label=\"Execution\")\n",
    "\n",
    "last = np.zeros(len(scenarios))\n",
    "last += sums\n",
    "\n",
    "for direction in dft.direction.unique():\n",
    "    labels = []\n",
    "    sums = np.zeros(len(scenarios))\n",
    "\n",
    "    for inx, scenario in enumerate(scenarios):    \n",
    "        dtranfer_start     = dft.loc[(dft.scenarioId == scenario) & (dft.direction == direction) & (dft.step == 1)].sort_values(by=['eventId'])\n",
    "        dtranfer_end       = dft.loc[(dft.scenarioId == scenario) & (dft.direction == direction) & (dft.step == 2)].sort_values(by=['eventId'])\n",
    "        dtranfer_durations = pd.to_timedelta(dtranfer_end.timeStamp.values - dtranfer_start.timeStamp.values)\n",
    "        su = dtranfer_durations.sum().total_seconds()\n",
    "        sums[inx] = su\n",
    "        labels.append(f\"scenario {scenario}\")\n",
    "\n",
    "    print(direction, labels, sums)\n",
    "    plt.bar(labels, sums, label=direction, bottom=last)\n",
    "    last += sums\n",
    "\n",
    "plt.legend()\n",
    "    "
   ]
  },
  {
   "cell_type": "code",
   "execution_count": null,
   "id": "b6169e5d",
   "metadata": {},
   "outputs": [],
   "source": []
  }
 ],
 "metadata": {
  "kernelspec": {
   "display_name": "Python 3 (ipykernel)",
   "language": "python",
   "name": "python3"
  },
  "language_info": {
   "codemirror_mode": {
    "name": "ipython",
    "version": 3
   },
   "file_extension": ".py",
   "mimetype": "text/x-python",
   "name": "python",
   "nbconvert_exporter": "python",
   "pygments_lexer": "ipython3",
   "version": "3.9.6"
  }
 },
 "nbformat": 4,
 "nbformat_minor": 5
}
