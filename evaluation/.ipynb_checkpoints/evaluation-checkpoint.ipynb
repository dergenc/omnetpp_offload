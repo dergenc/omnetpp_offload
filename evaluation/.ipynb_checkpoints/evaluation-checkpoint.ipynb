{
 "cells": [
  {
   "cell_type": "code",
   "execution_count": 1,
   "id": "353bd8a4",
   "metadata": {},
   "outputs": [],
   "source": [
    "import numpy as np\n",
    "import pandas as pd\n",
    "import matplotlib.pyplot as plt"
   ]
  },
  {
   "cell_type": "code",
   "execution_count": 2,
   "id": "62c76655",
   "metadata": {},
   "outputs": [
    {
     "name": "stdout",
     "output_type": "stream",
     "text": [
      "<class 'pandas.core.frame.DataFrame'>\n",
      "RangeIndex: 6552 entries, 0 to 6551\n",
      "Data columns (total 10 columns):\n",
      " #   Column        Non-Null Count  Dtype              \n",
      "---  ------        --------------  -----              \n",
      " 0   scenarioId    6552 non-null   object             \n",
      " 1   trailId       6552 non-null   int64              \n",
      " 2   simulationId  6552 non-null   object             \n",
      " 3   timeStamp     6552 non-null   datetime64[ns, UTC]\n",
      " 4   providerId    6552 non-null   object             \n",
      " 5   eventId       6552 non-null   object             \n",
      " 6   step          6552 non-null   int64              \n",
      " 7   runConfig     6552 non-null   object             \n",
      " 8   runNumber     6552 non-null   int64              \n",
      " 9   error         0 non-null      float64            \n",
      "dtypes: datetime64[ns, UTC](1), float64(1), int64(3), object(5)\n",
      "memory usage: 512.0+ KB\n"
     ]
    },
    {
     "data": {
      "text/html": [
       "<div>\n",
       "<style scoped>\n",
       "    .dataframe tbody tr th:only-of-type {\n",
       "        vertical-align: middle;\n",
       "    }\n",
       "\n",
       "    .dataframe tbody tr th {\n",
       "        vertical-align: top;\n",
       "    }\n",
       "\n",
       "    .dataframe thead th {\n",
       "        text-align: right;\n",
       "    }\n",
       "</style>\n",
       "<table border=\"1\" class=\"dataframe\">\n",
       "  <thead>\n",
       "    <tr style=\"text-align: right;\">\n",
       "      <th></th>\n",
       "      <th>scenarioId</th>\n",
       "      <th>trailId</th>\n",
       "      <th>simulationId</th>\n",
       "      <th>timeStamp</th>\n",
       "      <th>providerId</th>\n",
       "      <th>eventId</th>\n",
       "      <th>step</th>\n",
       "      <th>runConfig</th>\n",
       "      <th>runNumber</th>\n",
       "      <th>error</th>\n",
       "    </tr>\n",
       "  </thead>\n",
       "  <tbody>\n",
       "    <tr>\n",
       "      <th>0</th>\n",
       "      <td>pj1d</td>\n",
       "      <td>0</td>\n",
       "      <td>tictoc-1f2d4830</td>\n",
       "      <td>2021-09-19 12:50:37.976684600+00:00</td>\n",
       "      <td>docker-d1eb66cb</td>\n",
       "      <td>0xcbb0d4e6</td>\n",
       "      <td>1</td>\n",
       "      <td>TicToc18</td>\n",
       "      <td>0</td>\n",
       "      <td>NaN</td>\n",
       "    </tr>\n",
       "    <tr>\n",
       "      <th>1</th>\n",
       "      <td>pj1d</td>\n",
       "      <td>0</td>\n",
       "      <td>tictoc-1f2d4830</td>\n",
       "      <td>2021-09-19 12:50:40.576449400+00:00</td>\n",
       "      <td>docker-d1eb66cb</td>\n",
       "      <td>0xcbb0d4e6</td>\n",
       "      <td>2</td>\n",
       "      <td>TicToc18</td>\n",
       "      <td>0</td>\n",
       "      <td>NaN</td>\n",
       "    </tr>\n",
       "    <tr>\n",
       "      <th>2</th>\n",
       "      <td>pj1d</td>\n",
       "      <td>0</td>\n",
       "      <td>tictoc-1f2d4830</td>\n",
       "      <td>2021-09-19 12:50:40.741969400+00:00</td>\n",
       "      <td>docker-d1eb66cb</td>\n",
       "      <td>0xc9dd0cf4</td>\n",
       "      <td>1</td>\n",
       "      <td>TicToc18</td>\n",
       "      <td>1</td>\n",
       "      <td>NaN</td>\n",
       "    </tr>\n",
       "    <tr>\n",
       "      <th>3</th>\n",
       "      <td>pj1d</td>\n",
       "      <td>0</td>\n",
       "      <td>tictoc-1f2d4830</td>\n",
       "      <td>2021-09-19 12:50:43.125674200+00:00</td>\n",
       "      <td>docker-d1eb66cb</td>\n",
       "      <td>0xc9dd0cf4</td>\n",
       "      <td>2</td>\n",
       "      <td>TicToc18</td>\n",
       "      <td>1</td>\n",
       "      <td>NaN</td>\n",
       "    </tr>\n",
       "    <tr>\n",
       "      <th>4</th>\n",
       "      <td>pj1d</td>\n",
       "      <td>0</td>\n",
       "      <td>tictoc-1f2d4830</td>\n",
       "      <td>2021-09-19 12:50:43.289029800+00:00</td>\n",
       "      <td>docker-d1eb66cb</td>\n",
       "      <td>0xecc2a78a</td>\n",
       "      <td>1</td>\n",
       "      <td>TicToc18</td>\n",
       "      <td>2</td>\n",
       "      <td>NaN</td>\n",
       "    </tr>\n",
       "  </tbody>\n",
       "</table>\n",
       "</div>"
      ],
      "text/plain": [
       "  scenarioId  trailId     simulationId                           timeStamp  \\\n",
       "0       pj1d        0  tictoc-1f2d4830 2021-09-19 12:50:37.976684600+00:00   \n",
       "1       pj1d        0  tictoc-1f2d4830 2021-09-19 12:50:40.576449400+00:00   \n",
       "2       pj1d        0  tictoc-1f2d4830 2021-09-19 12:50:40.741969400+00:00   \n",
       "3       pj1d        0  tictoc-1f2d4830 2021-09-19 12:50:43.125674200+00:00   \n",
       "4       pj1d        0  tictoc-1f2d4830 2021-09-19 12:50:43.289029800+00:00   \n",
       "\n",
       "        providerId     eventId  step runConfig  runNumber  error  \n",
       "0  docker-d1eb66cb  0xcbb0d4e6     1  TicToc18          0    NaN  \n",
       "1  docker-d1eb66cb  0xcbb0d4e6     2  TicToc18          0    NaN  \n",
       "2  docker-d1eb66cb  0xc9dd0cf4     1  TicToc18          1    NaN  \n",
       "3  docker-d1eb66cb  0xc9dd0cf4     2  TicToc18          1    NaN  \n",
       "4  docker-d1eb66cb  0xecc2a78a     1  TicToc18          2    NaN  "
      ]
     },
     "execution_count": 2,
     "metadata": {},
     "output_type": "execute_result"
    }
   ],
   "source": [
    "dfr = pd.read_csv(\"data/runs.csv\", parse_dates=['timeStamp'])\n",
    "dfr.info()\n",
    "dfr.head()"
   ]
  },
  {
   "cell_type": "code",
   "execution_count": 3,
   "id": "3e672050",
   "metadata": {},
   "outputs": [
    {
     "name": "stdout",
     "output_type": "stream",
     "text": [
      "<class 'pandas.core.frame.DataFrame'>\n",
      "RangeIndex: 6720 entries, 0 to 6719\n",
      "Data columns (total 11 columns):\n",
      " #   Column        Non-Null Count  Dtype                                \n",
      "---  ------        --------------  -----                                \n",
      " 0   scenarioId    6720 non-null   object                               \n",
      " 1   trailId       6720 non-null   int64                                \n",
      " 2   simulationId  6720 non-null   object                               \n",
      " 3   timeStamp     6720 non-null   datetime64[ns, pytz.FixedOffset(120)]\n",
      " 4   providerId    6720 non-null   object                               \n",
      " 5   eventId       6720 non-null   object                               \n",
      " 6   step          6720 non-null   int64                                \n",
      " 7   direction     6720 non-null   object                               \n",
      " 8   file          6720 non-null   object                               \n",
      " 9   transferred   6720 non-null   int64                                \n",
      " 10  error         0 non-null      float64                              \n",
      "dtypes: datetime64[ns, pytz.FixedOffset(120)](1), float64(1), int64(3), object(6)\n",
      "memory usage: 577.6+ KB\n"
     ]
    },
    {
     "data": {
      "text/html": [
       "<div>\n",
       "<style scoped>\n",
       "    .dataframe tbody tr th:only-of-type {\n",
       "        vertical-align: middle;\n",
       "    }\n",
       "\n",
       "    .dataframe tbody tr th {\n",
       "        vertical-align: top;\n",
       "    }\n",
       "\n",
       "    .dataframe thead th {\n",
       "        text-align: right;\n",
       "    }\n",
       "</style>\n",
       "<table border=\"1\" class=\"dataframe\">\n",
       "  <thead>\n",
       "    <tr style=\"text-align: right;\">\n",
       "      <th></th>\n",
       "      <th>scenarioId</th>\n",
       "      <th>trailId</th>\n",
       "      <th>simulationId</th>\n",
       "      <th>timeStamp</th>\n",
       "      <th>providerId</th>\n",
       "      <th>eventId</th>\n",
       "      <th>step</th>\n",
       "      <th>direction</th>\n",
       "      <th>file</th>\n",
       "      <th>transferred</th>\n",
       "      <th>error</th>\n",
       "    </tr>\n",
       "  </thead>\n",
       "  <tbody>\n",
       "    <tr>\n",
       "      <th>0</th>\n",
       "      <td>pj1d</td>\n",
       "      <td>0</td>\n",
       "      <td>tictoc-1f2d4830</td>\n",
       "      <td>2021-09-19 14:50:31.010244420+02:00</td>\n",
       "      <td>docker-d1eb66cb</td>\n",
       "      <td>0xdfe3a303</td>\n",
       "      <td>1</td>\n",
       "      <td>Upload</td>\n",
       "      <td>source.tgz</td>\n",
       "      <td>0</td>\n",
       "      <td>NaN</td>\n",
       "    </tr>\n",
       "    <tr>\n",
       "      <th>1</th>\n",
       "      <td>pj1d</td>\n",
       "      <td>0</td>\n",
       "      <td>tictoc-1f2d4830</td>\n",
       "      <td>2021-09-19 14:50:31.224980293+02:00</td>\n",
       "      <td>docker-d1eb66cb</td>\n",
       "      <td>0xdfe3a303</td>\n",
       "      <td>2</td>\n",
       "      <td>Upload</td>\n",
       "      <td>source.tgz</td>\n",
       "      <td>145071</td>\n",
       "      <td>NaN</td>\n",
       "    </tr>\n",
       "    <tr>\n",
       "      <th>2</th>\n",
       "      <td>pj1d</td>\n",
       "      <td>0</td>\n",
       "      <td>tictoc-1f2d4830</td>\n",
       "      <td>2021-09-19 14:50:37.406552857+02:00</td>\n",
       "      <td>docker-d1eb66cb</td>\n",
       "      <td>0x24d73c75</td>\n",
       "      <td>1</td>\n",
       "      <td>Download</td>\n",
       "      <td>binary/linux_amd64.tgz</td>\n",
       "      <td>0</td>\n",
       "      <td>NaN</td>\n",
       "    </tr>\n",
       "    <tr>\n",
       "      <th>3</th>\n",
       "      <td>pj1d</td>\n",
       "      <td>0</td>\n",
       "      <td>tictoc-1f2d4830</td>\n",
       "      <td>2021-09-19 14:50:37.766575897+02:00</td>\n",
       "      <td>docker-d1eb66cb</td>\n",
       "      <td>0x24d73c75</td>\n",
       "      <td>2</td>\n",
       "      <td>Download</td>\n",
       "      <td>binary/linux_amd64.tgz</td>\n",
       "      <td>426521</td>\n",
       "      <td>NaN</td>\n",
       "    </tr>\n",
       "    <tr>\n",
       "      <th>4</th>\n",
       "      <td>pj1d</td>\n",
       "      <td>0</td>\n",
       "      <td>tictoc-1f2d4830</td>\n",
       "      <td>2021-09-19 14:50:40.742305596+02:00</td>\n",
       "      <td>docker-d1eb66cb</td>\n",
       "      <td>0x723044b4</td>\n",
       "      <td>1</td>\n",
       "      <td>Download</td>\n",
       "      <td>results/TicToc18_0.tgz</td>\n",
       "      <td>0</td>\n",
       "      <td>NaN</td>\n",
       "    </tr>\n",
       "  </tbody>\n",
       "</table>\n",
       "</div>"
      ],
      "text/plain": [
       "  scenarioId  trailId     simulationId                           timeStamp  \\\n",
       "0       pj1d        0  tictoc-1f2d4830 2021-09-19 14:50:31.010244420+02:00   \n",
       "1       pj1d        0  tictoc-1f2d4830 2021-09-19 14:50:31.224980293+02:00   \n",
       "2       pj1d        0  tictoc-1f2d4830 2021-09-19 14:50:37.406552857+02:00   \n",
       "3       pj1d        0  tictoc-1f2d4830 2021-09-19 14:50:37.766575897+02:00   \n",
       "4       pj1d        0  tictoc-1f2d4830 2021-09-19 14:50:40.742305596+02:00   \n",
       "\n",
       "        providerId     eventId  step direction                    file  \\\n",
       "0  docker-d1eb66cb  0xdfe3a303     1    Upload              source.tgz   \n",
       "1  docker-d1eb66cb  0xdfe3a303     2    Upload              source.tgz   \n",
       "2  docker-d1eb66cb  0x24d73c75     1  Download  binary/linux_amd64.tgz   \n",
       "3  docker-d1eb66cb  0x24d73c75     2  Download  binary/linux_amd64.tgz   \n",
       "4  docker-d1eb66cb  0x723044b4     1  Download  results/TicToc18_0.tgz   \n",
       "\n",
       "   transferred  error  \n",
       "0            0    NaN  \n",
       "1       145071    NaN  \n",
       "2            0    NaN  \n",
       "3       426521    NaN  \n",
       "4            0    NaN  "
      ]
     },
     "execution_count": 3,
     "metadata": {},
     "output_type": "execute_result"
    }
   ],
   "source": [
    "dft = pd.read_csv(\"data/transfers.csv\", parse_dates=['timeStamp'])\n",
    "dft.info()\n",
    "dft.head()"
   ]
  },
  {
   "cell_type": "code",
   "execution_count": 4,
   "id": "f9a681fa",
   "metadata": {},
   "outputs": [
    {
     "name": "stdout",
     "output_type": "stream",
     "text": [
      "<class 'pandas.core.frame.DataFrame'>\n",
      "RangeIndex: 13358 entries, 0 to 13357\n",
      "Data columns (total 10 columns):\n",
      " #   Column        Non-Null Count  Dtype  \n",
      "---  ------        --------------  -----  \n",
      " 0   scenarioId    13358 non-null  object \n",
      " 1   trailId       13358 non-null  int64  \n",
      " 2   simulationId  13358 non-null  object \n",
      " 3   timeStamp     13358 non-null  object \n",
      " 4   deviceId      13358 non-null  object \n",
      " 5   action        13358 non-null  object \n",
      " 6   meta          13358 non-null  object \n",
      " 7   eventId       13358 non-null  object \n",
      " 8   step          13358 non-null  int64  \n",
      " 9   error         0 non-null      float64\n",
      "dtypes: float64(1), int64(2), object(7)\n",
      "memory usage: 1.0+ MB\n"
     ]
    },
    {
     "data": {
      "text/html": [
       "<div>\n",
       "<style scoped>\n",
       "    .dataframe tbody tr th:only-of-type {\n",
       "        vertical-align: middle;\n",
       "    }\n",
       "\n",
       "    .dataframe tbody tr th {\n",
       "        vertical-align: top;\n",
       "    }\n",
       "\n",
       "    .dataframe thead th {\n",
       "        text-align: right;\n",
       "    }\n",
       "</style>\n",
       "<table border=\"1\" class=\"dataframe\">\n",
       "  <thead>\n",
       "    <tr style=\"text-align: right;\">\n",
       "      <th></th>\n",
       "      <th>scenarioId</th>\n",
       "      <th>trailId</th>\n",
       "      <th>simulationId</th>\n",
       "      <th>timeStamp</th>\n",
       "      <th>deviceId</th>\n",
       "      <th>action</th>\n",
       "      <th>meta</th>\n",
       "      <th>eventId</th>\n",
       "      <th>step</th>\n",
       "      <th>error</th>\n",
       "    </tr>\n",
       "  </thead>\n",
       "  <tbody>\n",
       "    <tr>\n",
       "      <th>0</th>\n",
       "      <td>pj1d</td>\n",
       "      <td>0</td>\n",
       "      <td>tictoc-1f2d4830</td>\n",
       "      <td>2021-09-19 14:50:30.549659+02:00</td>\n",
       "      <td>simulation</td>\n",
       "      <td>Compress</td>\n",
       "      <td>source</td>\n",
       "      <td>0xfd502ee1</td>\n",
       "      <td>1</td>\n",
       "      <td>NaN</td>\n",
       "    </tr>\n",
       "    <tr>\n",
       "      <th>1</th>\n",
       "      <td>pj1d</td>\n",
       "      <td>0</td>\n",
       "      <td>tictoc-1f2d4830</td>\n",
       "      <td>2021-09-19 14:50:30.616448+02:00</td>\n",
       "      <td>simulation</td>\n",
       "      <td>Compress</td>\n",
       "      <td>source</td>\n",
       "      <td>0xfd502ee1</td>\n",
       "      <td>2</td>\n",
       "      <td>NaN</td>\n",
       "    </tr>\n",
       "    <tr>\n",
       "      <th>2</th>\n",
       "      <td>pj1d</td>\n",
       "      <td>0</td>\n",
       "      <td>tictoc-1f2d4830</td>\n",
       "      <td>2021-09-19 12:50:31.410924+00:00</td>\n",
       "      <td>docker-d1eb66cb</td>\n",
       "      <td>Compile</td>\n",
       "      <td>linux_amd64</td>\n",
       "      <td>0x72e60475</td>\n",
       "      <td>1</td>\n",
       "      <td>NaN</td>\n",
       "    </tr>\n",
       "    <tr>\n",
       "      <th>3</th>\n",
       "      <td>pj1d</td>\n",
       "      <td>0</td>\n",
       "      <td>tictoc-1f2d4830</td>\n",
       "      <td>2021-09-19 12:50:37.145362+00:00</td>\n",
       "      <td>docker-d1eb66cb</td>\n",
       "      <td>Compile</td>\n",
       "      <td>linux_amd64</td>\n",
       "      <td>0x72e60475</td>\n",
       "      <td>2</td>\n",
       "      <td>NaN</td>\n",
       "    </tr>\n",
       "    <tr>\n",
       "      <th>4</th>\n",
       "      <td>pj1d</td>\n",
       "      <td>0</td>\n",
       "      <td>tictoc-1f2d4830</td>\n",
       "      <td>2021-09-19 12:50:37.171950+00:00</td>\n",
       "      <td>docker-d1eb66cb</td>\n",
       "      <td>Compress</td>\n",
       "      <td>binary/linux_amd64.tgz</td>\n",
       "      <td>0x1212ceba</td>\n",
       "      <td>1</td>\n",
       "      <td>NaN</td>\n",
       "    </tr>\n",
       "  </tbody>\n",
       "</table>\n",
       "</div>"
      ],
      "text/plain": [
       "  scenarioId  trailId     simulationId                         timeStamp  \\\n",
       "0       pj1d        0  tictoc-1f2d4830  2021-09-19 14:50:30.549659+02:00   \n",
       "1       pj1d        0  tictoc-1f2d4830  2021-09-19 14:50:30.616448+02:00   \n",
       "2       pj1d        0  tictoc-1f2d4830  2021-09-19 12:50:31.410924+00:00   \n",
       "3       pj1d        0  tictoc-1f2d4830  2021-09-19 12:50:37.145362+00:00   \n",
       "4       pj1d        0  tictoc-1f2d4830  2021-09-19 12:50:37.171950+00:00   \n",
       "\n",
       "          deviceId    action                    meta     eventId  step  error  \n",
       "0       simulation  Compress                  source  0xfd502ee1     1    NaN  \n",
       "1       simulation  Compress                  source  0xfd502ee1     2    NaN  \n",
       "2  docker-d1eb66cb   Compile             linux_amd64  0x72e60475     1    NaN  \n",
       "3  docker-d1eb66cb   Compile             linux_amd64  0x72e60475     2    NaN  \n",
       "4  docker-d1eb66cb  Compress  binary/linux_amd64.tgz  0x1212ceba     1    NaN  "
      ]
     },
     "execution_count": 4,
     "metadata": {},
     "output_type": "execute_result"
    }
   ],
   "source": [
    "dfa = pd.read_csv(\"data/actions.csv\", parse_dates=['timeStamp'])\n",
    "dfa.info()\n",
    "dfa.head()"
   ]
  },
  {
   "cell_type": "code",
   "execution_count": 5,
   "id": "8c6f760b",
   "metadata": {},
   "outputs": [
    {
     "name": "stdout",
     "output_type": "stream",
     "text": [
      "Empty DataFrame\n",
      "Columns: [scenarioId, trailId, simulationId, timeStamp, providerId, eventId, step, runConfig, runNumber, error]\n",
      "Index: []\n"
     ]
    }
   ],
   "source": [
    "errors = dfr.loc[dfr.step == 3]\n",
    "print(errors)"
   ]
  },
  {
   "cell_type": "code",
   "execution_count": 6,
   "id": "6b474f62",
   "metadata": {},
   "outputs": [
    {
     "data": {
      "text/plain": [
       "([0,\n",
       "  1,\n",
       "  2,\n",
       "  3,\n",
       "  4,\n",
       "  5,\n",
       "  6,\n",
       "  7,\n",
       "  8,\n",
       "  9,\n",
       "  10,\n",
       "  11,\n",
       "  12,\n",
       "  13,\n",
       "  14,\n",
       "  15,\n",
       "  16,\n",
       "  17,\n",
       "  18,\n",
       "  19,\n",
       "  20,\n",
       "  21,\n",
       "  22,\n",
       "  23,\n",
       "  24,\n",
       "  25,\n",
       "  26,\n",
       "  27,\n",
       "  28,\n",
       "  29,\n",
       "  30,\n",
       "  31,\n",
       "  32,\n",
       "  33,\n",
       "  34,\n",
       "  35,\n",
       "  36,\n",
       "  37,\n",
       "  38,\n",
       "  39,\n",
       "  40,\n",
       "  41],\n",
       " [Text(0, 0, ''),\n",
       "  Text(0, 0, ''),\n",
       "  Text(0, 0, ''),\n",
       "  Text(0, 0, ''),\n",
       "  Text(0, 0, ''),\n",
       "  Text(0, 0, ''),\n",
       "  Text(0, 0, ''),\n",
       "  Text(0, 0, ''),\n",
       "  Text(0, 0, ''),\n",
       "  Text(0, 0, ''),\n",
       "  Text(0, 0, ''),\n",
       "  Text(0, 0, ''),\n",
       "  Text(0, 0, ''),\n",
       "  Text(0, 0, ''),\n",
       "  Text(0, 0, ''),\n",
       "  Text(0, 0, ''),\n",
       "  Text(0, 0, ''),\n",
       "  Text(0, 0, ''),\n",
       "  Text(0, 0, ''),\n",
       "  Text(0, 0, ''),\n",
       "  Text(0, 0, ''),\n",
       "  Text(0, 0, ''),\n",
       "  Text(0, 0, ''),\n",
       "  Text(0, 0, ''),\n",
       "  Text(0, 0, ''),\n",
       "  Text(0, 0, ''),\n",
       "  Text(0, 0, ''),\n",
       "  Text(0, 0, ''),\n",
       "  Text(0, 0, ''),\n",
       "  Text(0, 0, ''),\n",
       "  Text(0, 0, ''),\n",
       "  Text(0, 0, ''),\n",
       "  Text(0, 0, ''),\n",
       "  Text(0, 0, ''),\n",
       "  Text(0, 0, ''),\n",
       "  Text(0, 0, ''),\n",
       "  Text(0, 0, ''),\n",
       "  Text(0, 0, ''),\n",
       "  Text(0, 0, ''),\n",
       "  Text(0, 0, ''),\n",
       "  Text(0, 0, ''),\n",
       "  Text(0, 0, '')])"
      ]
     },
     "execution_count": 6,
     "metadata": {},
     "output_type": "execute_result"
    },
    {
     "data": {
      "image/png": "[encoded data removed]",
      "text/plain": [
       "<Figure size 432x288 with 1 Axes>"
      ]
     },
     "metadata": {
      "needs_background": "light"
     },
     "output_type": "display_data"
    }
   ],
   "source": [
    "scenarios = dfr.scenarioId.sort_values().unique()\n",
    "\n",
    "plt.title(\"Execution duration in sec\")\n",
    "\n",
    "for scenario in scenarios:\n",
    "    for trail in dfr.loc[dfr.scenarioId == scenario].trailId.unique():\n",
    "        execution_start = dfr.loc[(dfr.trailId == trail) & (dfr.scenarioId == scenario) & (dfr.step == 1)].sort_values(by=['eventId'])\n",
    "        execution_end   = dfr.loc[(dfr.trailId == trail) & (dfr.scenarioId == scenario) & (dfr.step == 2)].sort_values(by=['eventId'])\n",
    "\n",
    "        durations = pd.to_timedelta(execution_end.timeStamp.values - execution_start.timeStamp.values)\n",
    "        mean = durations.mean()\n",
    "        std = durations.std()\n",
    "\n",
    "        plt.bar(f\"{scenario}-{trail}\", mean.total_seconds())\n",
    "\n",
    "plt.xticks(rotation = 90)\n"
   ]
  },
  {
   "cell_type": "code",
   "execution_count": 7,
   "id": "625822d0",
   "metadata": {},
   "outputs": [
    {
     "data": {
      "text/plain": [
       "<matplotlib.legend.Legend at 0x7f122cdf7af0>"
      ]
     },
     "execution_count": 7,
     "metadata": {},
     "output_type": "execute_result"
    },
    {
     "data": {
      "image/png": "[encoded data removed]",
      "text/plain": [
       "<Figure size 432x288 with 1 Axes>"
      ]
     },
     "metadata": {
      "needs_background": "light"
     },
     "output_type": "display_data"
    }
   ],
   "source": [
    "scenarios = dfr.scenarioId.sort_values().unique()\n",
    "\n",
    "for scenario in scenarios:\n",
    "    execution_start = dfr.loc[(dfr.trailId == 0) & (dfr.scenarioId == scenario) & (dfr.step == 1)].sort_values(by=['runNumber'])\n",
    "    execution_end   = dfr.loc[(dfr.trailId == 0) & (dfr.scenarioId == scenario) & (dfr.step == 2)].sort_values(by=['runNumber'])\n",
    "\n",
    "    xVals = dfr.loc[(dfr.trailId == 0) & (dfr.scenarioId == scenario)].runNumber.sort_values().unique()\n",
    "    durations = pd.to_timedelta(execution_end.timeStamp.values - execution_start.timeStamp.values)\n",
    "\n",
    "    plt.plot(xVals, durations, label=scenario)\n",
    "\n",
    "plt.legend()\n",
    "    "
   ]
  },
  {
   "cell_type": "code",
   "execution_count": 8,
   "id": "b2d53db5",
   "metadata": {},
   "outputs": [
    {
     "data": {
      "image/png": "[encoded data removed]",
      "text/plain": [
       "<Figure size 432x288 with 1 Axes>"
      ]
     },
     "metadata": {
      "needs_background": "light"
     },
     "output_type": "display_data"
    }
   ],
   "source": [
    "scenarios = dfr.scenarioId.sort_values().unique()\n",
    "\n",
    "plt.title(\"Mean execution duration per run in sec\")\n",
    "\n",
    "for scenario in scenarios:\n",
    "    execution_start = dfr.loc[(dfr.scenarioId == scenario) & (dfr.step == 1)].sort_values(by=['eventId'])\n",
    "    execution_end   = dfr.loc[(dfr.scenarioId == scenario) & (dfr.step == 2)].sort_values(by=['eventId'])\n",
    "\n",
    "    durations = pd.to_timedelta(execution_end.timeStamp.values - execution_start.timeStamp.values)\n",
    "    mean = durations.mean()\n",
    "    std = durations.std()\n",
    "\n",
    "    plt.bar(f\"{scenario}\", mean.total_seconds(), yerr=std.total_seconds(), capsize=10)\n"
   ]
  },
  {
   "cell_type": "code",
   "execution_count": 9,
   "id": "eb4902f6",
   "metadata": {},
   "outputs": [
    {
     "name": "stdout",
     "output_type": "stream",
     "text": [
      "Compile ['pj1d', 'pj2d', 'pj4d', 'pj6d', 'pj8d', 'rj1d', 'rj2d', 'rj4d', 'rj6d'] [26.840566 28.026763 27.203168 30.354717 12.814184 26.82563  31.359309\n",
      " 29.672713 38.945079]\n",
      "Compress ['pj1d', 'pj2d', 'pj4d', 'pj6d', 'pj8d', 'rj1d', 'rj2d', 'rj4d', 'rj6d'] [23.418071 21.400995 21.978276 26.514681 10.777672 20.934213 22.778942\n",
      " 23.177905 25.54043 ]\n",
      "Extract ['pj1d', 'pj2d', 'pj4d', 'pj6d', 'pj8d', 'rj1d', 'rj2d', 'rj4d', 'rj6d'] [10.182331 10.3942    9.836339 10.316411  3.883385 10.119222 10.249894\n",
      " 10.015261  9.99853 ]\n"
     ]
    },
    {
     "data": {
      "text/plain": [
       "<matplotlib.legend.Legend at 0x7f122cd20520>"
      ]
     },
     "execution_count": 9,
     "metadata": {},
     "output_type": "execute_result"
    },
    {
     "data": {
      "image/png": "[encoded data removed]",
      "text/plain": [
       "<Figure size 432x288 with 1 Axes>"
      ]
     },
     "metadata": {
      "needs_background": "light"
     },
     "output_type": "display_data"
    }
   ],
   "source": [
    "scenarios = dfa.scenarioId.sort_values().unique()\n",
    "actions = dfa.action.sort_values().unique()\n",
    "\n",
    "plt.title(\"Action duration in sec\")\n",
    "\n",
    "bottom = np.zeros(len(scenarios))\n",
    "for action in actions:\n",
    "    labels = []\n",
    "    vals = np.zeros(len(scenarios))\n",
    "\n",
    "    for inx, scenario in enumerate(scenarios):\n",
    "        execution_start = dfa.loc[(dfa.scenarioId == scenario) & (dfa.action == action) & (dfa.step == 1)].sort_values(by=['eventId'])\n",
    "        execution_end   = dfa.loc[(dfa.scenarioId == scenario) & (dfa.action == action) & (dfa.step == 2)].sort_values(by=['eventId'])\n",
    "\n",
    "        durations = pd.to_timedelta(execution_end.timeStamp.values - execution_start.timeStamp.values)\n",
    "        val = durations.sum()\n",
    "\n",
    "        labels.append(f\"{scenario}\")\n",
    "        vals[inx] = val.total_seconds()\n",
    "\n",
    "    plt.bar(labels, vals, label=action, bottom=bottom)\n",
    "    print(action, labels, vals)\n",
    "    bottom += vals\n",
    "    \n",
    "plt.legend()\n",
    "\n",
    "    "
   ]
  },
  {
   "cell_type": "code",
   "execution_count": 10,
   "id": "5c138fa4",
   "metadata": {},
   "outputs": [
    {
     "name": "stdout",
     "output_type": "stream",
     "text": [
      "scenario-pj1d direction=Upload   tranfered=   746580 sum=  1 val= 6.21\n",
      "scenario-pj2d direction=Upload   tranfered=   747242 sum=  1 val= 8.44\n",
      "scenario-pj4d direction=Upload   tranfered=   754321 sum=  1 val= 8.21\n",
      "scenario-pj6d direction=Upload   tranfered=   743346 sum=  1 val= 6.40\n",
      "scenario-pj8d direction=Upload   tranfered=   294594 sum=  0 val=10.42\n",
      "scenario-rj1d direction=Upload   tranfered=   743792 sum=  1 val= 5.09\n",
      "scenario-rj2d direction=Upload   tranfered=   745714 sum=  2 val= 3.59\n",
      "scenario-rj4d direction=Upload   tranfered=   745971 sum=  1 val= 5.18\n",
      "scenario-rj6d direction=Upload   tranfered=   754121 sum=  2 val= 4.75\n",
      "scenario-pj1d direction=Download tranfered= 12311645 sum= 30 val= 4.15\n",
      "scenario-pj2d direction=Download tranfered= 12314048 sum= 30 val= 4.14\n",
      "scenario-pj4d direction=Download tranfered= 12346356 sum= 30 val= 4.18\n",
      "scenario-pj6d direction=Download tranfered= 12320357 sum= 32 val= 3.83\n",
      "scenario-pj8d direction=Download tranfered=  4919511 sum= 14 val= 3.64\n",
      "scenario-rj1d direction=Download tranfered= 12303307 sum= 58 val= 2.13\n",
      "scenario-rj2d direction=Download tranfered= 12354807 sum= 45 val= 2.74\n",
      "scenario-rj4d direction=Download tranfered= 12328398 sum= 42 val= 2.94\n",
      "scenario-rj6d direction=Download tranfered= 12320650 sum= 41 val= 3.04\n"
     ]
    },
    {
     "data": {
      "text/plain": [
       "([0, 1, 2, 3, 4, 5, 6, 7, 8, 9, 10, 11, 12, 13, 14, 15, 16, 17],\n",
       " [Text(0, 0, ''),\n",
       "  Text(0, 0, ''),\n",
       "  Text(0, 0, ''),\n",
       "  Text(0, 0, ''),\n",
       "  Text(0, 0, ''),\n",
       "  Text(0, 0, ''),\n",
       "  Text(0, 0, ''),\n",
       "  Text(0, 0, ''),\n",
       "  Text(0, 0, ''),\n",
       "  Text(0, 0, ''),\n",
       "  Text(0, 0, ''),\n",
       "  Text(0, 0, ''),\n",
       "  Text(0, 0, ''),\n",
       "  Text(0, 0, ''),\n",
       "  Text(0, 0, ''),\n",
       "  Text(0, 0, ''),\n",
       "  Text(0, 0, ''),\n",
       "  Text(0, 0, '')])"
      ]
     },
     "execution_count": 10,
     "metadata": {},
     "output_type": "execute_result"
    },
    {
     "data": {
      "image/png": "[encoded data removed]",
      "text/plain": [
       "<Figure size 432x288 with 1 Axes>"
      ]
     },
     "metadata": {
      "needs_background": "light"
     },
     "output_type": "display_data"
    }
   ],
   "source": [
    "scenarios = dft.scenarioId.sort_values().unique()\n",
    "\n",
    "directions = dft.direction.sort_values().unique()\n",
    "#directions = [\"Download\"]\n",
    "\n",
    "plt.title(\"Transfer speed\")\n",
    "\n",
    "for inx, direction in enumerate(directions):\n",
    "    for scenario in scenarios:    \n",
    "        tranfer_start = dft.loc[(dft.scenarioId == scenario) & (dft.direction == direction) & (dft.step == 1)].sort_values(by=['eventId'])\n",
    "        tranfer_end   = dft.loc[(dft.scenarioId == scenario) & (dft.direction == direction) & (dft.step == 2)].sort_values(by=['eventId'])\n",
    "        tranfered     = dft.loc[(dft.scenarioId == scenario) & (dft.direction == direction)].transferred.sum()\n",
    "\n",
    "        durations = pd.to_timedelta(tranfer_end.timeStamp.values - tranfer_start.timeStamp.values)\n",
    "        val = tranfered / durations.sum().total_seconds() / 100000\n",
    "\n",
    "        print(f\"scenario-%-4s direction=%-8s tranfered=%9d sum=%3.f val=%5.2f\" % (scenario, direction, tranfered, durations.sum().total_seconds(), val))\n",
    "\n",
    "        plt.bar(f\"{scenario} {direction[0]}\", val)\n",
    "        \n",
    "plt.xticks(rotation = 90)\n",
    "        "
   ]
  },
  {
   "cell_type": "code",
   "execution_count": 11,
   "id": "02642dd1",
   "metadata": {},
   "outputs": [
    {
     "name": "stdout",
     "output_type": "stream",
     "text": [
      "Execution ['pj1d', 'pj2d', 'pj4d', 'pj6d', 'pj8d', 'rj1d', 'rj2d', 'rj4d', 'rj6d'] [ 907.446815  900.899809 1015.424883 1504.948184  907.972922  899.080769\n",
      " 1002.262423 1055.052803 1583.50408 ]\n",
      "Upload ['pj1d', 'pj2d', 'pj4d', 'pj6d', 'pj8d', 'rj1d', 'rj2d', 'rj4d', 'rj6d'] [1.201785 0.884895 0.918726 1.161924 0.28261  1.461915 2.079731 1.438729\n",
      " 1.588324]\n",
      "Download ['pj1d', 'pj2d', 'pj4d', 'pj6d', 'pj8d', 'rj1d', 'rj2d', 'rj4d', 'rj6d'] [29.675029 29.750572 29.530811 32.176091 13.516709 57.800378 45.081313\n",
      " 41.996429 40.556907]\n",
      "Compile ['pj1d', 'pj2d', 'pj4d', 'pj6d', 'pj8d', 'rj1d', 'rj2d', 'rj4d', 'rj6d'] [26.840566 28.026763 27.203168 30.354717 12.814184 26.82563  31.359309\n",
      " 29.672713 38.945079]\n",
      "Compress ['pj1d', 'pj2d', 'pj4d', 'pj6d', 'pj8d', 'rj1d', 'rj2d', 'rj4d', 'rj6d'] [23.418071 21.400995 21.978276 26.514681 10.777672 20.934213 22.778942\n",
      " 23.177905 25.54043 ]\n",
      "Extract ['pj1d', 'pj2d', 'pj4d', 'pj6d', 'pj8d', 'rj1d', 'rj2d', 'rj4d', 'rj6d'] [10.182331 10.3942    9.836339 10.316411  3.883385 10.119222 10.249894\n",
      " 10.015261  9.99853 ]\n"
     ]
    },
    {
     "data": {
      "text/plain": [
       "<matplotlib.legend.Legend at 0x7f122cafc3d0>"
      ]
     },
     "execution_count": 11,
     "metadata": {},
     "output_type": "execute_result"
    },
    {
     "data": {
      "image/png": "[encoded data removed]",
      "text/plain": [
       "<Figure size 432x288 with 1 Axes>"
      ]
     },
     "metadata": {
      "needs_background": "light"
     },
     "output_type": "display_data"
    }
   ],
   "source": [
    "scenarios = dfr.scenarioId.sort_values().unique()\n",
    "\n",
    "labels = []\n",
    "sums = np.zeros(len(scenarios))\n",
    "\n",
    "for inx, scenario in enumerate(scenarios):    \n",
    "    exe_start     = dfr.loc[(dfr.scenarioId == scenario) & (dfr.step == 1)].sort_values(by=['eventId'])\n",
    "    exe_end       = dfr.loc[(dfr.scenarioId == scenario) & (dfr.step == 2)].sort_values(by=['eventId'])\n",
    "    exe_durations = pd.to_timedelta(exe_end.timeStamp.values - exe_start.timeStamp.values)\n",
    "    su = exe_durations.sum().total_seconds()\n",
    "    sums[inx] = su\n",
    "    labels.append(f\"{scenario}\")\n",
    "\n",
    "print(\"Execution\", labels, sums)\n",
    "plt.bar(labels, sums, label=\"Execution\")\n",
    "\n",
    "bottom = np.zeros(len(scenarios))\n",
    "bottom += sums\n",
    "\n",
    "#'''\n",
    "for direction in dft.direction.unique():\n",
    "    labels = []\n",
    "    sums = np.zeros(len(scenarios))\n",
    "\n",
    "    for inx, scenario in enumerate(scenarios):    \n",
    "        dtranfer_start     = dft.loc[(dft.scenarioId == scenario) & (dft.direction == direction) & (dft.step == 1)].sort_values(by=['eventId'])\n",
    "        dtranfer_end       = dft.loc[(dft.scenarioId == scenario) & (dft.direction == direction) & (dft.step == 2)].sort_values(by=['eventId'])\n",
    "        dtranfer_durations = pd.to_timedelta(dtranfer_end.timeStamp.values - dtranfer_start.timeStamp.values)\n",
    "        su = dtranfer_durations.sum().total_seconds()\n",
    "        sums[inx] = su\n",
    "        labels.append(f\"{scenario}\")\n",
    "\n",
    "    print(direction, labels, sums)\n",
    "    plt.bar(labels, sums, label=direction, bottom=bottom)\n",
    "    bottom += sums\n",
    "#'''\n",
    "\n",
    "for action in actions:\n",
    "    labels = []\n",
    "    vals = np.zeros(len(scenarios))\n",
    "\n",
    "    for inx, scenario in enumerate(scenarios):\n",
    "        execution_start = dfa.loc[(dfa.scenarioId == scenario) & (dfa.action == action) & (dfa.step == 1)].sort_values(by=['eventId'])\n",
    "        execution_end   = dfa.loc[(dfa.scenarioId == scenario) & (dfa.action == action) & (dfa.step == 2)].sort_values(by=['eventId'])\n",
    "\n",
    "        durations = pd.to_timedelta(execution_end.timeStamp.values - execution_start.timeStamp.values)\n",
    "        val = durations.sum()\n",
    "\n",
    "        labels.append(f\"{scenario}\")\n",
    "        vals[inx] = val.total_seconds()\n",
    "\n",
    "    plt.bar(labels, vals, label=action, bottom=bottom)\n",
    "    print(action, labels, vals)\n",
    "    bottom += vals\n",
    "\n",
    "plt.legend()\n",
    "    "
   ]
  },
  {
   "cell_type": "code",
   "execution_count": null,
   "id": "b6169e5d",
   "metadata": {},
   "outputs": [],
   "source": []
  }
 ],
 "metadata": {
  "kernelspec": {
   "display_name": "Python 3 (ipykernel)",
   "language": "python",
   "name": "python3"
  },
  "language_info": {
   "codemirror_mode": {
    "name": "ipython",
    "version": 3
   },
   "file_extension": ".py",
   "mimetype": "text/x-python",
   "name": "python",
   "nbconvert_exporter": "python",
   "pygments_lexer": "ipython3",
   "version": "3.9.6"
  }
 },
 "nbformat": 4,
 "nbformat_minor": 5
}
