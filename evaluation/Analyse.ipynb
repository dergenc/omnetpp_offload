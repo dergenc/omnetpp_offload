{
 "cells": [
  {
   "cell_type": "code",
   "execution_count": 1,
   "id": "b2590e4f",
   "metadata": {},
   "outputs": [
    {
     "name": "stdout",
     "output_type": "stream",
     "text": [
      "<class 'pandas.core.frame.DataFrame'>\n",
      "RangeIndex: 168 entries, 0 to 167\n",
      "Data columns (total 11 columns):\n",
      " #   Column         Non-Null Count  Dtype                                \n",
      "---  ------         --------------  -----                                \n",
      " 0   scenario_id    168 non-null    int64                                \n",
      " 1   simulation_id  168 non-null    object                               \n",
      " 2   trail_id       168 non-null    int64                                \n",
      " 3   time_stamp     168 non-null    datetime64[ns, pytz.FixedOffset(120)]\n",
      " 4   provider_id    168 non-null    object                               \n",
      " 5   command        168 non-null    object                               \n",
      " 6   step           168 non-null    int64                                \n",
      " 7   match_id       168 non-null    object                               \n",
      " 8   run_config     156 non-null    object                               \n",
      " 9   run_number     156 non-null    float64                              \n",
      " 10  error          0 non-null      float64                              \n",
      "dtypes: datetime64[ns, pytz.FixedOffset(120)](1), float64(2), int64(3), object(5)\n",
      "memory usage: 14.6+ KB\n"
     ]
    },
    {
     "data": {
      "text/html": [
       "<div>\n",
       "<style scoped>\n",
       "    .dataframe tbody tr th:only-of-type {\n",
       "        vertical-align: middle;\n",
       "    }\n",
       "\n",
       "    .dataframe tbody tr th {\n",
       "        vertical-align: top;\n",
       "    }\n",
       "\n",
       "    .dataframe thead th {\n",
       "        text-align: right;\n",
       "    }\n",
       "</style>\n",
       "<table border=\"1\" class=\"dataframe\">\n",
       "  <thead>\n",
       "    <tr style=\"text-align: right;\">\n",
       "      <th></th>\n",
       "      <th>scenario_id</th>\n",
       "      <th>simulation_id</th>\n",
       "      <th>trail_id</th>\n",
       "      <th>time_stamp</th>\n",
       "      <th>provider_id</th>\n",
       "      <th>command</th>\n",
       "      <th>step</th>\n",
       "      <th>match_id</th>\n",
       "      <th>run_config</th>\n",
       "      <th>run_number</th>\n",
       "      <th>error</th>\n",
       "    </tr>\n",
       "  </thead>\n",
       "  <tbody>\n",
       "    <tr>\n",
       "      <th>0</th>\n",
       "      <td>123</td>\n",
       "      <td>tictoc-540cf318</td>\n",
       "      <td>1</td>\n",
       "      <td>2021-08-28 13:45:18.303982+02:00</td>\n",
       "      <td>raspberry3b-89798c31</td>\n",
       "      <td>Checkout</td>\n",
       "      <td>1</td>\n",
       "      <td>0x7129134d</td>\n",
       "      <td>NaN</td>\n",
       "      <td>NaN</td>\n",
       "      <td>NaN</td>\n",
       "    </tr>\n",
       "    <tr>\n",
       "      <th>1</th>\n",
       "      <td>123</td>\n",
       "      <td>tictoc-540cf318</td>\n",
       "      <td>1</td>\n",
       "      <td>2021-08-28 13:45:18.508007+02:00</td>\n",
       "      <td>raspberry3b-89798c31</td>\n",
       "      <td>Checkout</td>\n",
       "      <td>2</td>\n",
       "      <td>0x7129134d</td>\n",
       "      <td>NaN</td>\n",
       "      <td>NaN</td>\n",
       "      <td>NaN</td>\n",
       "    </tr>\n",
       "    <tr>\n",
       "      <th>2</th>\n",
       "      <td>123</td>\n",
       "      <td>tictoc-540cf318</td>\n",
       "      <td>1</td>\n",
       "      <td>2021-08-28 13:45:18.564350+02:00</td>\n",
       "      <td>raspberry3b-89798c31</td>\n",
       "      <td>Compile</td>\n",
       "      <td>1</td>\n",
       "      <td>0xe5142332</td>\n",
       "      <td>NaN</td>\n",
       "      <td>NaN</td>\n",
       "      <td>NaN</td>\n",
       "    </tr>\n",
       "    <tr>\n",
       "      <th>3</th>\n",
       "      <td>123</td>\n",
       "      <td>tictoc-540cf318</td>\n",
       "      <td>1</td>\n",
       "      <td>2021-08-28 13:45:19.312179+02:00</td>\n",
       "      <td>raspberry4-980aff71</td>\n",
       "      <td>Checkout</td>\n",
       "      <td>1</td>\n",
       "      <td>0x391f043b</td>\n",
       "      <td>NaN</td>\n",
       "      <td>NaN</td>\n",
       "      <td>NaN</td>\n",
       "    </tr>\n",
       "    <tr>\n",
       "      <th>4</th>\n",
       "      <td>123</td>\n",
       "      <td>tictoc-540cf318</td>\n",
       "      <td>1</td>\n",
       "      <td>2021-08-28 13:45:19.399679+02:00</td>\n",
       "      <td>raspberry3-9f5b711c</td>\n",
       "      <td>Checkout</td>\n",
       "      <td>1</td>\n",
       "      <td>0x39c0781a</td>\n",
       "      <td>NaN</td>\n",
       "      <td>NaN</td>\n",
       "      <td>NaN</td>\n",
       "    </tr>\n",
       "  </tbody>\n",
       "</table>\n",
       "</div>"
      ],
      "text/plain": [
       "   scenario_id    simulation_id  trail_id                       time_stamp  \\\n",
       "0          123  tictoc-540cf318         1 2021-08-28 13:45:18.303982+02:00   \n",
       "1          123  tictoc-540cf318         1 2021-08-28 13:45:18.508007+02:00   \n",
       "2          123  tictoc-540cf318         1 2021-08-28 13:45:18.564350+02:00   \n",
       "3          123  tictoc-540cf318         1 2021-08-28 13:45:19.312179+02:00   \n",
       "4          123  tictoc-540cf318         1 2021-08-28 13:45:19.399679+02:00   \n",
       "\n",
       "            provider_id   command  step    match_id run_config  run_number  \\\n",
       "0  raspberry3b-89798c31  Checkout     1  0x7129134d        NaN         NaN   \n",
       "1  raspberry3b-89798c31  Checkout     2  0x7129134d        NaN         NaN   \n",
       "2  raspberry3b-89798c31   Compile     1  0xe5142332        NaN         NaN   \n",
       "3   raspberry4-980aff71  Checkout     1  0x391f043b        NaN         NaN   \n",
       "4   raspberry3-9f5b711c  Checkout     1  0x39c0781a        NaN         NaN   \n",
       "\n",
       "   error  \n",
       "0    NaN  \n",
       "1    NaN  \n",
       "2    NaN  \n",
       "3    NaN  \n",
       "4    NaN  "
      ]
     },
     "execution_count": 1,
     "metadata": {},
     "output_type": "execute_result"
    }
   ],
   "source": [
    "import numpy as np\n",
    "import pandas as pd\n",
    "\n",
    "df = pd.read_csv(\"opp-edge-eval-runs.csv\", parse_dates=['time_stamp'])\n",
    "df.info()\n",
    "df.head()"
   ]
  },
  {
   "cell_type": "code",
   "execution_count": 51,
   "id": "9738d2ea",
   "metadata": {},
   "outputs": [
    {
     "name": "stdout",
     "output_type": "stream",
     "text": [
      "<class 'pandas.core.frame.DataFrame'>\n",
      "RangeIndex: 3 entries, 0 to 2\n",
      "Data columns (total 9 columns):\n",
      " #   Column         Non-Null Count  Dtype                                \n",
      "---  ------         --------------  -----                                \n",
      " 0   scenario_id    3 non-null      int64                                \n",
      " 1   simulation_id  3 non-null      object                               \n",
      " 2   trail_id       3 non-null      int64                                \n",
      " 3   time_stamp     3 non-null      datetime64[ns, pytz.FixedOffset(120)]\n",
      " 4   connect        3 non-null      object                               \n",
      " 5   provider_id    3 non-null      object                               \n",
      " 6   num_cpus       3 non-null      int64                                \n",
      " 7   arch           3 non-null      object                               \n",
      " 8   os             3 non-null      object                               \n",
      "dtypes: datetime64[ns, pytz.FixedOffset(120)](1), int64(3), object(5)\n",
      "memory usage: 344.0+ bytes\n"
     ]
    },
    {
     "data": {
      "text/html": [
       "<div>\n",
       "<style scoped>\n",
       "    .dataframe tbody tr th:only-of-type {\n",
       "        vertical-align: middle;\n",
       "    }\n",
       "\n",
       "    .dataframe tbody tr th {\n",
       "        vertical-align: top;\n",
       "    }\n",
       "\n",
       "    .dataframe thead th {\n",
       "        text-align: right;\n",
       "    }\n",
       "</style>\n",
       "<table border=\"1\" class=\"dataframe\">\n",
       "  <thead>\n",
       "    <tr style=\"text-align: right;\">\n",
       "      <th></th>\n",
       "      <th>scenario_id</th>\n",
       "      <th>simulation_id</th>\n",
       "      <th>trail_id</th>\n",
       "      <th>time_stamp</th>\n",
       "      <th>connect</th>\n",
       "      <th>provider_id</th>\n",
       "      <th>num_cpus</th>\n",
       "      <th>arch</th>\n",
       "      <th>os</th>\n",
       "    </tr>\n",
       "  </thead>\n",
       "  <tbody>\n",
       "    <tr>\n",
       "      <th>0</th>\n",
       "      <td>123</td>\n",
       "      <td>tictoc-540cf318</td>\n",
       "      <td>1</td>\n",
       "      <td>2021-08-28 13:45:14.120854+02:00</td>\n",
       "      <td>Relay</td>\n",
       "      <td>raspberry3b-89798c31</td>\n",
       "      <td>4</td>\n",
       "      <td>arm64</td>\n",
       "      <td>linux</td>\n",
       "    </tr>\n",
       "    <tr>\n",
       "      <th>1</th>\n",
       "      <td>123</td>\n",
       "      <td>tictoc-540cf318</td>\n",
       "      <td>1</td>\n",
       "      <td>2021-08-28 13:45:14.486061+02:00</td>\n",
       "      <td>Relay</td>\n",
       "      <td>raspberry3-9f5b711c</td>\n",
       "      <td>4</td>\n",
       "      <td>arm64</td>\n",
       "      <td>linux</td>\n",
       "    </tr>\n",
       "    <tr>\n",
       "      <th>2</th>\n",
       "      <td>123</td>\n",
       "      <td>tictoc-540cf318</td>\n",
       "      <td>1</td>\n",
       "      <td>2021-08-28 13:45:14.493625+02:00</td>\n",
       "      <td>Relay</td>\n",
       "      <td>raspberry4-980aff71</td>\n",
       "      <td>4</td>\n",
       "      <td>arm64</td>\n",
       "      <td>linux</td>\n",
       "    </tr>\n",
       "  </tbody>\n",
       "</table>\n",
       "</div>"
      ],
      "text/plain": [
       "   scenario_id    simulation_id  trail_id                       time_stamp  \\\n",
       "0          123  tictoc-540cf318         1 2021-08-28 13:45:14.120854+02:00   \n",
       "1          123  tictoc-540cf318         1 2021-08-28 13:45:14.486061+02:00   \n",
       "2          123  tictoc-540cf318         1 2021-08-28 13:45:14.493625+02:00   \n",
       "\n",
       "  connect           provider_id  num_cpus   arch     os  \n",
       "0   Relay  raspberry3b-89798c31         4  arm64  linux  \n",
       "1   Relay   raspberry3-9f5b711c         4  arm64  linux  \n",
       "2   Relay   raspberry4-980aff71         4  arm64  linux  "
      ]
     },
     "execution_count": 51,
     "metadata": {},
     "output_type": "execute_result"
    }
   ],
   "source": [
    "dfs = pd.read_csv(\"opp-edge-eval-setup.csv\", parse_dates=['time_stamp'])\n",
    "dfs.info()\n",
    "dfs.head()"
   ]
  },
  {
   "cell_type": "code",
   "execution_count": 5,
   "id": "08c4319c",
   "metadata": {},
   "outputs": [
    {
     "data": {
      "text/plain": [
       "Text(0.5, 1.0, 'Total executions per provider')"
      ]
     },
     "execution_count": 5,
     "metadata": {},
     "output_type": "execute_result"
    },
    {
     "data": {
      "image/png": "[encoded data removed]",
      "text/plain": [
       "<Figure size 432x288 with 1 Axes>"
      ]
     },
     "metadata": {
      "needs_background": "light"
     },
     "output_type": "display_data"
    }
   ],
   "source": [
    "import matplotlib.pyplot as plt\n",
    "\n",
    "providers = df.provider_id.unique()\n",
    "\n",
    "for provider in providers:\n",
    "    executions = df.loc[(df.provider_id == provider) & (df.command == \"Execution\") & (df.step == 1)].match_id.unique()\n",
    "    plt.bar(provider, len(executions))\n",
    "\n",
    "plt.title(\"Total executions per provider\")"
   ]
  },
  {
   "cell_type": "code",
   "execution_count": 6,
   "id": "4d4225ef",
   "metadata": {},
   "outputs": [
    {
     "name": "stderr",
     "output_type": "stream",
     "text": [
      "/opt/conda/lib/python3.9/site-packages/numpy/core/_asarray.py:102: UserWarning: Warning: converting a masked element to nan.\n",
      "  return array(a, dtype, copy=False, order=order)\n"
     ]
    },
    {
     "data": {
      "image/png": "[encoded data removed]",
      "text/plain": [
       "<Figure size 432x288 with 2 Axes>"
      ]
     },
     "metadata": {
      "needs_background": "light"
     },
     "output_type": "display_data"
    }
   ],
   "source": [
    "from typing import Tuple\n",
    "\n",
    "#commands = df.command.unique()\n",
    "commands = [\"Execution\", \"Checkout\"]\n",
    "fig, ax = plt.subplots(len(commands))\n",
    "\n",
    "for inx in range(len(commands)):\n",
    "    command = commands[inx]\n",
    "    for provider in providers:\n",
    "        execution_start = df.loc[(df.provider_id == provider) & (df.command == command) & (df.step == 1)].sort_values(by=['match_id'])\n",
    "        execution_end   = df.loc[(df.provider_id == provider) & (df.command == command) & (df.step == 2)].sort_values(by=['match_id'])\n",
    "\n",
    "        durations = pd.to_timedelta(execution_end.time_stamp.values - execution_start.time_stamp.values)\n",
    "        mean = durations.mean()\n",
    "        std = durations.std()\n",
    "\n",
    "        ax[inx].bar(provider, mean.total_seconds(), yerr=std.total_seconds(), capsize=10)\n",
    "        ax[inx].set_title(f\"Average {command}-time in seconds\")"
   ]
  },
  {
   "cell_type": "code",
   "execution_count": 7,
   "id": "68d5a453",
   "metadata": {},
   "outputs": [
    {
     "name": "stdout",
     "output_type": "stream",
     "text": [
      "<class 'pandas.core.frame.DataFrame'>\n",
      "RangeIndex: 168 entries, 0 to 167\n",
      "Data columns (total 10 columns):\n",
      " #   Column             Non-Null Count  Dtype                                \n",
      "---  ------             --------------  -----                                \n",
      " 0   scenario_id        168 non-null    int64                                \n",
      " 1   simulation_id      168 non-null    object                               \n",
      " 2   trail_id           168 non-null    int64                                \n",
      " 3   time_stamp         168 non-null    datetime64[ns, pytz.FixedOffset(120)]\n",
      " 4   provider_id        168 non-null    object                               \n",
      " 5   step               168 non-null    int64                                \n",
      " 6   match_id           168 non-null    object                               \n",
      " 7   direction          168 non-null    object                               \n",
      " 8   bytes_transferred  168 non-null    int64                                \n",
      " 9   error              0 non-null      float64                              \n",
      "dtypes: datetime64[ns, pytz.FixedOffset(120)](1), float64(1), int64(4), object(4)\n",
      "memory usage: 13.2+ KB\n"
     ]
    },
    {
     "data": {
      "text/html": [
       "<div>\n",
       "<style scoped>\n",
       "    .dataframe tbody tr th:only-of-type {\n",
       "        vertical-align: middle;\n",
       "    }\n",
       "\n",
       "    .dataframe tbody tr th {\n",
       "        vertical-align: top;\n",
       "    }\n",
       "\n",
       "    .dataframe thead th {\n",
       "        text-align: right;\n",
       "    }\n",
       "</style>\n",
       "<table border=\"1\" class=\"dataframe\">\n",
       "  <thead>\n",
       "    <tr style=\"text-align: right;\">\n",
       "      <th></th>\n",
       "      <th>scenario_id</th>\n",
       "      <th>simulation_id</th>\n",
       "      <th>trail_id</th>\n",
       "      <th>time_stamp</th>\n",
       "      <th>provider_id</th>\n",
       "      <th>step</th>\n",
       "      <th>match_id</th>\n",
       "      <th>direction</th>\n",
       "      <th>bytes_transferred</th>\n",
       "      <th>error</th>\n",
       "    </tr>\n",
       "  </thead>\n",
       "  <tbody>\n",
       "    <tr>\n",
       "      <th>0</th>\n",
       "      <td>123</td>\n",
       "      <td>tictoc-540cf318</td>\n",
       "      <td>1</td>\n",
       "      <td>2021-08-28 13:45:14.182027+02:00</td>\n",
       "      <td>raspberry3b-89798c31</td>\n",
       "      <td>1</td>\n",
       "      <td>0x2735037f</td>\n",
       "      <td>Upload</td>\n",
       "      <td>0</td>\n",
       "      <td>NaN</td>\n",
       "    </tr>\n",
       "    <tr>\n",
       "      <th>1</th>\n",
       "      <td>123</td>\n",
       "      <td>tictoc-540cf318</td>\n",
       "      <td>1</td>\n",
       "      <td>2021-08-28 13:45:14.537951+02:00</td>\n",
       "      <td>raspberry3-9f5b711c</td>\n",
       "      <td>1</td>\n",
       "      <td>0x1b318f11</td>\n",
       "      <td>Upload</td>\n",
       "      <td>0</td>\n",
       "      <td>NaN</td>\n",
       "    </tr>\n",
       "    <tr>\n",
       "      <th>2</th>\n",
       "      <td>123</td>\n",
       "      <td>tictoc-540cf318</td>\n",
       "      <td>1</td>\n",
       "      <td>2021-08-28 13:45:14.554132+02:00</td>\n",
       "      <td>raspberry4-980aff71</td>\n",
       "      <td>1</td>\n",
       "      <td>0x5dc46ad6</td>\n",
       "      <td>Upload</td>\n",
       "      <td>0</td>\n",
       "      <td>NaN</td>\n",
       "    </tr>\n",
       "    <tr>\n",
       "      <th>3</th>\n",
       "      <td>123</td>\n",
       "      <td>tictoc-540cf318</td>\n",
       "      <td>1</td>\n",
       "      <td>2021-08-28 13:45:18.303937+02:00</td>\n",
       "      <td>raspberry3b-89798c31</td>\n",
       "      <td>2</td>\n",
       "      <td>0x2735037f</td>\n",
       "      <td>Upload</td>\n",
       "      <td>459164</td>\n",
       "      <td>NaN</td>\n",
       "    </tr>\n",
       "    <tr>\n",
       "      <th>4</th>\n",
       "      <td>123</td>\n",
       "      <td>tictoc-540cf318</td>\n",
       "      <td>1</td>\n",
       "      <td>2021-08-28 13:45:19.312113+02:00</td>\n",
       "      <td>raspberry4-980aff71</td>\n",
       "      <td>2</td>\n",
       "      <td>0x5dc46ad6</td>\n",
       "      <td>Upload</td>\n",
       "      <td>459164</td>\n",
       "      <td>NaN</td>\n",
       "    </tr>\n",
       "  </tbody>\n",
       "</table>\n",
       "</div>"
      ],
      "text/plain": [
       "   scenario_id    simulation_id  trail_id                       time_stamp  \\\n",
       "0          123  tictoc-540cf318         1 2021-08-28 13:45:14.182027+02:00   \n",
       "1          123  tictoc-540cf318         1 2021-08-28 13:45:14.537951+02:00   \n",
       "2          123  tictoc-540cf318         1 2021-08-28 13:45:14.554132+02:00   \n",
       "3          123  tictoc-540cf318         1 2021-08-28 13:45:18.303937+02:00   \n",
       "4          123  tictoc-540cf318         1 2021-08-28 13:45:19.312113+02:00   \n",
       "\n",
       "            provider_id  step    match_id direction  bytes_transferred  error  \n",
       "0  raspberry3b-89798c31     1  0x2735037f    Upload                  0    NaN  \n",
       "1   raspberry3-9f5b711c     1  0x1b318f11    Upload                  0    NaN  \n",
       "2   raspberry4-980aff71     1  0x5dc46ad6    Upload                  0    NaN  \n",
       "3  raspberry3b-89798c31     2  0x2735037f    Upload             459164    NaN  \n",
       "4   raspberry4-980aff71     2  0x5dc46ad6    Upload             459164    NaN  "
      ]
     },
     "execution_count": 7,
     "metadata": {},
     "output_type": "execute_result"
    }
   ],
   "source": [
    "dft = pd.read_csv(\"opp-edge-eval-transfers.csv\", parse_dates=['time_stamp'])\n",
    "dft.info()\n",
    "dft.head()"
   ]
  },
  {
   "cell_type": "code",
   "execution_count": 8,
   "id": "7169a0c5",
   "metadata": {},
   "outputs": [
    {
     "data": {
      "text/plain": [
       "Text(0.5, 1.0, 'Bytes transferred')"
      ]
     },
     "execution_count": 8,
     "metadata": {},
     "output_type": "execute_result"
    },
    {
     "data": {
      "image/png": "[encoded data removed]",
      "text/plain": [
       "<Figure size 432x288 with 1 Axes>"
      ]
     },
     "metadata": {
      "needs_background": "light"
     },
     "output_type": "display_data"
    }
   ],
   "source": [
    "t_uploaded = dft.loc[(dft.direction == \"Upload\")].bytes_transferred\n",
    "plt.bar(\"Upload\", t_uploaded.sum())\n",
    "\n",
    "t_downloaded = dft.loc[(dft.direction == \"Download\")].bytes_transferred\n",
    "plt.bar(\"Download\", t_downloaded.sum())\n",
    "\n",
    "plt.title(\"Bytes transferred\")"
   ]
  },
  {
   "cell_type": "code",
   "execution_count": 20,
   "id": "bfda1f3c",
   "metadata": {},
   "outputs": [
    {
     "name": "stdout",
     "output_type": "stream",
     "text": [
      "Upload raspberry3b-89798c31 459164 4.12191 0.11139593052735262\n",
      "Upload raspberry3-9f5b711c 2556316 8.124676 0.31463605441004666\n",
      "Upload raspberry4-980aff71 2556316 7.455781 0.3428636114714206\n",
      "Download raspberry3b-89798c31 52428800 347.592963 0.15083389360790944\n",
      "Download raspberry3-9f5b711c 25165824 199.77129 0.1259731766261308\n",
      "Download raspberry4-980aff71 88080384 1052.372068 0.0836969990731453\n"
     ]
    },
    {
     "data": {
      "image/png": "[encoded data removed]",
      "text/plain": [
       "<Figure size 432x288 with 2 Axes>"
      ]
     },
     "metadata": {
      "needs_background": "light"
     },
     "output_type": "display_data"
    }
   ],
   "source": [
    "directions = dft.direction.unique()\n",
    "providers = dft.provider_id.unique()\n",
    "fig, ax = plt.subplots(len(directions))\n",
    "\n",
    "for inx in range(len(directions)):\n",
    "    direction = directions[inx]\n",
    "    for provider in providers:\n",
    "        start = dft.loc[(dft.provider_id == provider) & (dft.direction == direction) & (dft.step == 1)].sort_values(by=['match_id'])\n",
    "        end   = dft.loc[(dft.provider_id == provider) & (dft.direction == direction) & (dft.step == 2)].sort_values(by=['match_id'])\n",
    "        \n",
    "        durations = pd.to_timedelta(end.time_stamp.values - start.time_stamp.values)\n",
    "        transferspeed = (end.bytes_transferred.sum() / 1000000) / durations.sum().total_seconds()\n",
    "\n",
    "        print(direction, provider, end.bytes_transferred.sum(), durations.sum().total_seconds(), transferspeed)\n",
    "\n",
    "        ax[inx].bar(provider, transferspeed)\n",
    "        ax[inx].set_title(f\"Mean {direction} Rate (megabytes / second)\")\n",
    "        "
   ]
  },
  {
   "cell_type": "code",
   "execution_count": 11,
   "id": "4112a339",
   "metadata": {},
   "outputs": [
    {
     "name": "stdout",
     "output_type": "stream",
     "text": [
      "Upload raspberry3b-89798c31 459164 4.12191 0.11139593052735262\n",
      "Download raspberry3b-89798c31 52428800 347.592963 0.15083389360790944\n",
      "Upload raspberry3-9f5b711c 2556316 8.124676 0.31463605441004666\n",
      "Download raspberry3-9f5b711c 25165824 199.77129 0.1259731766261308\n",
      "Upload raspberry4-980aff71 2556316 7.455781 0.3428636114714206\n",
      "Download raspberry4-980aff71 88080384 1052.372068 0.0836969990731453\n"
     ]
    },
    {
     "data": {
      "text/plain": [
       "([0, 1, 2, 3, 4, 5],\n",
       " [Text(0, 0, ''),\n",
       "  Text(0, 0, ''),\n",
       "  Text(0, 0, ''),\n",
       "  Text(0, 0, ''),\n",
       "  Text(0, 0, ''),\n",
       "  Text(0, 0, '')])"
      ]
     },
     "execution_count": 11,
     "metadata": {},
     "output_type": "execute_result"
    },
    {
     "data": {
      "image/png": "[encoded data removed]",
      "text/plain": [
       "<Figure size 432x288 with 1 Axes>"
      ]
     },
     "metadata": {
      "needs_background": "light"
     },
     "output_type": "display_data"
    }
   ],
   "source": [
    "directions = dft.direction.unique()\n",
    "providers = dft.provider_id.unique()\n",
    "\n",
    "colors = [\"blue\", \"green\"]\n",
    "\n",
    "for provider in providers:\n",
    "    for inx in range(len(directions)):\n",
    "        direction = directions[inx]\n",
    "        start = dft.loc[(dft.provider_id == provider) & (dft.direction == direction) & (dft.step == 1)].sort_values(by=['match_id'])\n",
    "        end   = dft.loc[(dft.provider_id == provider) & (dft.direction == direction) & (dft.step == 2)].sort_values(by=['match_id'])\n",
    "        \n",
    "        durations = pd.to_timedelta(end.time_stamp.values - start.time_stamp.values)\n",
    "        transferspeed = (end.bytes_transferred.sum() / 1000000) / durations.sum().total_seconds()\n",
    "\n",
    "        print(direction, provider, end.bytes_transferred.sum(), durations.sum().total_seconds(), transferspeed)\n",
    "        \n",
    "        plt.bar(f\"{provider}-{direction}\", transferspeed, label=direction, color=colors[inx])\n",
    "        \n",
    "plt.title(f\"Mean Transferate Rate (megabytes / second)\")\n",
    "plt.xticks(rotation=90)\n"
   ]
  },
  {
   "cell_type": "code",
   "execution_count": 48,
   "id": "8db6f3f6",
   "metadata": {},
   "outputs": [
    {
     "name": "stdout",
     "output_type": "stream",
     "text": [
      "raspberry3b-89798c31 Upload 4.12191\n",
      "raspberry3b-89798c31 Download 347.592963\n",
      "raspberry3b-89798c31 Checkout 0.204025\n",
      "raspberry3b-89798c31 Compile 55.961877\n",
      "raspberry3b-89798c31 Execution 498.24729\n",
      "raspberry3-9f5b711c Upload 8.124676\n",
      "raspberry3-9f5b711c Download 199.77129\n",
      "raspberry3-9f5b711c Checkout 0.442725\n",
      "raspberry3-9f5b711c Compile 0.0\n",
      "raspberry3-9f5b711c Execution 474.658759\n",
      "raspberry4-980aff71 Upload 7.455781\n",
      "raspberry4-980aff71 Download 1052.372068\n",
      "raspberry4-980aff71 Checkout 0.27758\n",
      "raspberry4-980aff71 Compile 0.0\n",
      "raspberry4-980aff71 Execution 402.308216\n"
     ]
    },
    {
     "data": {
      "text/plain": [
       "Text(0.5, 1.0, 'Spent time per device')"
      ]
     },
     "execution_count": 48,
     "metadata": {},
     "output_type": "execute_result"
    },
    {
     "data": {
      "image/png": "[encoded data removed]",
      "text/plain": [
       "<Figure size 432x288 with 1 Axes>"
      ]
     },
     "metadata": {
      "needs_background": "light"
     },
     "output_type": "display_data"
    }
   ],
   "source": [
    "for provider in providers:\n",
    "    for direction in directions:\n",
    "        start = dft.loc[(dft.provider_id == provider) & (dft.direction == direction) & (dft.step == 1)].sort_values(by=['match_id'])\n",
    "        end   = dft.loc[(dft.provider_id == provider) & (dft.direction == direction) & (dft.step == 2)].sort_values(by=['match_id'])\n",
    "        \n",
    "        durations = pd.to_timedelta(end.time_stamp.values - start.time_stamp.values)\n",
    "        time = durations.sum().total_seconds()\n",
    "\n",
    "        print(provider, direction, time)\n",
    "        plt.bar(f\"{provider}-{direction}\", time)\n",
    "\n",
    "    for command in df.command.unique():\n",
    "        start = df.loc[(df.provider_id == provider) & (df.command == command) & (df.step == 1)].sort_values(by=['match_id'])\n",
    "        end   = df.loc[(df.provider_id == provider) & (df.command == command) & (df.step == 2)].sort_values(by=['match_id'])\n",
    "\n",
    "        durations = pd.to_timedelta(end.time_stamp.values - start.time_stamp.values)\n",
    "        time = durations.sum().total_seconds()\n",
    "        \n",
    "        print(provider, command, time)\n",
    "        \n",
    "        plt.bar(f\"{provider}-{command}\", time)\n",
    "\n",
    "plt.xticks(rotation=90)\n",
    "plt.title(\"Spent time per device\")\n",
    "        "
   ]
  },
  {
   "cell_type": "code",
   "execution_count": 52,
   "id": "65b24a23",
   "metadata": {},
   "outputs": [
    {
     "name": "stdout",
     "output_type": "stream",
     "text": [
      "raspberry4-980aff71 Upload 19.702367\n",
      "raspberry4-980aff71 Download 1599.736321\n",
      "raspberry4-980aff71 Checkout 0.27758\n",
      "raspberry4-980aff71 Compile 0.0\n",
      "raspberry4-980aff71 Execution 402.308216\n"
     ]
    },
    {
     "data": {
      "text/plain": [
       "Text(0.5, 1.0, 'Total time spent')"
      ]
     },
     "execution_count": 52,
     "metadata": {},
     "output_type": "execute_result"
    },
    {
     "data": {
      "image/png": "[encoded data removed]",
      "text/plain": [
       "<Figure size 432x288 with 1 Axes>"
      ]
     },
     "metadata": {
      "needs_background": "light"
     },
     "output_type": "display_data"
    }
   ],
   "source": [
    "for direction in directions:\n",
    "    start = dft.loc[(dft.direction == direction) & (dft.step == 1)].sort_values(by=['match_id'])\n",
    "    end   = dft.loc[(dft.direction == direction) & (dft.step == 2)].sort_values(by=['match_id'])\n",
    "\n",
    "    durations = pd.to_timedelta(end.time_stamp.values - start.time_stamp.values)\n",
    "    time = durations.sum().total_seconds()\n",
    "\n",
    "    print(provider, direction, time)\n",
    "    plt.bar(f\"{direction}\", time)\n",
    "\n",
    "for command in df.command.unique():\n",
    "    start = df.loc[(df.provider_id == provider) & (df.command == command) & (df.step == 1)].sort_values(by=['match_id'])\n",
    "    end   = df.loc[(df.provider_id == provider) & (df.command == command) & (df.step == 2)].sort_values(by=['match_id'])\n",
    "\n",
    "    durations = pd.to_timedelta(end.time_stamp.values - start.time_stamp.values)\n",
    "    time = durations.sum().total_seconds()\n",
    "\n",
    "    print(provider, command, time)\n",
    "\n",
    "    plt.bar(f\"{command}\", time)\n",
    "\n",
    "plt.xticks(rotation=90)\n",
    "plt.title(\"Total time spent\")\n"
   ]
  },
  {
   "cell_type": "code",
   "execution_count": null,
   "id": "b5e3a7b9",
   "metadata": {},
   "outputs": [],
   "source": []
  }
 ],
 "metadata": {
  "kernelspec": {
   "display_name": "Python 3 (ipykernel)",
   "language": "python",
   "name": "python3"
  },
  "language_info": {
   "codemirror_mode": {
    "name": "ipython",
    "version": 3
   },
   "file_extension": ".py",
   "mimetype": "text/x-python",
   "name": "python",
   "nbconvert_exporter": "python",
   "pygments_lexer": "ipython3",
   "version": "3.9.6"
  }
 },
 "nbformat": 4,
 "nbformat_minor": 5
}
