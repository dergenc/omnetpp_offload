{
 "cells": [
  {
   "cell_type": "code",
   "execution_count": 1,
   "id": "de0b53b9",
   "metadata": {},
   "outputs": [
    {
     "name": "stdout",
     "output_type": "stream",
     "text": [
      "<class 'pandas.core.frame.DataFrame'>\n",
      "RangeIndex: 98 entries, 0 to 97\n",
      "Data columns (total 3 columns):\n",
      " #   Column      Non-Null Count  Dtype          \n",
      "---  ------      --------------  -----          \n",
      " 0   scenarioId  98 non-null     object         \n",
      " 1   trailId     98 non-null     int64          \n",
      " 2   duration    98 non-null     timedelta64[ns]\n",
      "dtypes: int64(1), object(1), timedelta64[ns](1)\n",
      "memory usage: 2.4+ KB\n"
     ]
    },
    {
     "data": {
      "text/html": [
       "<div>\n",
       "<style scoped>\n",
       "    .dataframe tbody tr th:only-of-type {\n",
       "        vertical-align: middle;\n",
       "    }\n",
       "\n",
       "    .dataframe tbody tr th {\n",
       "        vertical-align: top;\n",
       "    }\n",
       "\n",
       "    .dataframe thead th {\n",
       "        text-align: right;\n",
       "    }\n",
       "</style>\n",
       "<table border=\"1\" class=\"dataframe\">\n",
       "  <thead>\n",
       "    <tr style=\"text-align: right;\">\n",
       "      <th></th>\n",
       "      <th>scenarioId</th>\n",
       "      <th>trailId</th>\n",
       "      <th>duration</th>\n",
       "    </tr>\n",
       "  </thead>\n",
       "  <tbody>\n",
       "    <tr>\n",
       "      <th>0</th>\n",
       "      <td>pj1</td>\n",
       "      <td>0</td>\n",
       "      <td>0 days 00:03:23.654819449</td>\n",
       "    </tr>\n",
       "    <tr>\n",
       "      <th>1</th>\n",
       "      <td>pj1</td>\n",
       "      <td>1</td>\n",
       "      <td>0 days 00:03:19.052755295</td>\n",
       "    </tr>\n",
       "    <tr>\n",
       "      <th>2</th>\n",
       "      <td>pj1</td>\n",
       "      <td>2</td>\n",
       "      <td>0 days 00:02:55.802026394</td>\n",
       "    </tr>\n",
       "    <tr>\n",
       "      <th>3</th>\n",
       "      <td>pj1</td>\n",
       "      <td>3</td>\n",
       "      <td>0 days 00:02:54.141194488</td>\n",
       "    </tr>\n",
       "    <tr>\n",
       "      <th>4</th>\n",
       "      <td>pj1</td>\n",
       "      <td>4</td>\n",
       "      <td>0 days 00:02:56.646864269</td>\n",
       "    </tr>\n",
       "  </tbody>\n",
       "</table>\n",
       "</div>"
      ],
      "text/plain": [
       "  scenarioId  trailId                  duration\n",
       "0        pj1        0 0 days 00:03:23.654819449\n",
       "1        pj1        1 0 days 00:03:19.052755295\n",
       "2        pj1        2 0 days 00:02:55.802026394\n",
       "3        pj1        3 0 days 00:02:54.141194488\n",
       "4        pj1        4 0 days 00:02:56.646864269"
      ]
     },
     "execution_count": 1,
     "metadata": {},
     "output_type": "execute_result"
    }
   ],
   "source": [
    "import pandas as pd\n",
    "import numpy as np\n",
    "\n",
    "df = pd.read_csv(\"data/overhead.csv\")\n",
    "df[\"duration\"] = pd.to_timedelta(df[\"duration\"])\n",
    "\n",
    "df.info()\n",
    "df.head()"
   ]
  },
  {
   "cell_type": "code",
   "execution_count": 2,
   "id": "bf203578",
   "metadata": {},
   "outputs": [
    {
     "name": "stdout",
     "output_type": "stream",
     "text": [
      "pj1 185.859531 14.266039\n",
      "pj1d 170.213654 2.127524\n",
      "pj2 94.549088 0.523087\n",
      "pj2d 104.987703 0.757791\n",
      "pj4 58.368295 4.685338\n",
      "pj4d 60.945444 2.23372\n",
      "pj6 58.449251 6.890482\n",
      "pj6d 56.774441 0.318477\n",
      "pj8 61.002768 2.028928\n",
      "pj8d 55.473425 0.53397\n",
      "rj1 184.101496 4.332629\n",
      "rj1d 180.209352 9.334935\n",
      "rj2 94.991868 1.302356\n",
      "rj2d 91.361367 2.206944\n",
      "rj4 57.524066 3.372812\n",
      "rj4d 54.653805 2.33627\n",
      "rj6 55.877131 2.211386\n",
      "rj6d 53.855429 4.528243\n",
      "rj8 55.772041 1.748005\n",
      "rj8d 50.528234 0.747355\n"
     ]
    },
    {
     "data": {
      "text/plain": [
       "([0, 1, 2, 3, 4, 5, 6, 7, 8, 9, 10, 11, 12, 13, 14, 15, 16, 17, 18, 19],\n",
       " [Text(0, 0, ''),\n",
       "  Text(0, 0, ''),\n",
       "  Text(0, 0, ''),\n",
       "  Text(0, 0, ''),\n",
       "  Text(0, 0, ''),\n",
       "  Text(0, 0, ''),\n",
       "  Text(0, 0, ''),\n",
       "  Text(0, 0, ''),\n",
       "  Text(0, 0, ''),\n",
       "  Text(0, 0, ''),\n",
       "  Text(0, 0, ''),\n",
       "  Text(0, 0, ''),\n",
       "  Text(0, 0, ''),\n",
       "  Text(0, 0, ''),\n",
       "  Text(0, 0, ''),\n",
       "  Text(0, 0, ''),\n",
       "  Text(0, 0, ''),\n",
       "  Text(0, 0, ''),\n",
       "  Text(0, 0, ''),\n",
       "  Text(0, 0, '')])"
      ]
     },
     "execution_count": 2,
     "metadata": {},
     "output_type": "execute_result"
    },
    {
     "data": {
      "image/png": "[encoded data removed]",
      "text/plain": [
       "<Figure size 432x288 with 1 Axes>"
      ]
     },
     "metadata": {
      "needs_background": "light"
     },
     "output_type": "display_data"
    }
   ],
   "source": [
    "import matplotlib.pyplot as plt\n",
    "\n",
    "scenarios = df[\"scenarioId\"].sort_values().unique()\n",
    "\n",
    "for scenario in scenarios:\n",
    "    durations = df.loc[df.scenarioId == scenario].duration\n",
    "    mean = durations.mean()\n",
    "    std = durations.std()\n",
    "    \n",
    "    print(scenario, mean.total_seconds(), std.total_seconds())\n",
    "    plt.bar(f\"{scenario}\", mean.total_seconds(), yerr=std.total_seconds(), capsize=10)\n",
    "    \n",
    "plt.xticks(rotation = 90)\n"
   ]
  },
  {
   "cell_type": "code",
   "execution_count": null,
   "id": "3c25f517",
   "metadata": {},
   "outputs": [],
   "source": []
  },
  {
   "cell_type": "code",
   "execution_count": null,
   "id": "261a7a60",
   "metadata": {},
   "outputs": [],
   "source": []
  }
 ],
 "metadata": {
  "kernelspec": {
   "display_name": "Python 3 (ipykernel)",
   "language": "python",
   "name": "python3"
  },
  "language_info": {
   "codemirror_mode": {
    "name": "ipython",
    "version": 3
   },
   "file_extension": ".py",
   "mimetype": "text/x-python",
   "name": "python",
   "nbconvert_exporter": "python",
   "pygments_lexer": "ipython3",
   "version": "3.9.6"
  }
 },
 "nbformat": 4,
 "nbformat_minor": 5
}
