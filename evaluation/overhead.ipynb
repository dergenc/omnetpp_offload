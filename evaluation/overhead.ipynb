{
 "cells": [
  {
   "cell_type": "code",
   "execution_count": 1,
   "id": "de0b53b9",
   "metadata": {},
   "outputs": [
    {
     "name": "stdout",
     "output_type": "stream",
     "text": [
      "<class 'pandas.core.frame.DataFrame'>\n",
      "RangeIndex: 36 entries, 0 to 35\n",
      "Data columns (total 3 columns):\n",
      " #   Column    Non-Null Count  Dtype          \n",
      "---  ------    --------------  -----          \n",
      " 0   scenario  36 non-null     object         \n",
      " 1   run       36 non-null     int64          \n",
      " 2   duration  36 non-null     timedelta64[ns]\n",
      "dtypes: int64(1), object(1), timedelta64[ns](1)\n",
      "memory usage: 992.0+ bytes\n"
     ]
    },
    {
     "data": {
      "text/html": [
       "<div>\n",
       "<style scoped>\n",
       "    .dataframe tbody tr th:only-of-type {\n",
       "        vertical-align: middle;\n",
       "    }\n",
       "\n",
       "    .dataframe tbody tr th {\n",
       "        vertical-align: top;\n",
       "    }\n",
       "\n",
       "    .dataframe thead th {\n",
       "        text-align: right;\n",
       "    }\n",
       "</style>\n",
       "<table border=\"1\" class=\"dataframe\">\n",
       "  <thead>\n",
       "    <tr style=\"text-align: right;\">\n",
       "      <th></th>\n",
       "      <th>scenario</th>\n",
       "      <th>run</th>\n",
       "      <th>duration</th>\n",
       "    </tr>\n",
       "  </thead>\n",
       "  <tbody>\n",
       "    <tr>\n",
       "      <th>0</th>\n",
       "      <td>0</td>\n",
       "      <td>0</td>\n",
       "      <td>0 days 00:02:29.678116889</td>\n",
       "    </tr>\n",
       "    <tr>\n",
       "      <th>1</th>\n",
       "      <td>0</td>\n",
       "      <td>1</td>\n",
       "      <td>0 days 00:02:22.287326491</td>\n",
       "    </tr>\n",
       "    <tr>\n",
       "      <th>2</th>\n",
       "      <td>0</td>\n",
       "      <td>2</td>\n",
       "      <td>0 days 00:02:18.323407600</td>\n",
       "    </tr>\n",
       "    <tr>\n",
       "      <th>3</th>\n",
       "      <td>s1p</td>\n",
       "      <td>0</td>\n",
       "      <td>0 days 00:02:52.780802068</td>\n",
       "    </tr>\n",
       "    <tr>\n",
       "      <th>4</th>\n",
       "      <td>s1p</td>\n",
       "      <td>1</td>\n",
       "      <td>0 days 00:02:49.100352360</td>\n",
       "    </tr>\n",
       "  </tbody>\n",
       "</table>\n",
       "</div>"
      ],
      "text/plain": [
       "  scenario  run                  duration\n",
       "0        0    0 0 days 00:02:29.678116889\n",
       "1        0    1 0 days 00:02:22.287326491\n",
       "2        0    2 0 days 00:02:18.323407600\n",
       "3      s1p    0 0 days 00:02:52.780802068\n",
       "4      s1p    1 0 days 00:02:49.100352360"
      ]
     },
     "execution_count": 1,
     "metadata": {},
     "output_type": "execute_result"
    }
   ],
   "source": [
    "import pandas as pd\n",
    "import numpy as np\n",
    "\n",
    "df = pd.read_csv(\"data/overhead.csv\")\n",
    "df[\"duration\"] = pd.to_timedelta(df[\"duration\"])\n",
    "\n",
    "df.info()\n",
    "df.head()"
   ]
  },
  {
   "cell_type": "code",
   "execution_count": 2,
   "id": "bf203578",
   "metadata": {},
   "outputs": [
    {
     "name": "stdout",
     "output_type": "stream",
     "text": [
      "0 143.429616 5.762896\n",
      "s1p 170.54608 1.962985\n",
      "s1pd 195.410033 0.402105\n",
      "s1r 182.637015 10.999292\n",
      "s2p 94.75875 3.256885\n",
      "s2r 95.980823 3.039072\n",
      "s3p 54.480868 0.201717\n",
      "s3r 62.619681 1.589646\n",
      "s4p 52.459429 0.070384\n",
      "s4r 57.508204 2.991562\n",
      "s5p 53.202759 1.521337\n",
      "s5r 58.529243 1.44596\n"
     ]
    },
    {
     "data": {
      "image/png": "[encoded data removed]",
      "text/plain": [
       "<Figure size 432x288 with 1 Axes>"
      ]
     },
     "metadata": {
      "needs_background": "light"
     },
     "output_type": "display_data"
    }
   ],
   "source": [
    "import matplotlib.pyplot as plt\n",
    "\n",
    "scenarios = df[\"scenario\"].sort_values().unique()\n",
    "\n",
    "for scenario in scenarios:\n",
    "    durations = df.loc[df.scenario == scenario].duration\n",
    "    mean = durations.mean()\n",
    "    std = durations.std()\n",
    "    \n",
    "    print(scenario, mean.total_seconds(), std.total_seconds())\n",
    "    plt.bar(f\"{scenario}\", mean.total_seconds(), yerr=std.total_seconds(), capsize=10)"
   ]
  },
  {
   "cell_type": "code",
   "execution_count": null,
   "id": "3c25f517",
   "metadata": {},
   "outputs": [],
   "source": []
  }
 ],
 "metadata": {
  "kernelspec": {
   "display_name": "Python 3 (ipykernel)",
   "language": "python",
   "name": "python3"
  },
  "language_info": {
   "codemirror_mode": {
    "name": "ipython",
    "version": 3
   },
   "file_extension": ".py",
   "mimetype": "text/x-python",
   "name": "python",
   "nbconvert_exporter": "python",
   "pygments_lexer": "ipython3",
   "version": "3.9.6"
  }
 },
 "nbformat": 4,
 "nbformat_minor": 5
}
